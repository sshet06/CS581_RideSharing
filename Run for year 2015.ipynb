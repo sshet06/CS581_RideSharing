{
 "cells": [
  {
   "cell_type": "code",
   "execution_count": 1,
   "metadata": {},
   "outputs": [],
   "source": [
    "import main as rsg\n",
    "import pandas as pd\n",
    "from h3 import h3\n",
    "from tqdm import tqdm\n",
    "import pandas as pd\n",
    "import matplotlib.pyplot as plt\n",
    "import requests\n",
    "from h3 import h3\n",
    "import json\n",
    "from urllib.request import URLError, Request, urlopen\n",
    "from itertools import combinations\n",
    "from itertools import permutations\n",
    "from dateutil import parser\n",
    "from datetime import datetime, timedelta\n",
    "import math\n",
    "import networkx as nx\n",
    "home = \"/home/shet/Documents/CS_RideSharing/\"\n",
    "\n",
    "import time\n",
    "def ceil_dt(dt, delta):\n",
    "        return datetime.min + math.ceil((dt - datetime.min) / delta) * delta"
   ]
  },
  {
   "cell_type": "code",
   "execution_count": null,
   "metadata": {},
   "outputs": [
    {
     "name": "stdout",
     "output_type": "stream",
     "text": [
      "--------------------------------------------------------------\n",
      "Using data file /home/shet/Documents/CS_RideSharing/Data/LGA as pickup/LaGuardia_as_pickup_2015-Jan.csv\n",
      "Using distance file /home/shet/Documents/CS_RideSharing/Distance/LGA_as_pickup/2015-1.csv\n",
      "starting for Jan month....\n"
     ]
    },
    {
     "name": "stderr",
     "output_type": "stream",
     "text": [
      "  2%|▏         | 238/14781 [00:27<44:58,  5.39it/s]  "
     ]
    }
   ],
   "source": [
    "month_dic = {'Jan':'1','Feb':'2','Mar':'3','Apr':'4','May':'5','June':'6','July':'7','Aug':'8',\\\n",
    "            'Sep':'9','Oct':'10','Nov':'11','Dec':'12'}\n",
    "results = dict()\n",
    "distance_saved_montly = dict()\n",
    "trip_saved_montly = dict()\n",
    "for pool_time_window in [2]:\n",
    "    for folder in [(\"Data/LGA as pickup/LaGuardia_as_pickup_2015-\",\"Distance/LGA_as_pickup/2015-\",1),\\\n",
    "                  (\"/Data/LGA as dropoff/LaGuardia_as_dropoff_2015-\",\"Distance/LGA_drop_off/2015-\",2)]:\n",
    "        if 'pickup' in folder[0]:\n",
    "            resolution = (15,15)\n",
    "        else:\n",
    "            resolution = (10,8)\n",
    "            \n",
    "        #initialization\n",
    "        total_distance_saved = [0,0]\n",
    "        total_trip_saved = [0,0]\n",
    "        config = folder[0].split('/')[-1][:-1]+'_'+str(pool_time_window)\n",
    "        distance_saved_montly[config] = []\n",
    "        trip_saved_montly[config] = []\n",
    "        results[pool_time_window] = []\n",
    "        \n",
    "        for month in (\"Jan\",'Feb','Mar','Apr','May','June','July','Aug','Sep','Oct','Nov','Dec'):\n",
    "            distance_saved_montly[folder[0].split('/')[-1][:-1]+'_'+str(pool_time_window)+'_'+str(month)] = []\n",
    "            data_file = home+folder[0]+month+'.csv'\n",
    "            distance_file_name = home+folder[1]+month_dic[month]+'.csv'\n",
    "            print(\"--------------------------------------------------------------\")\n",
    "            print(\"Using data file {}\".format(data_file))\n",
    "            print(\"Using distance file {}\".format(distance_file_name))\n",
    "            df = pd.read_csv(data_file)\n",
    "            df_distance = pd.read_csv(distance_file_name)\n",
    "\n",
    "            df_distance.drop_duplicates(subset=['pickup_h3','dropoff_h3'],keep=False,inplace=True)\n",
    "            df_distance.set_index(['pickup_h3','dropoff_h3'],inplace= True)\n",
    "            df_distance = df_distance.sort_index()\n",
    "\n",
    "            columns = ['tpep_pickup_datetime', 'tpep_dropoff_datetime','passenger_count',\\\n",
    "           'trip_distance', 'pickup_longitude','pickup_latitude','dropoff_longitude', 'dropoff_latitude']\n",
    "            df = df[columns]\n",
    "            df.rename(columns={'tpep_pickup_datetime':'pickup_time','tpep_dropoff_datetime':'dropoff_time'},inplace=True)\n",
    "            drop_index=df[(df.pickup_latitude==0)|(df.pickup_longitude==0)|(df.trip_distance==0)].index\n",
    "            df.drop(drop_index,inplace=True)\n",
    "            df['pickup_time'] = pd.to_datetime(df['pickup_time'])\n",
    "            df['dropoff_time'] = pd.to_datetime(df['dropoff_time'])\n",
    "            df['pickup_h3'] = df.apply(lambda x: h3.geo_to_h3(x['pickup_latitude'], x['pickup_longitude'], resolution[0]), axis=1)\n",
    "            df['dropoff_h3'] = df.apply(lambda x: h3.geo_to_h3(x['dropoff_latitude'], x['dropoff_longitude'], resolution[1]), axis=1)\n",
    "\n",
    "            df.reset_index(drop=True,inplace=True)\n",
    "            df['duration'] = (df['pickup_time']-df['dropoff_time']).dt.seconds\n",
    "            df['delay'] = df['duration'].apply(lambda x: x*0.20)\n",
    "\n",
    "            df['pool_window'] = df['pickup_time'].apply(lambda x: ceil_dt(x.to_pydatetime(), timedelta(minutes=pool_time_window)))\n",
    "            print(\"starting for {} month....\".format(month))\n",
    "            distance_saved_num,distance_saved_deno,trip_saved_num,trip_saved_deno = rsg.main_algoritm(folder[2],df,df_distance)\n",
    "            del df ,df_distance\n",
    "            total_distance_saved[0]+= distance_saved_num\n",
    "            total_distance_saved[1]+= distance_saved_deno*100\n",
    "            total_trip_saved[0]+= trip_saved_num\n",
    "            total_trip_saved[1]+= trip_saved_deno\n",
    "            print(distance_saved_num/distance_saved_deno*100)\n",
    "            print(trip_saved_num/trip_saved_deno*100)\n",
    "            distance_saved_montly[config].append(distance_saved_num/distance_saved_deno*100)\n",
    "            trip_saved_montly[config].append(trip_saved_num/trip_saved_deno*100)\n",
    "            \n",
    "        #aggregrate 12 month results and save it into results   \n",
    "        distance_saved = (total_distance_saved[0]/total_distance_saved[1])*100\n",
    "        trip_saved = (total_trip_saved[0]/total_trip_saved[1])*100\n",
    "        results[pool_time_window].extend((distance_saved,trip_saved))\n",
    "        print(\"Average distance saved for {}  for pool window {} = {}\".format(folder[0].split('/')[-1][:-1],pool_time_window,distance_saved))\n",
    "        print(\"Average trip saved for {} for pool window {} = {}\".format(folder[0].split('/')[-1][:-1],pool_time_window,trip_saved))\n",
    "df_results = pd.DataFrame(columns= ['pool_windows','From_LGA_distance','From_LGA_trip','To_LGA_distance','To_LGA_trip'])\n",
    "for i,v in results.items():\n",
    "    df_results = pd.Series([i]+v, index=df_results.columns )\n",
    "    df_results = df_results.append(df1, ignore_index=True)\n",
    "df_results.to_csv('/home/shet/Documents/CS_RideSharing/to_lga_results.csv')\n",
    "\n",
    "print(distance_saved_montly)\n",
    "print(trip_saved_montly)\n"
   ]
  },
  {
   "cell_type": "code",
   "execution_count": null,
   "metadata": {},
   "outputs": [],
   "source": []
  }
 ],
 "metadata": {
  "kernelspec": {
   "display_name": "Python 3",
   "language": "python",
   "name": "python3"
  },
  "language_info": {
   "codemirror_mode": {
    "name": "ipython",
    "version": 3
   },
   "file_extension": ".py",
   "mimetype": "text/x-python",
   "name": "python",
   "nbconvert_exporter": "python",
   "pygments_lexer": "ipython3",
   "version": "3.7.5"
  }
 },
 "nbformat": 4,
 "nbformat_minor": 2
}
