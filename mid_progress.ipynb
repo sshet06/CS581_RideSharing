{
  "nbformat": 4,
  "nbformat_minor": 0,
  "metadata": {
    "colab": {
      "name": "Untitled",
      "provenance": []
    },
    "kernelspec": {
      "name": "python3",
      "display_name": "Python 3"
    }
  },
  "cells": [
    {
      "cell_type": "code",
      "metadata": {
        "id": "4ZEEEbf2DU2-",
        "colab_type": "code",
        "colab": {}
      },
      "source": [
        "import pandas as pd\n",
        "import matplotlib.pyplot as plt\n",
        "import requests\n",
        "from h3 import h3\n",
        "import json\n",
        "from urllib.request import URLError, Request, urlopen\n",
        "from itertools import combinations\n",
        "from itertools import permutations\n",
        "from dateutil import parser\n",
        "from datetime import datetime, timedelta\n",
        "import math\n",
        "import networkx as nx"
      ],
      "execution_count": 0,
      "outputs": []
    },
    {
      "cell_type": "code",
      "metadata": {
        "id": "MfKzkgGGDWMy",
        "colab_type": "code",
        "colab": {}
      },
      "source": [
        "df = pd.read_csv('Data/LaGuardia_Dropoff_Final.csv')\n",
        "columns = ['tpep_pickup_datetime', 'tpep_dropoff_datetime','passenger_count',\\\n",
        "           'trip_distance', 'pickup_longitude','pickup_latitude','dropoff_longitude', 'dropoff_latitude']\n",
        "df = df[columns]\n",
        "df.rename(columns={'tpep_pickup_datetime':'pickup_time',\n",
        "       'tpep_dropoff_datetime':'dropoff_time'},inplace=True)\n",
        "df['pickup_time'] = pd.to_datetime(df['pickup_time'])\n",
        "df['dropoff_time'] = pd.to_datetime(df['dropoff_time'])\n",
        "df['pickup_h3'] = df.apply(lambda x: h3.geo_to_h3(x['pickup_latitude'], x['pickup_longitude'], 8), axis=1)\n",
        "df['dropoff_h3'] = df.apply(lambda x: h3.geo_to_h3(x['dropoff_latitude'], x['dropoff_longitude'], 10), axis=1)\n",
        "\n",
        "\n",
        "start_date = '2016-01-29 08:00:00' # Start date with time\n",
        "end_date = '2016-01-30 23:59:59' # End date with time\n",
        "df=df[(df['pickup_time'] >= start_date) & (df['dropoff_time'] <= end_date)]\n",
        "df.head(10)"
      ],
      "execution_count": 0,
      "outputs": []
    },
    {
      "cell_type": "code",
      "metadata": {
        "id": "MZ82SRvdDX9E",
        "colab_type": "code",
        "colab": {}
      },
      "source": [
        "def ceil_dt(dt, delta):\n",
        "    return datetime.min + math.ceil((dt - datetime.min) / delta) * delta\n",
        "\n",
        "pool_time_window = 10 # Change pool time window\n",
        "df['pool_window'] = df['pickup_time'].apply(lambda x: ceil_dt(x.to_pydatetime(), timedelta(minutes=pool_time_window)))\n",
        "df['duration'] = (df['pickup_time']-df['dropoff_time']).dt.seconds\n",
        "df['delay'] = df['duration'].apply(lambda x: x*0.20)"
      ],
      "execution_count": 0,
      "outputs": []
    },
    {
      "cell_type": "code",
      "metadata": {
        "id": "2SVEVukqDaOc",
        "colab_type": "code",
        "colab": {}
      },
      "source": [
        "a,b,c,d=[],[],[],[]\n",
        "df_distance =  pd.DataFrame(columns = ['pickup_h3','dropoff_h3','distance','duration'])\n",
        "for node_a, node_b in list(permutations(df.index, 2)):\n",
        "    temp_curr, temp_next = [], []\n",
        "    try:\n",
        "        temp_curr = df.iloc[node_a]['pickup_h3']\n",
        "        temp_next = df.iloc[node_b]['pickup_h3']\n",
        "\n",
        "        e, f, g, h = df.iloc[node_a]['pickup_latitude'], df.iloc[node_a]['pickup_longitude'], df.iloc[node_b][\n",
        "            'pickup_latitude'], \\\n",
        "                     df.iloc[node_b]['pickup_longitude']\n",
        "        request_str = 'http://localhost:8989/route?point=' + str(e) + '%2C' + str(f) + '&point=' + str(\n",
        "            g) + '%2C' + str(h) + '&vehicle=car'\n",
        "        request = Request(request_str)\n",
        "        res = requests.get(request_str)\n",
        "        distance = json.loads(res.text)['paths'][0]['distance']\n",
        "        # threshold =\n",
        "        # if distance > threshold:\n",
        "        #     continue;\n",
        "        # NOTE: if you want to use geopy\n",
        "        #      geopy.distance.geodesic(loc1, loc2).miles where\n",
        "        #        [loc1, loc2] =\n",
        "        #               [(df.iloc[node_a]['pickup_latitude'], df.iloc[node_a]['pickup_longitude']),\n",
        "        #                 (df.iloc[node_b]['pickup_latitude'], df.iloc[node_b]['pickup_longitude'])]\n",
        "\n",
        "        time = json.loads(res.text)['paths'][0]['time']\n",
        "        minute, msec = divmod(time, 60000)\n",
        "        a.append(temp_curr)\n",
        "        b.append(temp_next)\n",
        "        c.append(distance / 1609.344)  # convert meters to miles\n",
        "        d.append(minute + (msec / 100000))  # convert ms to s and add to min\n",
        "\n",
        "    except:\n",
        "        continue;\n",
        "        \n",
        "df_distance['pickup_h3'] = a\n",
        "df_distance['dropoff_h3'] = b\n",
        "df_distance['distance'] = c\n",
        "df_distance['duration'] = d\n",
        "df_distance = df_distance.set_index(['pickup_h3','dropoff_h3'])\n",
        "df_distance.head(10)"
      ],
      "execution_count": 0,
      "outputs": []
    },
    {
      "cell_type": "code",
      "metadata": {
        "id": "61HRcKIFDc94",
        "colab_type": "code",
        "colab": {}
      },
      "source": [
        "class Node:\n",
        "    def __init__(self,idx,data):\n",
        "        self.id = idx\n",
        "        self.pickup_location = (data.pickup_latitude,data.pickup_longitude,data.pickup_h3)\n",
        "        self.dropoff_location = (data.dropoff_latitude,data.dropoff_longitude,data.dropoff_h3)\n",
        "        self.pickup_time = data.pickup_time\n",
        "        self.dropoff_time = data.dropoff_time\n",
        "        self.distance = data.trip_distance\n",
        "        self.duration = data.duration\n",
        "        self.delay = data.delay\n",
        "        #TBD.."
      ],
      "execution_count": 0,
      "outputs": []
    },
    {
      "cell_type": "code",
      "metadata": {
        "id": "IyOt9W3aDfBb",
        "colab_type": "code",
        "colab": {}
      },
      "source": [
        "def get_all_pairs(node_a,node_b,trip_type):\n",
        "    if trip_type == 1:\n",
        "        #Combination LGA--> a -->b\n",
        "        #if no distance call graphhopper \n",
        "        LGA_a_dist = df_distance.loc[(node_a.pickup_location[2],node_a.dropoff_location[2])]['distance']\n",
        "        a_b_dist = df_distance.loc[(node_a.dropoff_location[2],node_b.dropoff_location[2])]['distance']\n",
        "        LGA_a_dur = df_distance.loc[(node_a.pickup_location[2],node_a.dropoff_location[2])]['duration']\n",
        "        a_b_dur = df_distance.loc[(node_a.dropoff_location[2],node_b.dropoff_location[2])]['duration']\n",
        "        \n",
        "        #Combination LGA--> b -->a\n",
        "        LGA_b_dist = df_distance.loc[(node_b.pickup_location[2],node_b.dropoff_location[2])]['distance']\n",
        "        b_a_dist = df_distance.loc[(node_b.dropoff_location[2],node_a.dropoff_location[2])]['distance']\n",
        "        LGA_b_dur = df_distance.loc[(node_b.pickup_location[2],node_b.dropoff_location[2])]['duration']\n",
        "        b_a_dur = df_distance.loc[(node_b.dropoff_location[2],node_a.dropoff_location[2])]['duration']\n",
        "        \n",
        "        path_1_total_dis,path_1_total_dur = LGA_a_dist + a_b_dist,LGA_a_dur + a_b_dur \n",
        "        path_1_a_dur,path_1_b_dur = LGA_a_dur,path_1_total_dur\n",
        "        \n",
        "        path_2_total_dis,path_2_total_dur = LGA_b_dist+b_a_dist,LGA_b_dur+b_a_dur\n",
        "        path_2_a_dur,path_2_b_dur         = path_2_total_dur ,LGA_b_dur\n",
        "               \n",
        "    else:\n",
        "        #Combination a--> b --> LGA\n",
        "        a_b_dist = df_distance.loc[(node_a.pickup_location[2],node_b.pickup_location[2])]['distance']\n",
        "        b_LGA_dist = node_b.distance \n",
        "        a_b_dur = df_distance.loc[(node_a.pickup_location[2],node_b.pickup_location[2])]['duration']\n",
        "        b_LGA_dur = node_b.duration\n",
        "        \n",
        "        #Combination b--> a --> LGA\n",
        "        b_a_dist = df_distance.loc[(node_b.pickup_location[2],node_a.pickup_location[2])]['distance']\n",
        "        a_LGA_dist = node_a.distance \n",
        "        b_a_dur = df_distance.loc[(node_b.pickup_location[2],node_a.pickup_location[2])]['duration']\n",
        "        a_LGA_dur = node_a.duration\n",
        "        \n",
        "        path_1_total_dis,path_1_total_dur = a_b_dist + b_LGA_dist,a_b_dur + b_LGA_dur \n",
        "        path_1_a_dur,path_1_b_dur = path_1_total_dur,b_LGA_dur\n",
        "        \n",
        "        path_2_total_dis,path_2_total_dur, = b_a_dist+a_LGA_dist,b_a_dur+a_LGA_dur\n",
        "        path_2_a_dur,path_2_b_dur         = a_LGA_dur,path_2_total_dur\n",
        "        \n",
        "    return ((path_1_total_dis,path_1_total_dur,path_1_a_dur,path_1_b_dur),( path_2_total_dis,path_2_total_dur,path_2_a_dur,path_2_b_dur))"
      ],
      "execution_count": 0,
      "outputs": []
    },
    {
      "cell_type": "code",
      "metadata": {
        "id": "Im5shGAEDhTH",
        "colab_type": "code",
        "colab": {}
      },
      "source": [
        "def calculate_edge_weight(node_a,node_b):\n",
        "    path1,path2 = get_all_pairs(node_a,node_b,2)\n",
        "    minimum_distance = float('inf')\n",
        "    for path in (path1,path2):\n",
        "        distance_contraint = (path[0] <= node_a.distance + node_b.distance)\n",
        "        delay_constraint = (path[2] <= node_a.duration + node_a.delay) & (path[3] <= node_b.duration + node_b.delay)\n",
        "        #add social constraint too...\n",
        "        \n",
        "        \n",
        "        if distance_contraint and delay_constraint and path[0]< minimum_distance:\n",
        "            minimum_distance = path[0]\n",
        "    distance_saved = node_a.distance + node_b.distance - minimum_distance\n",
        "    return distance_saved"
      ],
      "execution_count": 0,
      "outputs": []
    },
    {
      "cell_type": "code",
      "metadata": {
        "id": "_Y3K8CrgDjIc",
        "colab_type": "code",
        "colab": {}
      },
      "source": [
        "def get_rsg(G):\n",
        "    for node_a,node_b in list(combinations(G,2)):\n",
        "        distance_saved = calculate_edge_weight(node_a,node_b)\n",
        "        if distance_saved!= float('inf'):\n",
        "            G.add_edge(node_a,node_b, weight=distance_saved)\n",
        "    return G"
      ],
      "execution_count": 0,
      "outputs": []
    },
    {
      "cell_type": "code",
      "metadata": {
        "id": "BUMyFGi4Dk4f",
        "colab_type": "code",
        "colab": {}
      },
      "source": [
        "graphs = []\n",
        "for _,trips in sample.groupby(['pool_window']):\n",
        "    nodes = []\n",
        "    trips = trips.reset_index()\n",
        "    for idx, row in trips.iterrows():\n",
        "        nodes.append(Node(idx,trips.iloc[idx]))\n",
        "    G = nx.Graph()\n",
        "    G.add_nodes_from(nodes)\n",
        "    graphs.append(G)\n",
        "    \n",
        "#Start of the code\n",
        "weight_matches = []\n",
        "for g in graphs:\n",
        "    ride_sharing_graph = get_rsg(g)\n",
        "    #maximum weighted algorithm\n",
        "    match = nx.max_weight_matching(ride_sharing_graph, maxcardinality=True)\n",
        "    g_match = nx.Graph()\n",
        "    for u,v in match:\n",
        "        g_match.add_edge(u,v)\n",
        "        \n",
        "    weight_matches.append(g_match"
      ],
      "execution_count": 0,
      "outputs": []
    },
    {
      "cell_type": "code",
      "metadata": {
        "id": "XcDdF7iLDnAw",
        "colab_type": "code",
        "colab": {}
      },
      "source": [
        "print(\"Selected edges by maximum weight algorithm\")\n",
        "for u,v in weight_matches[0].edges:\n",
        "    print(u.id,v.id,ride_sharing_graph.get_edge_data(u,v))"
      ],
      "execution_count": 0,
      "outputs": []
    }
  ]
}