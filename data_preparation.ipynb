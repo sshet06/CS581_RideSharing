{
 "cells": [
  {
   "cell_type": "code",
   "execution_count": 1,
   "metadata": {},
   "outputs": [],
   "source": [
    "import pandas as pd\n",
    "import numpy as np\n",
    "import seaborn as sns"
   ]
  },
  {
   "cell_type": "markdown",
   "metadata": {},
   "source": [
    "# Run below function to fetch data, filter it accrding to LaGuardia as drop-off or pick-up location. It also saved the filtered data as csv in your pc."
   ]
  },
  {
   "cell_type": "code",
   "execution_count": 2,
   "metadata": {},
   "outputs": [
    {
     "name": "stdout",
     "output_type": "stream",
     "text": [
      "Enter Month number(1-12): 11\n"
     ]
    }
   ],
   "source": [
    "month_number = input(\"Enter Month number(1-12): \")\n",
    "month_number = int(month_number)\n",
    "if month_number == 1:\n",
    "    month_name = \"January 2016\"\n",
    "    url = \"https://s3.amazonaws.com/nyc-tlc/trip+data/yellow_tripdata_2016-0\"+ str(month_number)+\".csv\"\n",
    "if month_number == 2:\n",
    "    month_name = \"February 2016\"\n",
    "    url = \"https://s3.amazonaws.com/nyc-tlc/trip+data/yellow_tripdata_2016-0\"+ str(month_number)+\".csv\"\n",
    "if month_number == 3:\n",
    "    month_name = \"March 2016\"\n",
    "    url = \"https://s3.amazonaws.com/nyc-tlc/trip+data/yellow_tripdata_2016-0\"+ str(month_number)+\".csv\"\n",
    "if month_number == 4:\n",
    "    month_name = \"April 2016\"\n",
    "    url = \"https://s3.amazonaws.com/nyc-tlc/trip+data/yellow_tripdata_2016-0\"+ str(month_number)+\".csv\"\n",
    "if month_number == 5:\n",
    "    month_name = \"May 2016\"\n",
    "    url = \"https://s3.amazonaws.com/nyc-tlc/trip+data/yellow_tripdata_2016-0\"+ str(month_number)+\".csv\"\n",
    "if month_number == 6:\n",
    "    month_name = \"June 2016\"\n",
    "    url = \"https://s3.amazonaws.com/nyc-tlc/trip+data/yellow_tripdata_2016-0\"+ str(month_number)+\".csv\"\n",
    "if month_number == 7:\n",
    "    month_name = \"July 2015\"\n",
    "    url = \"https://s3.amazonaws.com/nyc-tlc/trip+data/yellow_tripdata_2015-0\"+ str(month_number)+\".csv\"\n",
    "if month_number == 8:\n",
    "    month_name = \"August 2015\"\n",
    "    url = \"https://s3.amazonaws.com/nyc-tlc/trip+data/yellow_tripdata_2015-0\"+ str(month_number)+\".csv\"\n",
    "if month_number == 9:\n",
    "    month_name = \"September 2015\"\n",
    "    url = \"https://s3.amazonaws.com/nyc-tlc/trip+data/yellow_tripdata_2015-0\"+ str(month_number)+\".csv\"\n",
    "if month_number == 10:\n",
    "    month_name = \"October 2015\"\n",
    "    url = \"https://s3.amazonaws.com/nyc-tlc/trip+data/yellow_tripdata_2015-\"+ str(month_number)+\".csv\"\n",
    "if month_number == 11:\n",
    "    month_name = \"November 2015\"\n",
    "    url = \"https://s3.amazonaws.com/nyc-tlc/trip+data/yellow_tripdata_2015-\"+ str(month_number)+\".csv\"\n",
    "if month_number == 12:\n",
    "    month_name = \"December 2015\"\n",
    "    url = \"https://s3.amazonaws.com/nyc-tlc/trip+data/yellow_tripdata_2015-\"+ str(month_number)+\".csv\"\n",
    "df=pd.read_csv(url)\n",
    "    \n",
    "    \n",
    "df_as_dropoff = df[df['dropoff_longitude'] >= -73.8741]\n",
    "df_as_dropoff = df_as_dropoff[df_as_dropoff['dropoff_longitude'] <= -73.8613]\n",
    "df_as_dropoff = df_as_dropoff[df_as_dropoff['dropoff_latitude'] >= 40.7633]\n",
    "df_as_dropoff = df_as_dropoff[df_as_dropoff['dropoff_latitude'] <= 40.7713]\n",
    "df_as_dropoff.to_csv(r'd:/LaGuardia_as_dropoff_'+str(month_name)+'.csv')\n",
    "\n",
    "df_as_pickup = df[df['pickup_longitude'] >= -73.8741]\n",
    "df_as_pickup = df_as_pickup[df_as_pickup['pickup_longitude'] <= -73.8613]\n",
    "df_as_pickup = df_as_pickup[df_as_pickup['pickup_latitude'] >= 40.7633]\n",
    "df_as_pickup = df_as_pickup[df_as_pickup['pickup_latitude'] <= 40.7713]\n",
    "df_as_pickup.to_csv(r'd:/LaGuardia_as_pickup_'+str(month_name)+'.csv')\n"
   ]
  },
  {
   "cell_type": "code",
   "execution_count": 34,
   "metadata": {},
   "outputs": [],
   "source": [
    "df_as_dropoff = df[df['dropoff_longitude'] >= -73.8741]\n",
    "df_as_dropoff = df_as_dropoff[df_as_dropoff['dropoff_longitude'] <= -73.8613]\n",
    "df_as_dropoff = df_as_dropoff[df_as_dropoff['dropoff_latitude'] >= 40.7633]\n",
    "df_as_dropoff = df_as_dropoff[df_as_dropoff['dropoff_latitude'] <= 40.7713]\n",
    "df_as_dropoff.to_csv(r'd:/LaGuardia_as_dropoff_'+str(month_name)+'.csv')"
   ]
  }
 ],
 "metadata": {
  "kernelspec": {
   "display_name": "Python 3",
   "language": "python",
   "name": "python3"
  },
  "language_info": {
   "codemirror_mode": {
    "name": "ipython",
    "version": 3
   },
   "file_extension": ".py",
   "mimetype": "text/x-python",
   "name": "python",
   "nbconvert_exporter": "python",
   "pygments_lexer": "ipython3",
   "version": "3.7.5"
  }
 },
 "nbformat": 4,
 "nbformat_minor": 4
}
