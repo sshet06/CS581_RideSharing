{
 "cells": [
  {
   "cell_type": "code",
   "execution_count": 27,
   "metadata": {},
   "outputs": [],
   "source": [
    "import pandas as pd\n",
    "import matplotlib.pyplot as plt\n",
    "import requests\n",
    "from h3 import h3\n",
    "import json\n",
    "from urllib.request import URLError, Request, urlopen\n",
    "from itertools import combinations\n",
    "from itertools import permutations\n",
    "from dateutil import parser\n",
    "from datetime import datetime, timedelta\n",
    "import math\n",
    "import networkx as nx"
   ]
  },
  {
   "cell_type": "code",
   "execution_count": 2,
   "metadata": {},
   "outputs": [],
   "source": [
    "df = pd.read_csv('Data/LaGuardia_Dropoff_Final.csv')\n",
    "columns = ['tpep_pickup_datetime', 'tpep_dropoff_datetime','passenger_count',\\\n",
    "           'trip_distance', 'pickup_longitude','pickup_latitude','dropoff_longitude', 'dropoff_latitude']\n",
    "df = df[columns]\n",
    "df.rename(columns={'tpep_pickup_datetime':'pickup_time',\n",
    "       'tpep_dropoff_datetime':'dropoff_time'},inplace=True)\n",
    "df['pickup_time'] = pd.to_datetime(df['pickup_time'])\n",
    "df['dropoff_time'] = pd.to_datetime(df['dropoff_time'])\n",
    "df['pickup_h3'] = df.apply(lambda x: h3.geo_to_h3(x['pickup_latitude'], x['pickup_longitude'], 8), axis=1)\n",
    "df['dropoff_h3'] = df.apply(lambda x: h3.geo_to_h3(x['dropoff_latitude'], x['dropoff_longitude'], 10), axis=1)\n",
    "\n",
    "\n",
    "start_date = '2016-01-29 08:00:00' # Start date with time\n",
    "end_date = '2016-01-30 23:59:59' # End date with time\n",
    "df=df[(df['pickup_time'] >= start_date) & (df['dropoff_time'] <= end_date)]"
   ]
  },
  {
   "cell_type": "markdown",
   "metadata": {},
   "source": [
    "# Installation steps\n",
    "\n",
    "\n",
    "### 1.Install the latest JRE and get GraphHopper Server as zip from <a href=https://graphhopper.com/public/releases/graphhopper-web-0.10.3-bin.zip>Graphhopper API</a>. Unzip it.\n",
    "### 2.Copy this OSM file into the SAME unzipped directory: <a href=https://download.geofabrik.de/north-america/us/new-york-latest.osm.pbf >new-york-latest.osm.pbf</a>\n",
    "### 3.Start GraphHopper Maps via: ava -jar graphhopper-web-0.10.3-with-dep.jar jetty.resourcebase=webapp config=config-example.properties datareader.file=new-york-latest.osm.pbf. \n",
    "### 3.Test to see if its running after you see 'Started server at HTTP 8989' by going to http://localhost:8989/ and you should see a map of New York.\n",
    "### 4.Keep this running when executing our program because this is the API"
   ]
  },
  {
   "cell_type": "code",
   "execution_count": 124,
   "metadata": {},
   "outputs": [
    {
     "name": "stdout",
     "output_type": "stream",
     "text": [
      "Distance = 14964.969\n",
      "Time = 892052\n"
     ]
    }
   ],
   "source": [
    "#Check how graphhopper works\n",
    "a,b,c,d = df['pickup_latitude'][0],df['pickup_longitude'][0],df['dropoff_latitude'][0],df['dropoff_longitude'][0]\n",
    "request_str = 'http://localhost:8989/route?point=' + str(a) + '%2C' + str(b) + '&point=' + str(\n",
    "            c) + '%2C' + str(d) + '&vehicle=car'\n",
    "request = Request(request_str)\n",
    "res=requests.get(request_str)\n",
    "print(\"Distance = {}\".format(json.loads(res.text)['paths'][0]['distance']))\n",
    "print(\"Time = {}\".format(json.loads(res.text)['paths'][0]['time']))"
   ]
  },
  {
   "cell_type": "markdown",
   "metadata": {},
   "source": [
    "# To calculate pool_window.\n",
    "## The dataframe will be divided into pools.We run algorithm for each of these pools"
   ]
  },
  {
   "cell_type": "code",
   "execution_count": 3,
   "metadata": {},
   "outputs": [],
   "source": [
    "def ceil_dt(dt, delta):\n",
    "    return datetime.min + math.ceil((dt - datetime.min) / delta) * delta\n",
    "\n",
    "pool_time_window = 10 # Change pool time window\n",
    "df['pool_window'] = df['pickup_time'].apply(lambda x: ceil_dt(x.to_pydatetime(), timedelta(minutes=pool_time_window)))\n",
    "df['duration'] = (df['pickup_time']-df['dropoff_time']).dt.seconds\n",
    "df['delay'] = df['duration'].apply(lambda x: x*0.20)"
   ]
  },
  {
   "cell_type": "markdown",
   "metadata": {},
   "source": [
    "## This is expected to be calculated and stored in a csv file. Later loaded into a dataframe before running the algorithm.The columns that should be stored in the csv files are same as following dataframe."
   ]
  },
  {
   "cell_type": "code",
   "execution_count": 40,
   "metadata": {},
   "outputs": [],
   "source": [
    "df_distance =  pd.DataFrame(columns = ['pickup_h3','dropoff_h3','distance','duration'])"
   ]
  },
  {
   "cell_type": "markdown",
   "metadata": {},
   "source": [
    "# The nodes of the graph"
   ]
  },
  {
   "cell_type": "code",
   "execution_count": 59,
   "metadata": {},
   "outputs": [],
   "source": [
    "class Node:\n",
    "    def __init__(self,idx,data):\n",
    "        self.id = idx\n",
    "        self.pickup_location = (data.pickup_latitude,data.pickup_longitude,data.pickup_h3)\n",
    "        self.dropoff_location = (data.dropoff_latitude,data.dropoff_longitude,data.dropoff_h3)\n",
    "        self.pickup_time = data.pickup_time\n",
    "        self.dropoff_time = data.dropoff_time\n",
    "        self.distance = data.trip_distance\n",
    "        self.duration = data.duration\n",
    "        self.delay = data.delay\n",
    "        #TBD.."
   ]
  },
  {
   "cell_type": "markdown",
   "metadata": {},
   "source": [
    "# Lets try with a sample of 4 trips going to LGA"
   ]
  },
  {
   "cell_type": "code",
   "execution_count": 223,
   "metadata": {},
   "outputs": [
    {
     "data": {
      "text/html": [
       "<div>\n",
       "<style scoped>\n",
       "    .dataframe tbody tr th:only-of-type {\n",
       "        vertical-align: middle;\n",
       "    }\n",
       "\n",
       "    .dataframe tbody tr th {\n",
       "        vertical-align: top;\n",
       "    }\n",
       "\n",
       "    .dataframe thead th {\n",
       "        text-align: right;\n",
       "    }\n",
       "</style>\n",
       "<table border=\"1\" class=\"dataframe\">\n",
       "  <thead>\n",
       "    <tr style=\"text-align: right;\">\n",
       "      <th></th>\n",
       "      <th>pickup_time</th>\n",
       "      <th>dropoff_time</th>\n",
       "      <th>passenger_count</th>\n",
       "      <th>trip_distance</th>\n",
       "      <th>pickup_longitude</th>\n",
       "      <th>pickup_latitude</th>\n",
       "      <th>dropoff_longitude</th>\n",
       "      <th>dropoff_latitude</th>\n",
       "      <th>pickup_h3</th>\n",
       "      <th>dropoff_h3</th>\n",
       "      <th>pool_window</th>\n",
       "      <th>duration</th>\n",
       "      <th>delay</th>\n",
       "    </tr>\n",
       "  </thead>\n",
       "  <tbody>\n",
       "    <tr>\n",
       "      <th>0</th>\n",
       "      <td>2016-01-29 09:18:54</td>\n",
       "      <td>2016-01-29 10:08:47</td>\n",
       "      <td>2.0</td>\n",
       "      <td>12.93</td>\n",
       "      <td>-74.000771</td>\n",
       "      <td>40.762310</td>\n",
       "      <td>-73.865028</td>\n",
       "      <td>40.770580</td>\n",
       "      <td>882a107251fffff</td>\n",
       "      <td>8a2a100f525ffff</td>\n",
       "      <td>2016-01-29 09:20:00</td>\n",
       "      <td>83407</td>\n",
       "      <td>16681.4</td>\n",
       "    </tr>\n",
       "    <tr>\n",
       "      <th>1</th>\n",
       "      <td>2016-01-29 09:19:22</td>\n",
       "      <td>2016-01-29 10:01:30</td>\n",
       "      <td>5.0</td>\n",
       "      <td>8.76</td>\n",
       "      <td>-73.977409</td>\n",
       "      <td>40.753002</td>\n",
       "      <td>-73.861877</td>\n",
       "      <td>40.768440</td>\n",
       "      <td>882a100d67fffff</td>\n",
       "      <td>8a2a100e250ffff</td>\n",
       "      <td>2016-01-29 09:20:00</td>\n",
       "      <td>83872</td>\n",
       "      <td>16774.4</td>\n",
       "    </tr>\n",
       "    <tr>\n",
       "      <th>2</th>\n",
       "      <td>2016-01-29 09:19:23</td>\n",
       "      <td>2016-01-29 09:51:46</td>\n",
       "      <td>1.0</td>\n",
       "      <td>10.30</td>\n",
       "      <td>-73.985771</td>\n",
       "      <td>40.760078</td>\n",
       "      <td>-73.861649</td>\n",
       "      <td>40.768291</td>\n",
       "      <td>882a100d65fffff</td>\n",
       "      <td>8a2a100e250ffff</td>\n",
       "      <td>2016-01-29 09:20:00</td>\n",
       "      <td>84457</td>\n",
       "      <td>16891.4</td>\n",
       "    </tr>\n",
       "    <tr>\n",
       "      <th>3</th>\n",
       "      <td>2016-01-29 09:19:48</td>\n",
       "      <td>2016-01-29 09:49:40</td>\n",
       "      <td>1.0</td>\n",
       "      <td>10.00</td>\n",
       "      <td>-73.975052</td>\n",
       "      <td>40.787968</td>\n",
       "      <td>-73.865036</td>\n",
       "      <td>40.770565</td>\n",
       "      <td>882a100883fffff</td>\n",
       "      <td>8a2a100f525ffff</td>\n",
       "      <td>2016-01-29 09:20:00</td>\n",
       "      <td>84608</td>\n",
       "      <td>16921.6</td>\n",
       "    </tr>\n",
       "  </tbody>\n",
       "</table>\n",
       "</div>"
      ],
      "text/plain": [
       "          pickup_time        dropoff_time  passenger_count  trip_distance  \\\n",
       "0 2016-01-29 09:18:54 2016-01-29 10:08:47              2.0          12.93   \n",
       "1 2016-01-29 09:19:22 2016-01-29 10:01:30              5.0           8.76   \n",
       "2 2016-01-29 09:19:23 2016-01-29 09:51:46              1.0          10.30   \n",
       "3 2016-01-29 09:19:48 2016-01-29 09:49:40              1.0          10.00   \n",
       "\n",
       "   pickup_longitude  pickup_latitude  dropoff_longitude  dropoff_latitude  \\\n",
       "0        -74.000771        40.762310         -73.865028         40.770580   \n",
       "1        -73.977409        40.753002         -73.861877         40.768440   \n",
       "2        -73.985771        40.760078         -73.861649         40.768291   \n",
       "3        -73.975052        40.787968         -73.865036         40.770565   \n",
       "\n",
       "         pickup_h3       dropoff_h3         pool_window  duration    delay  \n",
       "0  882a107251fffff  8a2a100f525ffff 2016-01-29 09:20:00     83407  16681.4  \n",
       "1  882a100d67fffff  8a2a100e250ffff 2016-01-29 09:20:00     83872  16774.4  \n",
       "2  882a100d65fffff  8a2a100e250ffff 2016-01-29 09:20:00     84457  16891.4  \n",
       "3  882a100883fffff  8a2a100f525ffff 2016-01-29 09:20:00     84608  16921.6  "
      ]
     },
     "execution_count": 223,
     "metadata": {},
     "output_type": "execute_result"
    }
   ],
   "source": [
    "sample=df[:4]\n",
    "sample"
   ]
  },
  {
   "cell_type": "markdown",
   "metadata": {},
   "source": [
    "## Creating a toy distance df for the above sample dataframe.Note: Since the 'Data/LaGuardia_Dropoff_Final.csv' corresponds to LGA as destination we need only the distance between the pickup of individual trips.\n",
    "\n",
    "## For trips going from LGA we would be needing distance between dropoffs"
   ]
  },
  {
   "cell_type": "code",
   "execution_count": 225,
   "metadata": {},
   "outputs": [
    {
     "data": {
      "text/html": [
       "<div>\n",
       "<style scoped>\n",
       "    .dataframe tbody tr th:only-of-type {\n",
       "        vertical-align: middle;\n",
       "    }\n",
       "\n",
       "    .dataframe tbody tr th {\n",
       "        vertical-align: top;\n",
       "    }\n",
       "\n",
       "    .dataframe thead th {\n",
       "        text-align: right;\n",
       "    }\n",
       "</style>\n",
       "<table border=\"1\" class=\"dataframe\">\n",
       "  <thead>\n",
       "    <tr style=\"text-align: right;\">\n",
       "      <th></th>\n",
       "      <th></th>\n",
       "      <th>distance</th>\n",
       "      <th>duration</th>\n",
       "    </tr>\n",
       "    <tr>\n",
       "      <th>pickup_h3</th>\n",
       "      <th>dropoff_h3</th>\n",
       "      <th></th>\n",
       "      <th></th>\n",
       "    </tr>\n",
       "  </thead>\n",
       "  <tbody>\n",
       "    <tr>\n",
       "      <th rowspan=\"3\" valign=\"top\">882a107251fffff</th>\n",
       "      <th>882a100d67fffff</th>\n",
       "      <td>0.22</td>\n",
       "      <td>0.17</td>\n",
       "    </tr>\n",
       "    <tr>\n",
       "      <th>882a100d65fffff</th>\n",
       "      <td>0.36</td>\n",
       "      <td>0.91</td>\n",
       "    </tr>\n",
       "    <tr>\n",
       "      <th>882a100883fffff</th>\n",
       "      <td>0.25</td>\n",
       "      <td>0.50</td>\n",
       "    </tr>\n",
       "    <tr>\n",
       "      <th rowspan=\"3\" valign=\"top\">882a100d67fffff</th>\n",
       "      <th>882a107251fffff</th>\n",
       "      <td>0.74</td>\n",
       "      <td>0.19</td>\n",
       "    </tr>\n",
       "    <tr>\n",
       "      <th>882a100d65fffff</th>\n",
       "      <td>0.53</td>\n",
       "      <td>0.75</td>\n",
       "    </tr>\n",
       "    <tr>\n",
       "      <th>882a100883fffff</th>\n",
       "      <td>0.89</td>\n",
       "      <td>0.37</td>\n",
       "    </tr>\n",
       "    <tr>\n",
       "      <th rowspan=\"3\" valign=\"top\">882a100d65fffff</th>\n",
       "      <th>882a107251fffff</th>\n",
       "      <td>0.12</td>\n",
       "      <td>0.26</td>\n",
       "    </tr>\n",
       "    <tr>\n",
       "      <th>882a100d67fffff</th>\n",
       "      <td>0.07</td>\n",
       "      <td>0.79</td>\n",
       "    </tr>\n",
       "    <tr>\n",
       "      <th>882a100883fffff</th>\n",
       "      <td>0.01</td>\n",
       "      <td>0.92</td>\n",
       "    </tr>\n",
       "    <tr>\n",
       "      <th rowspan=\"3\" valign=\"top\">882a100883fffff</th>\n",
       "      <th>882a107251fffff</th>\n",
       "      <td>0.49</td>\n",
       "      <td>0.51</td>\n",
       "    </tr>\n",
       "    <tr>\n",
       "      <th>882a100d67fffff</th>\n",
       "      <td>0.51</td>\n",
       "      <td>0.52</td>\n",
       "    </tr>\n",
       "    <tr>\n",
       "      <th>882a100d65fffff</th>\n",
       "      <td>0.68</td>\n",
       "      <td>0.84</td>\n",
       "    </tr>\n",
       "  </tbody>\n",
       "</table>\n",
       "</div>"
      ],
      "text/plain": [
       "                                 distance  duration\n",
       "pickup_h3       dropoff_h3                         \n",
       "882a107251fffff 882a100d67fffff      0.22      0.17\n",
       "                882a100d65fffff      0.36      0.91\n",
       "                882a100883fffff      0.25      0.50\n",
       "882a100d67fffff 882a107251fffff      0.74      0.19\n",
       "                882a100d65fffff      0.53      0.75\n",
       "                882a100883fffff      0.89      0.37\n",
       "882a100d65fffff 882a107251fffff      0.12      0.26\n",
       "                882a100d67fffff      0.07      0.79\n",
       "                882a100883fffff      0.01      0.92\n",
       "882a100883fffff 882a107251fffff      0.49      0.51\n",
       "                882a100d67fffff      0.51      0.52\n",
       "                882a100d65fffff      0.68      0.84"
      ]
     },
     "execution_count": 225,
     "metadata": {},
     "output_type": "execute_result"
    }
   ],
   "source": [
    "a,b,d,e=[],[],[],[]\n",
    "from random import random\n",
    "# creating toy distance to run algorithm\n",
    "for node_a,node_b in list(permutations(sample.index,2)):\n",
    "    a.append(sample.iloc[node_a]['pickup_h3'])\n",
    "    b.append(sample.iloc[node_b]['pickup_h3'])\n",
    "    d.append(round(random(),2))\n",
    "    e.append(round(random(),2))\n",
    "df_distance['pickup_h3'] = a\n",
    "df_distance['dropoff_h3'] = b\n",
    "df_distance['distance'] = d\n",
    "df_distance['duration'] = e\n",
    "df_distance = df_distance.set_index(['pickup_h3','dropoff_h3'])\n",
    "df_distance"
   ]
  },
  {
   "cell_type": "code",
   "execution_count": 226,
   "metadata": {},
   "outputs": [],
   "source": [
    "def get_all_pairs(node_a,node_b,trip_type):\n",
    "    if trip_type == 1:\n",
    "        #Combination LGA--> a -->b\n",
    "        #if no distance call graphhopper \n",
    "        LGA_a_dist = df_distance.loc[(node_a.pickup_location[2],node_a.dropoff_location[2])]['distance']\n",
    "        a_b_dist = df_distance.loc[(node_a.dropoff_location[2],node_b.dropoff_location[2])]['distance']\n",
    "        LGA_a_dur = df_distance.loc[(node_a.pickup_location[2],node_a.dropoff_location[2])]['duration']\n",
    "        a_b_dur = df_distance.loc[(node_a.dropoff_location[2],node_b.dropoff_location[2])]['duration']\n",
    "        \n",
    "        #Combination LGA--> b -->a\n",
    "        LGA_b_dist = df_distance.loc[(node_b.pickup_location[2],node_b.dropoff_location[2])]['distance']\n",
    "        b_a_dist = df_distance.loc[(node_b.dropoff_location[2],node_a.dropoff_location[2])]['distance']\n",
    "        LGA_b_dur = df_distance.loc[(node_b.pickup_location[2],node_b.dropoff_location[2])]['duration']\n",
    "        b_a_dur = df_distance.loc[(node_b.dropoff_location[2],node_a.dropoff_location[2])]['duration']\n",
    "        \n",
    "        path_1_total_dis,path_1_total_dur = LGA_a_dist + a_b_dist,LGA_a_dur + a_b_dur \n",
    "        path_1_a_dur,path_1_b_dur = LGA_a_dur,path_1_total_dur\n",
    "        \n",
    "        path_2_total_dis,path_2_total_dur = LGA_b_dist+b_a_dist,LGA_b_dur+b_a_dur\n",
    "        path_2_a_dur,path_2_b_dur         = path_2_total_dur ,LGA_b_dur\n",
    "               \n",
    "    else:\n",
    "        #Combination a--> b --> LGA\n",
    "        a_b_dist = df_distance.loc[(node_a.pickup_location[2],node_b.pickup_location[2])]['distance']\n",
    "        b_LGA_dist = node_b.distance \n",
    "        a_b_dur = df_distance.loc[(node_a.pickup_location[2],node_b.pickup_location[2])]['duration']\n",
    "        b_LGA_dur = node_b.duration\n",
    "        \n",
    "        #Combination b--> a --> LGA\n",
    "        b_a_dist = df_distance.loc[(node_b.pickup_location[2],node_a.pickup_location[2])]['distance']\n",
    "        a_LGA_dist = node_a.distance \n",
    "        b_a_dur = df_distance.loc[(node_b.pickup_location[2],node_a.pickup_location[2])]['duration']\n",
    "        a_LGA_dur = node_a.duration\n",
    "        \n",
    "        path_1_total_dis,path_1_total_dur = a_b_dist + b_LGA_dist,a_b_dur + b_LGA_dur \n",
    "        path_1_a_dur,path_1_b_dur = path_1_total_dur,b_LGA_dur\n",
    "        \n",
    "        path_2_total_dis,path_2_total_dur, = b_a_dist+a_LGA_dist,b_a_dur+a_LGA_dur\n",
    "        path_2_a_dur,path_2_b_dur         = a_LGA_dur,path_2_total_dur\n",
    "        \n",
    "    return ((path_1_total_dis,path_1_total_dur,path_1_a_dur,path_1_b_dur),( path_2_total_dis,path_2_total_dur,path_2_a_dur,path_2_b_dur))\n",
    "    "
   ]
  },
  {
   "cell_type": "code",
   "execution_count": 229,
   "metadata": {},
   "outputs": [],
   "source": [
    "def calculate_edge_weight(node_a,node_b):\n",
    "    path1,path2 = get_all_pairs(node_a,node_b,2)\n",
    "    minimum_distance = float('inf')\n",
    "    for path in (path1,path2):\n",
    "        distance_contraint = (path[0] <= node_a.distance + node_b.distance)\n",
    "        delay_constraint = (path[2] <= node_a.duration + node_a.delay) & (path[3] <= node_b.duration + node_b.delay)\n",
    "        #add social constraint too...\n",
    "        \n",
    "        \n",
    "        if distance_contraint and delay_constraint and path[0]< minimum_distance:\n",
    "            minimum_distance = path[0]\n",
    "    distance_saved = node_a.distance + node_b.distance - minimum_distance\n",
    "    return distance_saved"
   ]
  },
  {
   "cell_type": "code",
   "execution_count": 230,
   "metadata": {},
   "outputs": [],
   "source": [
    "def get_rsg(G):\n",
    "    for node_a,node_b in list(combinations(G,2)):\n",
    "        distance_saved = calculate_edge_weight(node_a,node_b)\n",
    "        if distance_saved!= float('inf'):\n",
    "            G.add_edge(node_a,node_b, weight=distance_saved)\n",
    "    return G"
   ]
  },
  {
   "cell_type": "markdown",
   "metadata": {},
   "source": [
    "# Running the algorithm for sample dataframe"
   ]
  },
  {
   "cell_type": "code",
   "execution_count": 243,
   "metadata": {},
   "outputs": [],
   "source": [
    "graphs = []\n",
    "for _,trips in sample.groupby(['pool_window']):\n",
    "    nodes = []\n",
    "    trips = trips.reset_index()\n",
    "    for idx, row in trips.iterrows():\n",
    "        nodes.append(Node(idx,trips.iloc[idx]))\n",
    "    G = nx.Graph()\n",
    "    G.add_nodes_from(nodes)\n",
    "    graphs.append(G)\n",
    "    \n",
    "#Start of the code\n",
    "weight_matches = []\n",
    "for g in graphs:\n",
    "    ride_sharing_graph = get_rsg(g)\n",
    "    #maximum weighted algorithm\n",
    "    match = nx.max_weight_matching(ride_sharing_graph, maxcardinality=True)\n",
    "    g_match = nx.Graph()\n",
    "    for u,v in match:\n",
    "        g_match.add_edge(u,v)\n",
    "        \n",
    "    weight_matches.append(g_match)"
   ]
  },
  {
   "cell_type": "code",
   "execution_count": 250,
   "metadata": {},
   "outputs": [
    {
     "name": "stdout",
     "output_type": "stream",
     "text": [
      "Selected edges by maximum weight algorithm\n",
      "3 2 {'weight': 10.290000000000001}\n",
      "1 0 {'weight': 12.709999999999997}\n"
     ]
    }
   ],
   "source": [
    "print(\"Selected edges by maximum weight algorithm\")\n",
    "for u,v in weight_matches[0].edges:\n",
    "    print(u.id,v.id,ride_sharing_graph.get_edge_data(u,v))"
   ]
  }
 ],
 "metadata": {
  "kernelspec": {
   "display_name": "Python 3",
   "language": "python",
   "name": "python3"
  },
  "language_info": {
   "codemirror_mode": {
    "name": "ipython",
    "version": 3
   },
   "file_extension": ".py",
   "mimetype": "text/x-python",
   "name": "python",
   "nbconvert_exporter": "python",
   "pygments_lexer": "ipython3",
   "version": "3.7.3"
  }
 },
 "nbformat": 4,
 "nbformat_minor": 2
}
