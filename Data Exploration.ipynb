{
 "cells": [
  {
   "cell_type": "code",
   "execution_count": 43,
   "metadata": {},
   "outputs": [],
   "source": [
    "import pandas as pd\n",
    "import matplotlib.pyplot as plt\n",
    "import requests\n",
    "from h3 import h3\n",
    "import json\n",
    "from urllib.request import URLError, Request, urlopen\n",
    "from itertools import combinations\n",
    "from itertools import permutations\n",
    "from dateutil import parser\n",
    "from datetime import datetime, timedelta\n",
    "import math\n",
    "import networkx as nx"
   ]
  },
  {
   "cell_type": "code",
   "execution_count": 44,
   "metadata": {},
   "outputs": [],
   "source": [
    "df = pd.read_csv('Data/LaGuardia_Dropoff_Final.csv')\n",
    "columns = ['tpep_pickup_datetime', 'tpep_dropoff_datetime','passenger_count',\\\n",
    "           'trip_distance', 'pickup_longitude','pickup_latitude','dropoff_longitude', 'dropoff_latitude']\n",
    "df = df[columns]\n",
    "df.rename(columns={'tpep_pickup_datetime':'pickup_time',\n",
    "       'tpep_dropoff_datetime':'dropoff_time'},inplace=True)\n",
    "drop_index=df[(df.pickup_latitude==0)|(df.pickup_longitude==0)].index\n",
    "df.drop(drop_index,inplace=True)\n",
    "df['pickup_time'] = pd.to_datetime(df['pickup_time'])\n",
    "df['dropoff_time'] = pd.to_datetime(df['dropoff_time'])\n",
    "df['pickup_h3'] = df.apply(lambda x: h3.geo_to_h3(x['pickup_latitude'], x['pickup_longitude'], 10), axis=1)\n",
    "df['dropoff_h3'] = df.apply(lambda x: h3.geo_to_h3(x['dropoff_latitude'], x['dropoff_longitude'], 8), axis=1)\n",
    "\n",
    "\n",
    "start_date = '2016-05-17 00:00:00' # Start date with time\n",
    "end_date = '2016-05-17 23:59:59' # End date with time\n",
    "df=df[(df['pickup_time'] >= start_date) & (df['dropoff_time'] <= end_date)]\n"
   ]
  },
  {
   "cell_type": "code",
   "execution_count": 45,
   "metadata": {},
   "outputs": [
    {
     "data": {
      "text/html": [
       "<div>\n",
       "<style scoped>\n",
       "    .dataframe tbody tr th:only-of-type {\n",
       "        vertical-align: middle;\n",
       "    }\n",
       "\n",
       "    .dataframe tbody tr th {\n",
       "        vertical-align: top;\n",
       "    }\n",
       "\n",
       "    .dataframe thead th {\n",
       "        text-align: right;\n",
       "    }\n",
       "</style>\n",
       "<table border=\"1\" class=\"dataframe\">\n",
       "  <thead>\n",
       "    <tr style=\"text-align: right;\">\n",
       "      <th></th>\n",
       "      <th>pickup_time</th>\n",
       "      <th>dropoff_time</th>\n",
       "      <th>passenger_count</th>\n",
       "      <th>trip_distance</th>\n",
       "      <th>pickup_longitude</th>\n",
       "      <th>pickup_latitude</th>\n",
       "      <th>dropoff_longitude</th>\n",
       "      <th>dropoff_latitude</th>\n",
       "      <th>pickup_h3</th>\n",
       "      <th>dropoff_h3</th>\n",
       "    </tr>\n",
       "  </thead>\n",
       "  <tbody>\n",
       "    <tr>\n",
       "      <th>0</th>\n",
       "      <td>2016-05-17 00:08:21</td>\n",
       "      <td>2016-05-17 00:40:30</td>\n",
       "      <td>1.0</td>\n",
       "      <td>11.90</td>\n",
       "      <td>-73.994621</td>\n",
       "      <td>40.750729</td>\n",
       "      <td>-73.862144</td>\n",
       "      <td>40.768654</td>\n",
       "      <td>8a2a100d2cb7fff</td>\n",
       "      <td>882a100e25fffff</td>\n",
       "    </tr>\n",
       "    <tr>\n",
       "      <th>1</th>\n",
       "      <td>2016-05-17 00:01:31</td>\n",
       "      <td>2016-05-17 00:09:31</td>\n",
       "      <td>1.0</td>\n",
       "      <td>1.70</td>\n",
       "      <td>-73.862709</td>\n",
       "      <td>40.768848</td>\n",
       "      <td>-73.867104</td>\n",
       "      <td>40.768772</td>\n",
       "      <td>8a2a100e2507fff</td>\n",
       "      <td>882a100e25fffff</td>\n",
       "    </tr>\n",
       "    <tr>\n",
       "      <th>2</th>\n",
       "      <td>2016-05-17 00:12:41</td>\n",
       "      <td>2016-05-17 00:18:34</td>\n",
       "      <td>2.0</td>\n",
       "      <td>3.11</td>\n",
       "      <td>-73.894112</td>\n",
       "      <td>40.747944</td>\n",
       "      <td>-73.869995</td>\n",
       "      <td>40.765556</td>\n",
       "      <td>8a2a100c6127fff</td>\n",
       "      <td>882a100e25fffff</td>\n",
       "    </tr>\n",
       "    <tr>\n",
       "      <th>3</th>\n",
       "      <td>2016-05-17 00:20:19</td>\n",
       "      <td>2016-05-17 00:20:46</td>\n",
       "      <td>1.0</td>\n",
       "      <td>0.00</td>\n",
       "      <td>-73.863472</td>\n",
       "      <td>40.769848</td>\n",
       "      <td>-73.863533</td>\n",
       "      <td>40.769802</td>\n",
       "      <td>8a2a100e2517fff</td>\n",
       "      <td>882a100e25fffff</td>\n",
       "    </tr>\n",
       "    <tr>\n",
       "      <th>4</th>\n",
       "      <td>2016-05-17 00:36:23</td>\n",
       "      <td>2016-05-17 00:43:33</td>\n",
       "      <td>1.0</td>\n",
       "      <td>1.70</td>\n",
       "      <td>-73.862831</td>\n",
       "      <td>40.769043</td>\n",
       "      <td>-73.867058</td>\n",
       "      <td>40.768787</td>\n",
       "      <td>8a2a100e2507fff</td>\n",
       "      <td>882a100e25fffff</td>\n",
       "    </tr>\n",
       "  </tbody>\n",
       "</table>\n",
       "</div>"
      ],
      "text/plain": [
       "          pickup_time        dropoff_time  passenger_count  trip_distance  \\\n",
       "0 2016-05-17 00:08:21 2016-05-17 00:40:30              1.0          11.90   \n",
       "1 2016-05-17 00:01:31 2016-05-17 00:09:31              1.0           1.70   \n",
       "2 2016-05-17 00:12:41 2016-05-17 00:18:34              2.0           3.11   \n",
       "3 2016-05-17 00:20:19 2016-05-17 00:20:46              1.0           0.00   \n",
       "4 2016-05-17 00:36:23 2016-05-17 00:43:33              1.0           1.70   \n",
       "\n",
       "   pickup_longitude  pickup_latitude  dropoff_longitude  dropoff_latitude  \\\n",
       "0        -73.994621        40.750729         -73.862144         40.768654   \n",
       "1        -73.862709        40.768848         -73.867104         40.768772   \n",
       "2        -73.894112        40.747944         -73.869995         40.765556   \n",
       "3        -73.863472        40.769848         -73.863533         40.769802   \n",
       "4        -73.862831        40.769043         -73.867058         40.768787   \n",
       "\n",
       "         pickup_h3       dropoff_h3  \n",
       "0  8a2a100d2cb7fff  882a100e25fffff  \n",
       "1  8a2a100e2507fff  882a100e25fffff  \n",
       "2  8a2a100c6127fff  882a100e25fffff  \n",
       "3  8a2a100e2517fff  882a100e25fffff  \n",
       "4  8a2a100e2507fff  882a100e25fffff  "
      ]
     },
     "execution_count": 45,
     "metadata": {},
     "output_type": "execute_result"
    }
   ],
   "source": [
    "df.reset_index(drop=True,inplace=True)\n",
    "df.head()"
   ]
  },
  {
   "cell_type": "markdown",
   "metadata": {},
   "source": [
    "# Installation steps\n",
    "\n",
    "\n",
    "### 1.Install the latest JRE and get GraphHopper Server as zip from <a href=https://graphhopper.com/public/releases/graphhopper-web-0.10.3-bin.zip>Graphhopper API</a>. Unzip it.\n",
    "### 2.Copy this OSM file into the SAME unzipped directory: <a href=https://download.geofabrik.de/north-america/us/new-york-latest.osm.pbf >new-york-latest.osm.pbf</a>\n",
    "### 3.Start GraphHopper Maps via: java -jar graphhopper-web-0.10.3-with-dep.jar jetty.resourcebase=webapp config=config-example.properties datareader.file=new-york-latest.osm.pbf. \n",
    "### 3.Test to see if its running after you see 'Started server at HTTP 8989' by going to http://localhost:8989/ and you should see a map of New York.\n",
    "### 4.Keep this running when executing our program because this is the API"
   ]
  },
  {
   "cell_type": "code",
   "execution_count": 48,
   "metadata": {},
   "outputs": [
    {
     "name": "stdout",
     "output_type": "stream",
     "text": [
      "Distance = 1049.667\n",
      "Time = 111745\n"
     ]
    }
   ],
   "source": [
    "# Check how graphhopper works\n",
    "a,b,c,d = df['pickup_latitude'].loc[1],df['pickup_longitude'].loc[1],df['dropoff_latitude'].loc[1],df['dropoff_longitude'].loc[1]\n",
    "request_str = 'http://localhost:8989/route?point=' + str(a) + '%2C' + str(b) + '&point=' + str(c) + '%2C' + str(d) + '&vehicle=car'\n",
    "request = Request(request_str)\n",
    "res=requests.get(request_str)\n",
    "print(\"Distance = {}\".format(json.loads(res.text)['paths'][0]['distance']))\n",
    "print(\"Time = {}\".format(json.loads(res.text)['paths'][0]['time']))\n",
    "# Distance = 1158.322\n",
    "# Time = 128375"
   ]
  },
  {
   "cell_type": "markdown",
   "metadata": {},
   "source": [
    "# To calculate pool_window.\n",
    "## The dataframe will be divided into pools.We run algorithm for each of these pools"
   ]
  },
  {
   "cell_type": "code",
   "execution_count": 49,
   "metadata": {},
   "outputs": [],
   "source": [
    "def ceil_dt(dt, delta):\n",
    "    return datetime.min + math.ceil((dt - datetime.min) / delta) * delta\n",
    "\n",
    "pool_time_window = 10 # Change pool time window\n",
    "df['pool_window'] = df['pickup_time'].apply(lambda x: ceil_dt(x.to_pydatetime(), timedelta(minutes=pool_time_window)))\n",
    "df['duration'] = (df['pickup_time']-df['dropoff_time']).dt.seconds\n",
    "df['delay'] = df['duration'].apply(lambda x: x*0.20)"
   ]
  },
  {
   "cell_type": "markdown",
   "metadata": {},
   "source": [
    "## This is expected to be calculated and stored in a csv file. Later loaded into a dataframe before running the algorithm.The columns that should be stored in the csv files are same as following dataframe."
   ]
  },
  {
   "cell_type": "code",
   "execution_count": 51,
   "metadata": {},
   "outputs": [],
   "source": [
    "def get(dataframe):\n",
    "    a,b,c,d=[],[],[],[]\n",
    "    df_distance =  pd.DataFrame(columns = ['pickup_h3','dropoff_h3','distance','duration'])\n",
    "    for node_a, node_b in list(permutations(dataframe.index, 2)):\n",
    "        temp_curr, temp_next = [], []\n",
    "\n",
    "        from_location = dataframe.iloc[node_a]['pickup_h3']\n",
    "        to_location = dataframe.iloc[node_b]['pickup_h3']\n",
    "\n",
    "        e, f, g, h = dataframe.iloc[node_a]['pickup_latitude'], dataframe.iloc[node_a]['pickup_longitude'],\\\n",
    "        dataframe.iloc[node_b]['pickup_latitude'],dataframe.iloc[node_b]['pickup_longitude']\n",
    "        \n",
    "        request_str = 'http://localhost:8989/route?point=' + str(e) + '%2C' + str(f) + '&point=' + str(\n",
    "            g) + '%2C' + str(h) + '&vehicle=car'\n",
    "        request = Request(request_str)\n",
    "        res = requests.get(request_str)\n",
    "        distance = json.loads(res.text)['paths'][0]['distance']\n",
    "\n",
    "        time = json.loads(res.text)['paths'][0]['time']\n",
    "        minute, msec = divmod(time, 60000)\n",
    "        if (distance / 1609.344) <=3:\n",
    "            a.append(from_location)\n",
    "            b.append(to_location)\n",
    "            c.append(distance / 1609.344)  # convert meters to miles\n",
    "            d.append(minute + (msec / 100000))  # convert ms to s and add to min\n",
    "\n",
    "    df_distance['pickup_h3'] = a\n",
    "    df_distance['dropoff_h3'] = b\n",
    "    df_distance['distance'] = c\n",
    "    df_distance['duration'] = d\n",
    "    return df_distance\n",
    "# df_distance = df_distance.set_index(['pickup_h3','dropoff_h3'])\n",
    "# df_distance.to_csv('29jan2016_30jan2016.csv') "
   ]
  },
  {
   "cell_type": "code",
   "execution_count": 52,
   "metadata": {},
   "outputs": [],
   "source": [
    "final_distance=[]\n",
    "for _,trips in df.groupby(['pool_window']):\n",
    "    trips = trips.reset_index()\n",
    "    df_distance=  get(trips)\n",
    "    final_distance.append(df_distance)\n",
    "df_distance = pd.concat(final_distance)\n",
    "df_distance.reset_index(drop=True,inplace=True)"
   ]
  },
  {
   "cell_type": "code",
   "execution_count": 53,
   "metadata": {},
   "outputs": [
    {
     "data": {
      "text/plain": [
       "(36023, 4)"
      ]
     },
     "execution_count": 53,
     "metadata": {},
     "output_type": "execute_result"
    }
   ],
   "source": [
    "df_distance.shape"
   ]
  },
  {
   "cell_type": "markdown",
   "metadata": {},
   "source": [
    "# The nodes of the graph"
   ]
  },
  {
   "cell_type": "code",
   "execution_count": 56,
   "metadata": {},
   "outputs": [],
   "source": [
    "class Node:\n",
    "    def __init__(self,idx,data):\n",
    "        self.id = idx\n",
    "        self.pickup_location = (data.pickup_latitude,data.pickup_longitude,data.pickup_h3)\n",
    "        self.dropoff_location = (data.dropoff_latitude,data.dropoff_longitude,data.dropoff_h3)\n",
    "        self.pickup_time = data.pickup_time\n",
    "        self.dropoff_time = data.dropoff_time\n",
    "        self.distance = data.trip_distance\n",
    "        self.duration = data.duration\n",
    "        self.delay = data.delay\n",
    "        self.passenger_count = data.passenger_count\n",
    "        #TBD.."
   ]
  },
  {
   "cell_type": "code",
   "execution_count": 58,
   "metadata": {},
   "outputs": [
    {
     "data": {
      "text/html": [
       "<div>\n",
       "<style scoped>\n",
       "    .dataframe tbody tr th:only-of-type {\n",
       "        vertical-align: middle;\n",
       "    }\n",
       "\n",
       "    .dataframe tbody tr th {\n",
       "        vertical-align: top;\n",
       "    }\n",
       "\n",
       "    .dataframe thead th {\n",
       "        text-align: right;\n",
       "    }\n",
       "</style>\n",
       "<table border=\"1\" class=\"dataframe\">\n",
       "  <thead>\n",
       "    <tr style=\"text-align: right;\">\n",
       "      <th></th>\n",
       "      <th>pickup_h3</th>\n",
       "      <th>dropoff_h3</th>\n",
       "      <th>distance</th>\n",
       "      <th>duration</th>\n",
       "    </tr>\n",
       "  </thead>\n",
       "  <tbody>\n",
       "    <tr>\n",
       "      <th>1</th>\n",
       "      <td>8a2a100e2517fff</td>\n",
       "      <td>8a2a100f1bb7fff</td>\n",
       "      <td>1.175470</td>\n",
       "      <td>2.34617</td>\n",
       "    </tr>\n",
       "    <tr>\n",
       "      <th>3</th>\n",
       "      <td>8a2a100e2507fff</td>\n",
       "      <td>8a2a100f1bb7fff</td>\n",
       "      <td>1.244559</td>\n",
       "      <td>2.44238</td>\n",
       "    </tr>\n",
       "    <tr>\n",
       "      <th>4</th>\n",
       "      <td>8a2a100f1bb7fff</td>\n",
       "      <td>8a2a100e2517fff</td>\n",
       "      <td>1.562179</td>\n",
       "      <td>3.47519</td>\n",
       "    </tr>\n",
       "    <tr>\n",
       "      <th>5</th>\n",
       "      <td>8a2a100f1bb7fff</td>\n",
       "      <td>8a2a100e2507fff</td>\n",
       "      <td>1.442589</td>\n",
       "      <td>3.16670</td>\n",
       "    </tr>\n",
       "    <tr>\n",
       "      <th>6</th>\n",
       "      <td>8a2a100d2857fff</td>\n",
       "      <td>8a2a100d684ffff</td>\n",
       "      <td>1.567627</td>\n",
       "      <td>2.44123</td>\n",
       "    </tr>\n",
       "  </tbody>\n",
       "</table>\n",
       "</div>"
      ],
      "text/plain": [
       "         pickup_h3       dropoff_h3  distance  duration\n",
       "1  8a2a100e2517fff  8a2a100f1bb7fff  1.175470   2.34617\n",
       "3  8a2a100e2507fff  8a2a100f1bb7fff  1.244559   2.44238\n",
       "4  8a2a100f1bb7fff  8a2a100e2517fff  1.562179   3.47519\n",
       "5  8a2a100f1bb7fff  8a2a100e2507fff  1.442589   3.16670\n",
       "6  8a2a100d2857fff  8a2a100d684ffff  1.567627   2.44123"
      ]
     },
     "execution_count": 58,
     "metadata": {},
     "output_type": "execute_result"
    }
   ],
   "source": [
    "# df_distance =  pd.read_csv('1_29_to_1_30.csv')\n",
    "df_distance.groupby(['pickup_h3','dropoff_h3']).count()\n",
    "df_distance.drop_duplicates(subset=['pickup_h3','dropoff_h3'],keep=False,inplace=True)\n",
    "df_distance.set_index(['pickup_h3','dropoff_h3'])\n",
    "df_distance = df_distance.sort_index()\n",
    "df_distance.head()"
   ]
  },
  {
   "cell_type": "code",
   "execution_count": 59,
   "metadata": {},
   "outputs": [
    {
     "data": {
      "text/plain": [
       "(26566, 4)"
      ]
     },
     "execution_count": 59,
     "metadata": {},
     "output_type": "execute_result"
    }
   ],
   "source": [
    "# ('8a2a1008891ffff', '8a2a100d6a97fff') in df_distance.index\n",
    "df_distance.shape\n",
    "# cn\n",
    "# request_str = 'http://localhost:8989/route?point=' + str(40.80505) + '%2C' +str(-73.966179)  + '&point=' +  str(40.758911)+ '%2C' + str(-73.968277) + '&vehicle=car'\n",
    "# request = Request(request_str)\n",
    "# res=requests.get(request_str)\n",
    "# print(\"Distance = {}\".format(json.loads(res.text)['paths'][0]['distance']))\n",
    "# print(\"Time = {}\".format(json.loads(res.text)['paths'][0]['time']))"
   ]
  },
  {
   "cell_type": "code",
   "execution_count": 60,
   "metadata": {},
   "outputs": [],
   "source": [
    "def get_distance_duration(node_a,node_b,trip_type):\n",
    "    if trip_type==2: \n",
    "        e, f, g, h = node_a.pickup_location[0], node_a.pickup_location[1], node_b.pickup_location[0],node_b.pickup_location[1]\n",
    "    else:\n",
    "        pass\n",
    "        #TBD\n",
    "    request_str = 'http://localhost:8989/route?point=' + str(e) + '%2C' + str(f) + '&point=' + str(\n",
    "        g) + '%2C' + str(h) + '&vehicle=car'\n",
    "    request = Request(request_str)\n",
    "    res = requests.get(request_str)\n",
    "    distance = json.loads(res.text)['paths'][0]['distance']\n",
    "    time = json.loads(res.text)['paths'][0]['time']\n",
    "    minute, msec = divmod(time, 60000) \n",
    "    return distance / 1609.344 , minute + (msec / 100000)"
   ]
  },
  {
   "cell_type": "code",
   "execution_count": 61,
   "metadata": {},
   "outputs": [],
   "source": [
    "def get_all_pairs(node_a,node_b,trip_type):\n",
    "    if trip_type == 1:\n",
    "        #Combination LGA--> a -->b\n",
    "        #if no distance call graphhopper \n",
    "        LGA_a_dist = df_distance.loc[(node_a.pickup_location[2],node_a.dropoff_location[2])]['distance']\n",
    "        a_b_dist = df_distance.loc[(node_a.dropoff_location[2],node_b.dropoff_location[2])]['distance']\n",
    "        LGA_a_dur = df_distance.loc[(node_a.pickup_location[2],node_a.dropoff_location[2])]['duration']\n",
    "        a_b_dur = df_distance.loc[(node_a.dropoff_location[2],node_b.dropoff_location[2])]['duration']\n",
    "        \n",
    "        #Combination LGA--> b -->a\n",
    "        LGA_b_dist = df_distance.loc[(node_b.pickup_location[2],node_b.dropoff_location[2])]['distance']\n",
    "        b_a_dist = df_distance.loc[(node_b.dropoff_location[2],node_a.dropoff_location[2])]['distance']\n",
    "        LGA_b_dur = df_distance.loc[(node_b.pickup_location[2],node_b.dropoff_location[2])]['duration']\n",
    "        b_a_dur = df_distance.loc[(node_b.dropoff_location[2],node_a.dropoff_location[2])]['duration']\n",
    "        \n",
    "        path_1_total_dis,path_1_total_dur = LGA_a_dist + a_b_dist,LGA_a_dur + a_b_dur \n",
    "        path_1_a_dur,path_1_b_dur = LGA_a_dur,path_1_total_dur\n",
    "        \n",
    "        path_2_total_dis,path_2_total_dur = LGA_b_dist+b_a_dist,LGA_b_dur+b_a_dur\n",
    "        path_2_a_dur,path_2_b_dur         = path_2_total_dur ,LGA_b_dur\n",
    "               \n",
    "    else:\n",
    "        \n",
    "        if (node_a.pickup_location[2],node_b.pickup_location[2]) not in df_distance.index:\n",
    "            a_b_distance,a_b_duration = get_distance_duration(node_a,node_b,2)\n",
    "        else:\n",
    "            a_b_distance = df_distance.loc[(node_a.pickup_location[2],node_b.pickup_location[2])]['distance']\n",
    "            a_b_duration = df_distance.loc[(node_a.pickup_location[2],node_b.pickup_location[2])]['duration']\n",
    "        \n",
    "        #Combination a--> b --> LGA\n",
    "        a_b_dist   = a_b_distance\n",
    "        b_LGA_dist = node_b.distance \n",
    "        a_b_dur    = a_b_duration\n",
    "        b_LGA_dur  = node_b.duration\n",
    "        \n",
    "        if (node_b.pickup_location[2],node_a.pickup_location[2]) not in df_distance.index:\n",
    "            b_a_distance,b_a_duration = get_distance_duration(node_b,node_a,2)\n",
    "        else:\n",
    "            b_a_distance = df_distance.loc[(node_b.pickup_location[2],node_a.pickup_location[2])]['distance']\n",
    "            b_a_duration = df_distance.loc[(node_b.pickup_location[2],node_a.pickup_location[2])]['duration']\n",
    "        \n",
    "        #Combination b--> a --> LGA\n",
    "        b_a_dist   = b_a_distance\n",
    "        a_LGA_dist = node_a.distance \n",
    "        b_a_dur    = b_a_duration\n",
    "        a_LGA_dur  = node_a.duration\n",
    "        \n",
    "        path_1_total_dis,path_1_total_dur = a_b_dist + b_LGA_dist,a_b_dur + b_LGA_dur \n",
    "        path_1_a_dur,path_1_b_dur = path_1_total_dur,b_LGA_dur\n",
    "        \n",
    "        path_2_total_dis,path_2_total_dur, = b_a_dist+a_LGA_dist,b_a_dur+a_LGA_dur\n",
    "        path_2_a_dur,path_2_b_dur         = a_LGA_dur,path_2_total_dur\n",
    "        \n",
    "    return ((path_1_total_dis,path_1_total_dur,path_1_a_dur,path_1_b_dur),( path_2_total_dis,path_2_total_dur,path_2_a_dur,path_2_b_dur))\n",
    "    "
   ]
  },
  {
   "cell_type": "code",
   "execution_count": 62,
   "metadata": {},
   "outputs": [],
   "source": [
    "def calculate_edge_weight(node_a,node_b):\n",
    "    path1,path2 = get_all_pairs(node_a,node_b,2)\n",
    "    minimum_distance = float('inf')\n",
    "    for path in (path1,path2):\n",
    "        distance_contraint = (path[0] <= node_a.distance + node_b.distance)\n",
    "        delay_constraint = (path[2] <= node_a.duration + node_a.delay) & (path[3] <= node_b.duration + node_b.delay)\n",
    "        #add social constraint too...\n",
    "        \n",
    "        \n",
    "        if distance_contraint and delay_constraint and path[0]< minimum_distance:\n",
    "            minimum_distance = path[0]\n",
    "    distance_saved = node_a.distance + node_b.distance - minimum_distance\n",
    "    return distance_saved"
   ]
  },
  {
   "cell_type": "code",
   "execution_count": 63,
   "metadata": {},
   "outputs": [],
   "source": [
    "def get_rsg(G):\n",
    "    for node_a,node_b in list(combinations(G,2)):\n",
    "        if (node_a.passenger_count+node_b.passenger_count)<=4:\n",
    "            distance_saved = calculate_edge_weight(node_a,node_b)\n",
    "            if distance_saved!= float('inf') :\n",
    "                G.add_edge(node_a,node_b, weight=distance_saved)\n",
    "    return G"
   ]
  },
  {
   "cell_type": "markdown",
   "metadata": {},
   "source": [
    "# Running the algorithm for sample dataframe"
   ]
  },
  {
   "cell_type": "code",
   "execution_count": 66,
   "metadata": {},
   "outputs": [
    {
     "name": "stderr",
     "output_type": "stream",
     "text": [
      "/home/shet/.local/lib/python3.7/site-packages/networkx/algorithms/matching.py:370: RuntimeWarning: invalid value encountered in double_scalars\n",
      "  return dualvar[v] + dualvar[w] - 2 * G[v][w].get(weight, 1)\n"
     ]
    }
   ],
   "source": [
    "Final_Graph = []\n",
    "for _,trips in df.groupby(['pool_window']):\n",
    "    nodes = []\n",
    "    trips = trips.reset_index()\n",
    "    for idx, row in trips.iterrows():\n",
    "        nodes.append(Node(idx,trips.iloc[idx]))\n",
    "    G = nx.Graph()\n",
    "    G.add_nodes_from(nodes)\n",
    "    Final_Graph.append(G)\n",
    "    \n",
    "#Start of the code\n",
    "merged_trips = []\n",
    "cn=0\n",
    "for individual_graph in Final_Graph:\n",
    "    ride_sharing_graph = get_rsg(individual_graph)\n",
    "    #maximum weighted algorithm\n",
    "    maximum_weighted_graph = nx.max_weight_matching(ride_sharing_graph, maxcardinality=True)\n",
    "    g_match = nx.Graph()\n",
    "    for u,v in maximum_weighted_graph:\n",
    "        g_match.add_edge(u,v)\n",
    "        \n",
    "    merged_trips.append(g_match)"
   ]
  },
  {
   "cell_type": "markdown",
   "metadata": {
    "scrolled": true
   },
   "source": [
    "# Average distance saved per pool as a % of total distance of individual rides"
   ]
  },
  {
   "cell_type": "code",
   "execution_count": null,
   "metadata": {},
   "outputs": [],
   "source": [
    "new_dist, org_dist = [], []\n",
    "\n",
    "for idx in tqdm_notebook(range(len(weight_matches)), total=len(weight_matches)):\n",
    "    org_d, d = 0, 0\n",
    "    individual_nodes = set()\n",
    "    for node in data[idx].nodes:\n",
    "        org_d += node.trip_dist\n",
    "        individual_nodes.add(node)\n",
    "    for edge in weight_matches[idx].edges:\n",
    "        individual_nodes.remove(edge[0])\n",
    "        individual_nodes.remove(edge[1])\n",
    "        d += data[idx].get_edge_data(edge[0], edge[1])['weight']['distance']*4\n",
    "    for node in individual_nodes:\n",
    "        d += node.trip_dist\n",
    "    new_dist.append(d)\n",
    "    org_dist.append(org_d)\n",
    "\n",
    "print(sum([(1-x/y) for x, y in zip(new_dist, org_dist)])/len(org_dist) * 100)"
   ]
  },
  {
   "cell_type": "code",
   "execution_count": 68,
   "metadata": {},
   "outputs": [
    {
     "data": {
      "text/plain": [
       "129"
      ]
     },
     "execution_count": 68,
     "metadata": {},
     "output_type": "execute_result"
    }
   ],
   "source": [
    "len(merged_trips)"
   ]
  },
  {
   "cell_type": "code",
   "execution_count": null,
   "metadata": {},
   "outputs": [],
   "source": []
  }
 ],
 "metadata": {
  "kernelspec": {
   "display_name": "Python 3",
   "language": "python",
   "name": "python3"
  },
  "language_info": {
   "codemirror_mode": {
    "name": "ipython",
    "version": 3
   },
   "file_extension": ".py",
   "mimetype": "text/x-python",
   "name": "python",
   "nbconvert_exporter": "python",
   "pygments_lexer": "ipython3",
   "version": "3.7.3"
  }
 },
 "nbformat": 4,
 "nbformat_minor": 2
}
