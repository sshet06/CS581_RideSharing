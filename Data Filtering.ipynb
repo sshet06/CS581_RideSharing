{
 "cells": [
  {
   "cell_type": "code",
   "execution_count": 3,
   "metadata": {},
   "outputs": [],
   "source": [
    "import pandas as pd\n",
    "import numpy as np\n",
    "import seaborn as sns"
   ]
  },
  {
   "cell_type": "markdown",
   "metadata": {},
   "source": [
    "# Loading files for January 2016 to June 2016"
   ]
  },
  {
   "cell_type": "code",
   "execution_count": 2,
   "metadata": {},
   "outputs": [],
   "source": [
    "jan = pd.read_csv(r\"D:\\ADBMS\\yellow_tripdata_2016-01.csv\")\n",
    "feb = pd.read_csv(r\"D:\\ADBMS\\yellow_tripdata_2016-02.csv\")\n",
    "mar = pd.read_csv(r\"D:\\ADBMS\\yellow_tripdata_2016-03.csv\")\n",
    "apr = pd.read_csv(r\"D:\\ADBMS\\yellow_tripdata_2016-04.csv\")\n",
    "may = pd.read_csv(r\"D:\\ADBMS\\yellow_tripdata_2016-05.csv\")\n",
    "june = pd.read_csv(r\"D:\\ADBMS\\yellow_tripdata_2016-06.csv\")"
   ]
  },
  {
   "cell_type": "markdown",
   "metadata": {},
   "source": [
    "# Filtering data for Laguardia as drop-off point."
   ]
  },
  {
   "cell_type": "code",
   "execution_count": 95,
   "metadata": {},
   "outputs": [],
   "source": [
    "jan = jan[jan['dropoff_longitude'] >= -73.8741]\n",
    "jan = jan[jan['dropoff_longitude'] <= -73.8613]\n",
    "jan = jan[jan['dropoff_latitude'] >= 40.7633]\n",
    "jan = jan[jan['dropoff_latitude'] <= 40.7713]\n"
   ]
  },
  {
   "cell_type": "code",
   "execution_count": 96,
   "metadata": {},
   "outputs": [],
   "source": [
    "feb = feb[feb['dropoff_longitude'] >= -73.8741]\n",
    "feb = feb[feb['dropoff_longitude'] <= -73.8613]\n",
    "feb = feb[feb['dropoff_latitude'] >= 40.7633]\n",
    "feb = feb[feb['dropoff_latitude'] <= 40.7713]\n"
   ]
  },
  {
   "cell_type": "code",
   "execution_count": 97,
   "metadata": {},
   "outputs": [],
   "source": [
    "mar = mar[mar['dropoff_longitude'] >= -73.8741]\n",
    "mar = mar[mar['dropoff_longitude'] <= -73.8613]\n",
    "mar = mar[mar['dropoff_latitude'] >= 40.7633]\n",
    "mar = mar[mar['dropoff_latitude'] <= 40.7713]\n"
   ]
  },
  {
   "cell_type": "code",
   "execution_count": 98,
   "metadata": {},
   "outputs": [],
   "source": [
    "apr = apr[apr['dropoff_longitude'] >= -73.8741]\n",
    "apr = apr[apr['dropoff_longitude'] <= -73.8613]\n",
    "apr = apr[apr['dropoff_latitude'] >= 40.7633]\n",
    "apr = apr[apr['dropoff_latitude'] <= 40.7713]\n"
   ]
  },
  {
   "cell_type": "code",
   "execution_count": 99,
   "metadata": {},
   "outputs": [],
   "source": [
    "may = may[may['dropoff_longitude'] >= -73.8741]\n",
    "may = may[may['dropoff_longitude'] <= -73.8613]\n",
    "may = may[may['dropoff_latitude'] >= 40.7633]\n",
    "may = may[may['dropoff_latitude'] <= 40.7713]"
   ]
  },
  {
   "cell_type": "code",
   "execution_count": 100,
   "metadata": {},
   "outputs": [],
   "source": [
    "june = june[june['dropoff_longitude'] >= -73.8741]\n",
    "june = june[june['dropoff_longitude'] <= -73.8613]\n",
    "june = june[june['dropoff_latitude'] >= 40.7633]\n",
    "june = june[june['dropoff_latitude'] <= 40.7713]"
   ]
  },
  {
   "cell_type": "markdown",
   "metadata": {},
   "source": [
    "# Loading and filtering data for Laguadia as drop off point (for July to December 2015) "
   ]
  },
  {
   "cell_type": "code",
   "execution_count": null,
   "metadata": {},
   "outputs": [],
   "source": [
    "jul = pd.read_csv(r\"D:\\ADBMS\\yellow_tripdata_2015-07.csv\")\n",
    "\n",
    "jul1 = jul[jul['dropoff_longitude'] >= -73.8741]\n",
    "jul1 = jul1[jul1['dropoff_longitude'] <= -73.8613]\n",
    "jul1 = jul1[jul1['dropoff_latitude'] >= 40.7633]\n",
    "jul1 = jul1[jul1['dropoff_latitude'] <= 40.7713]\n"
   ]
  },
  {
   "cell_type": "code",
   "execution_count": 4,
   "metadata": {},
   "outputs": [],
   "source": [
    "aug = pd.read_csv(r\"D:\\ADBMS\\yellow_tripdata_2015-08.csv\")\n",
    "\n",
    "aug1 = aug[aug['dropoff_longitude'] >= -73.8741]\n",
    "aug1 = aug1[aug1['dropoff_longitude'] <= -73.8613]\n",
    "aug1 = aug1[aug1['dropoff_latitude'] >= 40.7633]\n",
    "aug1 = aug1[aug1['dropoff_latitude'] <= 40.7713]\n"
   ]
  },
  {
   "cell_type": "code",
   "execution_count": 5,
   "metadata": {},
   "outputs": [],
   "source": [
    "sep = pd.read_csv(r\"D:\\ADBMS\\yellow_tripdata_2015-09.csv\")\n",
    "\n",
    "sep1 = sep[sep['dropoff_longitude'] >= -73.8741]\n",
    "sep1 = sep1[sep1['dropoff_longitude'] <= -73.8613]\n",
    "sep1 = sep1[sep1['dropoff_latitude'] >= 40.7633]\n",
    "sep1 = sep1[sep1['dropoff_latitude'] <= 40.7713]\n"
   ]
  },
  {
   "cell_type": "code",
   "execution_count": 6,
   "metadata": {},
   "outputs": [],
   "source": [
    "octo = pd.read_csv(r\"D:\\ADBMS\\yellow_tripdata_2015-10.csv\")\n",
    "\n",
    "oct1 = octo[octo['dropoff_longitude'] >= -73.8741]\n",
    "oct1 = oct1[oct1['dropoff_longitude'] <= -73.8613]\n",
    "oct1 = oct1[oct1['dropoff_latitude'] >= 40.7633]\n",
    "oct1 = oct1[oct1['dropoff_latitude'] <= 40.7713]\n"
   ]
  },
  {
   "cell_type": "code",
   "execution_count": 7,
   "metadata": {},
   "outputs": [],
   "source": [
    "nov = pd.read_csv(r\"D:\\ADBMS\\yellow_tripdata_2015-11.csv\")\n",
    "nov1 = nov[nov['dropoff_longitude'] >= -73.8741]\n",
    "nov1 = nov1[nov1['dropoff_longitude'] <= -73.8613]\n",
    "nov1 = nov1[nov1['dropoff_latitude'] >= 40.7633]\n",
    "nov1 = nov1[nov1['dropoff_latitude'] <= 40.7713]\n"
   ]
  },
  {
   "cell_type": "code",
   "execution_count": 8,
   "metadata": {},
   "outputs": [],
   "source": [
    "dec = pd.read_csv(r\"D:\\ADBMS\\yellow_tripdata_2015-12.csv\")\n",
    "dec1 = dec[dec['dropoff_longitude'] >= -73.8741]\n",
    "dec1 = dec1[dec1['dropoff_longitude'] <= -73.8613]\n",
    "dec1 = dec1[dec1['dropoff_latitude'] >= 40.7633]\n",
    "dec1 = dec1[dec1['dropoff_latitude'] <= 40.7713]"
   ]
  },
  {
   "cell_type": "markdown",
   "metadata": {},
   "source": [
    "# Concatenating the files into one and converting them into csv"
   ]
  },
  {
   "cell_type": "code",
   "execution_count": 9,
   "metadata": {},
   "outputs": [],
   "source": [
    "laguardia_dropoff_2016 = pd.concat([jan, feb, mar, apr, may, june])\n",
    "laguardia_dropoff_2016.to_csv(r'D:\\ADBMS\\LaGuardia_dropoff_2015.csv')"
   ]
  },
  {
   "cell_type": "code",
   "execution_count": 15,
   "metadata": {},
   "outputs": [],
   "source": [
    "laguardia_pk_2015 = pd.concat([jul1, aug1, sep1, oct1, nov1, dec1])\n",
    "laguardia_pk_2015.to_csv(r'D:\\ADBMS\\LaGuardia_dropoff_2015.csv')"
   ]
  },
  {
   "cell_type": "markdown",
   "metadata": {},
   "source": [
    "# Loading files for January 2016 to June 2016\n"
   ]
  },
  {
   "cell_type": "code",
   "execution_count": null,
   "metadata": {},
   "outputs": [],
   "source": [
    "jan = pd.read_csv(r\"D:\\ADBMS\\yellow_tripdata_2016-01.csv\")\n",
    "feb = pd.read_csv(r\"D:\\ADBMS\\yellow_tripdata_2016-02.csv\")\n",
    "mar = pd.read_csv(r\"D:\\ADBMS\\yellow_tripdata_2016-03.csv\")\n",
    "apr = pd.read_csv(r\"D:\\ADBMS\\yellow_tripdata_2016-04.csv\")\n",
    "may = pd.read_csv(r\"D:\\ADBMS\\yellow_tripdata_2016-05.csv\")\n",
    "june = pd.read_csv(r\"D:\\ADBMS\\yellow_tripdata_2016-06.csv\")"
   ]
  },
  {
   "cell_type": "markdown",
   "metadata": {},
   "source": [
    "# Filtering data for LaGuardia as pickup point"
   ]
  },
  {
   "cell_type": "code",
   "execution_count": null,
   "metadata": {},
   "outputs": [],
   "source": [
    "jan = jan[jan['pickup_longitude'] >= -73.8741]\n",
    "jan = jan[jan['pickup_longitude'] <= -73.8613]\n",
    "jan = jan[jan['pickup_latitude'] >= 40.7633]\n",
    "jan = jan[jan['pickup_latitude'] <= 40.7713]\n"
   ]
  },
  {
   "cell_type": "code",
   "execution_count": null,
   "metadata": {},
   "outputs": [],
   "source": [
    "feb = feb[feb['pickup_longitude'] >= -73.8741]\n",
    "feb = feb[feb['pickup_longitude'] <= -73.8613]\n",
    "feb = feb[feb['pickup_latitude'] >= 40.7633]\n",
    "feb = feb[feb['pickup_latitude'] <= 40.7713]\n"
   ]
  },
  {
   "cell_type": "code",
   "execution_count": null,
   "metadata": {},
   "outputs": [],
   "source": [
    "mar = mar[mar['pickup_longitude'] >= -73.8741]\n",
    "mar = mar[mar['pickup_longitude'] <= -73.8613]\n",
    "mar = mar[mar['pickup_latitude'] >= 40.7633]\n",
    "mar = mar[mar['pickup_latitude'] <= 40.7713]\n"
   ]
  },
  {
   "cell_type": "code",
   "execution_count": null,
   "metadata": {},
   "outputs": [],
   "source": [
    "apr = apr[apr['pickup_longitude'] >= -73.8741]\n",
    "apr = apr[apr['pickup_longitude'] <= -73.8613]\n",
    "apr = apr[apr['pickup_latitude'] >= 40.7633]\n",
    "apr = apr[apr['pickup_latitude'] <= 40.7713]\n"
   ]
  },
  {
   "cell_type": "code",
   "execution_count": null,
   "metadata": {},
   "outputs": [],
   "source": [
    "may = may[may['pickup_longitude'] >= -73.8741]\n",
    "may = may[may['pickup_longitude'] <= -73.8613]\n",
    "may = may[may['pickup_latitude'] >= 40.7633]\n",
    "may = may[may['pickup_latitude'] <= 40.7713]\n"
   ]
  },
  {
   "cell_type": "code",
   "execution_count": null,
   "metadata": {},
   "outputs": [],
   "source": [
    "june = june[june['pickup_longitude'] >= -73.8741]\n",
    "june = june[june['pickup_longitude'] <= -73.8613]\n",
    "june = june[june['pickup_latitude'] >= 40.7633]\n",
    "june = june[june['pickup_latitude'] <= 40.7713]\n"
   ]
  },
  {
   "cell_type": "markdown",
   "metadata": {},
   "source": [
    "# Loading and filtering data for LaGuardia as pickup point (for July to December 2015)"
   ]
  },
  {
   "cell_type": "code",
   "execution_count": null,
   "metadata": {},
   "outputs": [],
   "source": [
    "jul = pd.read_csv(r\"D:\\ADBMS\\yellow_tripdata_2015-07.csv\")\n",
    "\n",
    "jul1 = jul[jul['pickup_longitude'] >= -73.8741]\n",
    "jul1 = jul1[jul1['pickup_longitude'] <= -73.8613]\n",
    "jul1 = jul1[jul1['pickup_latitude'] >= 40.7633]\n",
    "jul1 = jul1[jul1['pickup_latitude'] <= 40.7713]\n"
   ]
  },
  {
   "cell_type": "code",
   "execution_count": null,
   "metadata": {},
   "outputs": [],
   "source": [
    "aug = pd.read_csv(r\"D:\\ADBMS\\yellow_tripdata_2015-08.csv\")\n",
    "\n",
    "aug1 = aug[aug['pickup_longitude'] >= -73.8741]\n",
    "aug1 = aug1[aug1['pickup_longitude'] <= -73.8613]\n",
    "aug1 = aug1[aug1['pickup_latitude'] >= 40.7633]\n",
    "aug1 = aug1[aug1['pickup_latitude'] <= 40.7713]\n"
   ]
  },
  {
   "cell_type": "code",
   "execution_count": null,
   "metadata": {},
   "outputs": [],
   "source": [
    "sep = pd.read_csv(r\"D:\\ADBMS\\yellow_tripdata_2015-09.csv\")\n",
    "\n",
    "sep1 = sep[sep['pickup_longitude'] >= -73.8741]\n",
    "sep1 = sep1[sep1['pickup_longitude'] <= -73.8613]\n",
    "sep1 = sep1[sep1['pickup_latitude'] >= 40.7633]\n",
    "sep1 = sep1[sep1['pickup_latitude'] <= 40.7713]\n"
   ]
  },
  {
   "cell_type": "code",
   "execution_count": null,
   "metadata": {},
   "outputs": [],
   "source": [
    "octo = pd.read_csv(r\"D:\\ADBMS\\yellow_tripdata_2015-10.csv\")\n",
    "\n",
    "oct1 = octo[octo['pickup_longitude'] >= -73.8741]\n",
    "oct1 = oct1[oct1['pickup_longitude'] <= -73.8613]\n",
    "oct1 = oct1[oct1['pickup_latitude'] >= 40.7633]\n",
    "oct1 = oct1[oct1['pickup_latitude'] <= 40.7713]\n"
   ]
  },
  {
   "cell_type": "code",
   "execution_count": null,
   "metadata": {},
   "outputs": [],
   "source": [
    "nov = pd.read_csv(r\"D:\\ADBMS\\yellow_tripdata_2015-11.csv\")\n",
    "nov1 = nov[nov['pickup_longitude'] >= -73.8741]\n",
    "nov1 = nov1[nov1['pickup_longitude'] <= -73.8613]\n",
    "nov1 = nov1[nov1['pickup_latitude'] >= 40.7633]\n",
    "nov1 = nov1[nov1['pickup_latitude'] <= 40.7713]\n"
   ]
  },
  {
   "cell_type": "code",
   "execution_count": null,
   "metadata": {},
   "outputs": [],
   "source": [
    "dec = pd.read_csv(r\"D:\\ADBMS\\yellow_tripdata_2015-12.csv\")\n",
    "dec1 = dec[dec['pickup_longitude'] >= -73.8741]\n",
    "dec1 = dec1[dec1['pickup_longitude'] <= -73.8613]\n",
    "dec1 = dec1[dec1['pickup_latitude'] >= 40.7633]\n",
    "dec1 = dec1[dec1['pickup_latitude'] <= 40.7713]\n"
   ]
  },
  {
   "cell_type": "markdown",
   "metadata": {},
   "source": [
    "# Concatenating the files into one and converting them into csv"
   ]
  },
  {
   "cell_type": "code",
   "execution_count": null,
   "metadata": {},
   "outputs": [],
   "source": [
    "laguardia_pickup_2016 = pd.concat([jan, feb, mar, apr, may, june])\n",
    "laguardia_pickup_2016.to_csv(r'D:\\ADBMS\\LaGuardia_pickup_2015.csv')\n",
    "\n",
    "laguardia_pk_2015 = pd.concat([jul1, aug1, sep1, oct1, nov1, dec1])\n",
    "laguardia_pk_2015.to_csv(r'D:\\ADBMS\\LaGuardia_pickup_2015.csv')\n"
   ]
  }
 ],
 "metadata": {
  "kernelspec": {
   "display_name": "Python 3",
   "language": "python",
   "name": "python3"
  },
  "language_info": {
   "codemirror_mode": {
    "name": "ipython",
    "version": 3
   },
   "file_extension": ".py",
   "mimetype": "text/x-python",
   "name": "python",
   "nbconvert_exporter": "python",
   "pygments_lexer": "ipython3",
   "version": "3.7.6"
  }
 },
 "nbformat": 4,
 "nbformat_minor": 2
}
