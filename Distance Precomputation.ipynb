{
 "cells": [
  {
   "cell_type": "code",
   "execution_count": 30,
   "metadata": {},
   "outputs": [],
   "source": [
    "import pandas as pd\n",
    "import matplotlib.pyplot as plt\n",
    "import requests\n",
    "from h3 import h3\n",
    "import json\n",
    "from urllib.request import URLError, Request, urlopen\n",
    "from itertools import combinations\n",
    "from itertools import permutations\n",
    "from dateutil import parser\n",
    "from datetime import datetime, timedelta\n",
    "import math\n",
    "import networkx as nx\n",
    "\n",
    "import csv\n",
    "file = open('log.csv','a')\n",
    "\n",
    "def get(dataframe,trip_type):\n",
    "    a,b,c,d=[],[],[],[]\n",
    "    df_distance =  pd.DataFrame(columns = ['pickup_h3','dropoff_h3','distance','duration'])\n",
    "    for node_a, node_b in list(permutations(dataframe.index, 2)):\n",
    "        temp_curr, temp_next = [], []\n",
    "        \n",
    "        if trip_type==2:\n",
    "            h3 = 'pickup_h3'\n",
    "            lat_long = 'pickup'\n",
    "        else:\n",
    "            h3 = 'dropoff_h3'\n",
    "            lat_long = 'dropoff'\n",
    "        from_location = dataframe.iloc[node_a][h3]\n",
    "        to_location = dataframe.iloc[node_b][h3]\n",
    "        u1,u2,v1,v2= dataframe.iloc[node_a][lat_long+'_latitude'], dataframe.iloc[node_a][lat_long+'_longitude'],\\\n",
    "        dataframe.iloc[node_b][lat_long+'_latitude'],dataframe.iloc[node_b][lat_long+'_longitude']\n",
    "        \n",
    "        request_str = 'http://localhost:8989/route?point=' + str(u1) + '%2C' + str(u2) + '&point=' + str(\n",
    "            v1) + '%2C' + str(v2) + '&vehicle=car'\n",
    "        request = Request(request_str)\n",
    "        res = requests.get(request_str)\n",
    "        if 'paths' in json.loads(res.text):\n",
    "            distance = json.loads(res.text)['paths'][0]['distance']\n",
    "\n",
    "            time = json.loads(res.text)['paths'][0]['time']\n",
    "            minute, msec = divmod(time, 60000)\n",
    "            if (distance / 1609.344) <=2:\n",
    "                a.append(from_location)\n",
    "                b.append(to_location)\n",
    "                c.append(distance / 1609.344)  # convert meters to miles\n",
    "                d.append(minute + (msec / 100000))  # convert ms to s and add to min\n",
    "        else:\n",
    "            continue\n",
    "\n",
    "    df_distance['pickup_h3'] = a\n",
    "    df_distance['dropoff_h3'] = b\n",
    "    df_distance['distance'] = c\n",
    "    df_distance['duration'] = d\n",
    "    return df_distance"
   ]
  },
  {
   "cell_type": "code",
   "execution_count": 22,
   "metadata": {},
   "outputs": [],
   "source": [
    "from tqdm import tqdm\n",
    "def get_distance(df_sub,trip_type):\n",
    "    final_distance=[]\n",
    "    for _,trips in tqdm(df_sub.groupby(['pool_window']),total=df_sub.groupby(['pool_window']).ngroups):\n",
    "        trips = trips.reset_index()\n",
    "        df_distance=  get(trips,trip_type)\n",
    "        final_distance.append(df_distance)\n",
    "    \n",
    "    df_distance = pd.concat(final_distance)\n",
    "    df_distance.drop_duplicates(subset=['pickup_h3','dropoff_h3'],keep=False,inplace=True)\n",
    "    return df_distance"
   ]
  },
  {
   "cell_type": "markdown",
   "metadata": {},
   "source": [
    "# Reload the respective month data"
   ]
  },
  {
   "cell_type": "code",
   "execution_count": 28,
   "metadata": {},
   "outputs": [
    {
     "name": "stdout",
     "output_type": "stream",
     "text": [
      "Enter the full path to the month's trip data:/home/shet/Documents/CS_RideSharing/Data/LGA as dropoff/LaGuardia_as_dropoff_2015-Jan.csv\n",
      "Enter the trip_type\n",
      " 1.From LGA\n",
      " 2.To LGA\n",
      "2\n"
     ]
    },
    {
     "data": {
      "text/plain": [
       "(53625, 12)"
      ]
     },
     "execution_count": 28,
     "metadata": {},
     "output_type": "execute_result"
    }
   ],
   "source": [
    "def ceil_dt(dt, delta):\n",
    "        return datetime.min + math.ceil((dt - datetime.min) / delta) * delta\n",
    "trip_file = input(\"Enter the full path to the month's trip data:\")\n",
    "trip_type = input(\"Enter the trip_type\\n 1.From LGA\\n 2.To LGA\\n\")\n",
    "if trip_type =='1':\n",
    "    resolution = (15,15)\n",
    "    distance_file = 'LGA_as_Pickup_months'\n",
    "else:\n",
    "    resolution = (10,8)\n",
    "    distance_file = 'LGA_drop_off_months'\n",
    "df = pd.read_csv(trip_file)\n",
    "columns = ['tpep_pickup_datetime', 'tpep_dropoff_datetime','passenger_count',\\\n",
    "       'trip_distance', 'pickup_longitude','pickup_latitude','dropoff_longitude', 'dropoff_latitude']\n",
    "df = df[columns]\n",
    "df.rename(columns={'tpep_pickup_datetime':'pickup_time',\n",
    "       'tpep_dropoff_datetime':'dropoff_time'},inplace=True)\n",
    "drop_index=df[(df.pickup_latitude==0)|(df.pickup_longitude==0)].index\n",
    "df.drop(drop_index,inplace=True)\n",
    "df['pickup_time'] = pd.to_datetime(df['pickup_time'])\n",
    "df['dropoff_time'] = pd.to_datetime(df['dropoff_time'])\n",
    "df['pickup_h3'] = df.apply(lambda x: h3.geo_to_h3(x['pickup_latitude'], x['pickup_longitude'], resolution[0]), axis=1)\n",
    "df['dropoff_h3'] = df.apply(lambda x: h3.geo_to_h3(x['dropoff_latitude'], x['dropoff_longitude'], resolution[1]), axis=1)\n",
    "df['duration'] = (df['pickup_time']-df['dropoff_time']).dt.seconds\n",
    "df['delay'] = df['duration'].apply(lambda x: x*0.20)\n",
    "df.shape"
   ]
  },
  {
   "cell_type": "code",
   "execution_count": 31,
   "metadata": {
    "scrolled": false
   },
   "outputs": [
    {
     "name": "stderr",
     "output_type": "stream",
     "text": [
      "/usr/lib/python3/dist-packages/ipykernel_launcher.py:16: SettingWithCopyWarning: \n",
      "A value is trying to be set on a copy of a slice from a DataFrame.\n",
      "Try using .loc[row_indexer,col_indexer] = value instead\n",
      "\n",
      "See the caveats in the documentation: http://pandas.pydata.org/pandas-docs/stable/indexing.html#indexing-view-versus-copy\n",
      "  app.launch_new_instance()\n",
      "  2%|▏         | 3/129 [00:00<00:04, 28.40it/s]"
     ]
    },
    {
     "name": "stdout",
     "output_type": "stream",
     "text": [
      "Starting distance calculation...\n"
     ]
    },
    {
     "name": "stderr",
     "output_type": "stream",
     "text": [
      "100%|██████████| 129/129 [01:05<00:00,  1.97it/s]\n",
      "  0%|          | 0/128 [00:00<?, ?it/s]"
     ]
    },
    {
     "name": "stdout",
     "output_type": "stream",
     "text": [
      "Time take for 1 day = 1.0911336223284402 min\n",
      "Done with Distance/LGA_drop_off/2015-01-01.csv data\n",
      "\n",
      "Starting distance calculation...\n"
     ]
    },
    {
     "name": "stderr",
     "output_type": "stream",
     "text": [
      "100%|██████████| 128/128 [01:27<00:00,  1.46it/s]\n",
      "  0%|          | 0/124 [00:00<?, ?it/s]"
     ]
    },
    {
     "name": "stdout",
     "output_type": "stream",
     "text": [
      "Time take for 1 day = 1.46667666832606 min\n",
      "Done with Distance/LGA_drop_off/2015-01-02.csv data\n",
      "\n",
      "Starting distance calculation...\n"
     ]
    },
    {
     "name": "stderr",
     "output_type": "stream",
     "text": [
      "100%|██████████| 124/124 [01:15<00:00,  1.64it/s]\n",
      "  9%|▉         | 12/131 [00:00<00:01, 104.63it/s]"
     ]
    },
    {
     "name": "stdout",
     "output_type": "stream",
     "text": [
      "Time take for 1 day = 1.2642666816711425 min\n",
      "Done with Distance/LGA_drop_off/2015-01-03.csv data\n",
      "\n",
      "Starting distance calculation...\n"
     ]
    },
    {
     "name": "stderr",
     "output_type": "stream",
     "text": [
      "100%|██████████| 131/131 [02:29<00:00,  1.14s/it]\n",
      "  9%|▉         | 12/129 [00:00<00:00, 119.81it/s]"
     ]
    },
    {
     "name": "stdout",
     "output_type": "stream",
     "text": [
      "Time take for 1 day = 2.5005302945772807 min\n",
      "Done with Distance/LGA_drop_off/2015-01-04.csv data\n",
      "\n",
      "Starting distance calculation...\n"
     ]
    },
    {
     "name": "stderr",
     "output_type": "stream",
     "text": [
      "100%|██████████| 129/129 [02:31<00:00,  1.17s/it]\n",
      "  0%|          | 0/134 [00:00<?, ?it/s]"
     ]
    },
    {
     "name": "stdout",
     "output_type": "stream",
     "text": [
      "Time take for 1 day = 2.521651283899943 min\n",
      "Done with Distance/LGA_drop_off/2015-01-05.csv data\n",
      "\n",
      "Starting distance calculation...\n"
     ]
    },
    {
     "name": "stderr",
     "output_type": "stream",
     "text": [
      "100%|██████████| 134/134 [01:36<00:00,  1.39it/s]\n",
      "  9%|▉         | 12/133 [00:00<00:01, 119.33it/s]"
     ]
    },
    {
     "name": "stdout",
     "output_type": "stream",
     "text": [
      "Time take for 1 day = 1.6061089197794596 min\n",
      "Done with Distance/LGA_drop_off/2015-01-06.csv data\n",
      "\n",
      "Starting distance calculation...\n"
     ]
    },
    {
     "name": "stderr",
     "output_type": "stream",
     "text": [
      "100%|██████████| 133/133 [01:45<00:00,  1.26it/s]\n",
      "  0%|          | 0/132 [00:00<?, ?it/s]"
     ]
    },
    {
     "name": "stdout",
     "output_type": "stream",
     "text": [
      "Time take for 1 day = 1.7543755451838174 min\n",
      "Done with Distance/LGA_drop_off/2015-01-07.csv data\n",
      "\n",
      "Starting distance calculation...\n"
     ]
    },
    {
     "name": "stderr",
     "output_type": "stream",
     "text": [
      "100%|██████████| 132/132 [02:52<00:00,  1.31s/it]\n",
      "  0%|          | 0/128 [00:00<?, ?it/s]"
     ]
    },
    {
     "name": "stdout",
     "output_type": "stream",
     "text": [
      "Time take for 1 day = 2.8838454047838846 min\n",
      "Done with Distance/LGA_drop_off/2015-01-08.csv data\n",
      "\n",
      "Starting distance calculation...\n"
     ]
    },
    {
     "name": "stderr",
     "output_type": "stream",
     "text": [
      "100%|██████████| 128/128 [02:40<00:00,  1.25s/it]\n",
      "  7%|▋         | 8/116 [00:00<00:01, 66.07it/s]"
     ]
    },
    {
     "name": "stdout",
     "output_type": "stream",
     "text": [
      "Time take for 1 day = 2.6730170130729674 min\n",
      "Done with Distance/LGA_drop_off/2015-01-09.csv data\n",
      "\n",
      "Starting distance calculation...\n"
     ]
    },
    {
     "name": "stderr",
     "output_type": "stream",
     "text": [
      "100%|██████████| 116/116 [00:41<00:00,  2.82it/s]\n",
      "  7%|▋         | 9/123 [00:00<00:01, 87.52it/s]"
     ]
    },
    {
     "name": "stdout",
     "output_type": "stream",
     "text": [
      "Time take for 1 day = 0.6875457723935445 min\n",
      "Done with Distance/LGA_drop_off/2015-01-10.csv data\n",
      "\n",
      "Starting distance calculation...\n"
     ]
    },
    {
     "name": "stderr",
     "output_type": "stream",
     "text": [
      "100%|██████████| 123/123 [03:02<00:00,  1.49s/it]\n",
      "  0%|          | 0/126 [00:00<?, ?it/s]"
     ]
    },
    {
     "name": "stdout",
     "output_type": "stream",
     "text": [
      "Time take for 1 day = 3.047339689731598 min\n",
      "Done with Distance/LGA_drop_off/2015-01-11.csv data\n",
      "\n",
      "Starting distance calculation...\n"
     ]
    },
    {
     "name": "stderr",
     "output_type": "stream",
     "text": [
      "100%|██████████| 126/126 [02:33<00:00,  1.22s/it]\n",
      "  0%|          | 0/123 [00:00<?, ?it/s]"
     ]
    },
    {
     "name": "stdout",
     "output_type": "stream",
     "text": [
      "Time take for 1 day = 2.553955642382304 min\n",
      "Done with Distance/LGA_drop_off/2015-01-12.csv data\n",
      "\n",
      "Starting distance calculation...\n"
     ]
    },
    {
     "name": "stderr",
     "output_type": "stream",
     "text": [
      "100%|██████████| 123/123 [34:13<00:00, 16.69s/it]  \n",
      "  0%|          | 0/121 [00:00<?, ?it/s]"
     ]
    },
    {
     "name": "stdout",
     "output_type": "stream",
     "text": [
      "Time take for 1 day = 34.21946030457814 min\n",
      "Done with Distance/LGA_drop_off/2015-01-13.csv data\n",
      "\n",
      "Starting distance calculation...\n"
     ]
    },
    {
     "name": "stderr",
     "output_type": "stream",
     "text": [
      "100%|██████████| 121/121 [06:41<00:00,  3.31s/it]\n",
      "  0%|          | 0/120 [00:00<?, ?it/s]"
     ]
    },
    {
     "name": "stdout",
     "output_type": "stream",
     "text": [
      "Time take for 1 day = 6.685253099600474 min\n",
      "Done with Distance/LGA_drop_off/2015-01-14.csv data\n",
      "\n",
      "Starting distance calculation...\n"
     ]
    },
    {
     "name": "stderr",
     "output_type": "stream",
     "text": [
      "100%|██████████| 120/120 [06:22<00:00,  3.19s/it]\n",
      "  0%|          | 0/128 [00:00<?, ?it/s]"
     ]
    },
    {
     "name": "stdout",
     "output_type": "stream",
     "text": [
      "Time take for 1 day = 6.378635028998057 min\n",
      "Done with Distance/LGA_drop_off/2015-01-15.csv data\n",
      "\n",
      "Starting distance calculation...\n"
     ]
    },
    {
     "name": "stderr",
     "output_type": "stream",
     "text": [
      "100%|██████████| 128/128 [06:59<00:00,  3.28s/it]\n",
      "  0%|          | 0/117 [00:00<?, ?it/s]"
     ]
    },
    {
     "name": "stdout",
     "output_type": "stream",
     "text": [
      "Time take for 1 day = 7.000844391187032 min\n",
      "Done with Distance/LGA_drop_off/2015-01-16.csv data\n",
      "\n",
      "Starting distance calculation...\n"
     ]
    },
    {
     "name": "stderr",
     "output_type": "stream",
     "text": [
      "100%|██████████| 117/117 [01:10<00:00,  1.65it/s]\n",
      "  0%|          | 0/122 [00:00<?, ?it/s]"
     ]
    },
    {
     "name": "stdout",
     "output_type": "stream",
     "text": [
      "Time take for 1 day = 1.1837799628575643 min\n",
      "Done with Distance/LGA_drop_off/2015-01-17.csv data\n",
      "\n",
      "Starting distance calculation...\n"
     ]
    },
    {
     "name": "stderr",
     "output_type": "stream",
     "text": [
      "100%|██████████| 122/122 [01:46<00:00,  1.15it/s]\n",
      "  0%|          | 0/118 [00:00<?, ?it/s]"
     ]
    },
    {
     "name": "stdout",
     "output_type": "stream",
     "text": [
      "Time take for 1 day = 1.7741957426071167 min\n",
      "Done with Distance/LGA_drop_off/2015-01-18.csv data\n",
      "\n",
      "Starting distance calculation...\n"
     ]
    },
    {
     "name": "stderr",
     "output_type": "stream",
     "text": [
      "100%|██████████| 118/118 [04:07<00:00,  2.10s/it]\n",
      "  6%|▌         | 7/117 [00:00<00:01, 69.35it/s]"
     ]
    },
    {
     "name": "stdout",
     "output_type": "stream",
     "text": [
      "Time take for 1 day = 4.1332949757575985 min\n",
      "Done with Distance/LGA_drop_off/2015-01-19.csv data\n",
      "\n",
      "Starting distance calculation...\n"
     ]
    },
    {
     "name": "stderr",
     "output_type": "stream",
     "text": [
      "100%|██████████| 117/117 [02:59<00:00,  1.54s/it]\n",
      "  6%|▌         | 7/118 [00:00<00:01, 59.72it/s]"
     ]
    },
    {
     "name": "stdout",
     "output_type": "stream",
     "text": [
      "Time take for 1 day = 2.9948877453804017 min\n",
      "Done with Distance/LGA_drop_off/2015-01-20.csv data\n",
      "\n",
      "Starting distance calculation...\n"
     ]
    },
    {
     "name": "stderr",
     "output_type": "stream",
     "text": [
      "100%|██████████| 118/118 [03:41<00:00,  1.87s/it]\n",
      "  0%|          | 0/118 [00:00<?, ?it/s]"
     ]
    },
    {
     "name": "stdout",
     "output_type": "stream",
     "text": [
      "Time take for 1 day = 3.685512673854828 min\n",
      "Done with Distance/LGA_drop_off/2015-01-21.csv data\n",
      "\n",
      "Starting distance calculation...\n"
     ]
    },
    {
     "name": "stderr",
     "output_type": "stream",
     "text": [
      "100%|██████████| 118/118 [06:14<00:00,  3.17s/it]\n",
      "  0%|          | 0/120 [00:00<?, ?it/s]"
     ]
    },
    {
     "name": "stdout",
     "output_type": "stream",
     "text": [
      "Time take for 1 day = 6.237417380015056 min\n",
      "Done with Distance/LGA_drop_off/2015-01-22.csv data\n",
      "\n",
      "Starting distance calculation...\n"
     ]
    },
    {
     "name": "stderr",
     "output_type": "stream",
     "text": [
      "100%|██████████| 120/120 [05:39<00:00,  2.83s/it]\n",
      "  0%|          | 0/118 [00:00<?, ?it/s]"
     ]
    },
    {
     "name": "stdout",
     "output_type": "stream",
     "text": [
      "Time take for 1 day = 5.657809217770894 min\n",
      "Done with Distance/LGA_drop_off/2015-01-23.csv data\n",
      "\n",
      "Starting distance calculation...\n"
     ]
    },
    {
     "name": "stderr",
     "output_type": "stream",
     "text": [
      "100%|██████████| 118/118 [00:36<00:00,  3.27it/s]\n",
      "  7%|▋         | 8/122 [00:00<00:02, 53.87it/s]"
     ]
    },
    {
     "name": "stdout",
     "output_type": "stream",
     "text": [
      "Time take for 1 day = 0.6022868315378825 min\n",
      "Done with Distance/LGA_drop_off/2015-01-24.csv data\n",
      "\n",
      "Starting distance calculation...\n"
     ]
    },
    {
     "name": "stderr",
     "output_type": "stream",
     "text": [
      "100%|██████████| 122/122 [04:12<00:00,  2.07s/it]\n",
      "  0%|          | 0/106 [00:00<?, ?it/s]"
     ]
    },
    {
     "name": "stdout",
     "output_type": "stream",
     "text": [
      "Time take for 1 day = 4.214402099450429 min\n",
      "Done with Distance/LGA_drop_off/2015-01-25.csv data\n",
      "\n",
      "Starting distance calculation...\n"
     ]
    },
    {
     "name": "stderr",
     "output_type": "stream",
     "text": [
      "100%|██████████| 106/106 [02:32<00:00,  1.44s/it]\n",
      " 65%|██████▌   | 13/20 [00:00<00:00, 129.65it/s]"
     ]
    },
    {
     "name": "stdout",
     "output_type": "stream",
     "text": [
      "Time take for 1 day = 2.5421329418818157 min\n",
      "Done with Distance/LGA_drop_off/2015-01-26.csv data\n",
      "\n",
      "Starting distance calculation...\n"
     ]
    },
    {
     "name": "stderr",
     "output_type": "stream",
     "text": [
      "100%|██████████| 20/20 [00:00<00:00, 124.84it/s]\n",
      "  5%|▌         | 6/115 [00:00<00:02, 46.97it/s]"
     ]
    },
    {
     "name": "stdout",
     "output_type": "stream",
     "text": [
      "Time take for 1 day = 0.0032726168632507325 min\n",
      "Done with Distance/LGA_drop_off/2015-01-27.csv data\n",
      "\n",
      "Starting distance calculation...\n"
     ]
    },
    {
     "name": "stderr",
     "output_type": "stream",
     "text": [
      "100%|██████████| 115/115 [01:51<00:00,  1.03it/s]\n",
      "  6%|▌         | 7/123 [00:00<00:02, 53.96it/s]"
     ]
    },
    {
     "name": "stdout",
     "output_type": "stream",
     "text": [
      "Time take for 1 day = 1.8554708321889242 min\n",
      "Done with Distance/LGA_drop_off/2015-01-28.csv data\n",
      "\n",
      "Starting distance calculation...\n"
     ]
    },
    {
     "name": "stderr",
     "output_type": "stream",
     "text": [
      "100%|██████████| 123/123 [02:39<00:00,  1.30s/it]\n",
      "  0%|          | 0/119 [00:00<?, ?it/s]"
     ]
    },
    {
     "name": "stdout",
     "output_type": "stream",
     "text": [
      "Time take for 1 day = 2.662136709690094 min\n",
      "Done with Distance/LGA_drop_off/2015-01-29.csv data\n",
      "\n",
      "Starting distance calculation...\n"
     ]
    },
    {
     "name": "stderr",
     "output_type": "stream",
     "text": [
      "100%|██████████| 119/119 [03:45<00:00,  1.89s/it]\n",
      "  7%|▋         | 8/111 [00:00<00:01, 78.61it/s]"
     ]
    },
    {
     "name": "stdout",
     "output_type": "stream",
     "text": [
      "Time take for 1 day = 3.7520330707232157 min\n",
      "Done with Distance/LGA_drop_off/2015-01-30.csv data\n",
      "\n",
      "Starting distance calculation...\n"
     ]
    },
    {
     "name": "stderr",
     "output_type": "stream",
     "text": [
      "100%|██████████| 111/111 [00:32<00:00,  3.37it/s]"
     ]
    },
    {
     "name": "stdout",
     "output_type": "stream",
     "text": [
      "Time take for 1 day = 0.5497308135032654 min\n",
      "Done with Distance/LGA_drop_off/2015-01-31.csv data\n",
      "\n"
     ]
    },
    {
     "name": "stderr",
     "output_type": "stream",
     "text": [
      "\n"
     ]
    }
   ],
   "source": [
    "from time import time\n",
    "month = 1 # the month you want to download\n",
    "for day in range(1,32):\n",
    "    start = time()\n",
    "    if day <= 9:\n",
    "        start_date ='2015-0'+str(month)+'-0'+str(day)+' 00:00:00'\n",
    "        end_date = '2015-0'+str(month)+'-0'+str(day)+' 23:59:59'\n",
    "        \n",
    "    else:\n",
    "        start_date = '2015-0'+str(month)+'-'+str(day)+' 00:00:00'\n",
    "        end_date = '2015-0'+str(month)+'-'+str(day)+' 23:59:59'\n",
    "    \n",
    "    df_sub = df[(df['pickup_time'] >= start_date) & (df['dropoff_time'] <= end_date)]\n",
    "    df_sub.reset_index(drop=True,inplace=True)\n",
    "    \n",
    "    df_sub['pool_window'] = df_sub['pickup_time'].apply(lambda x: ceil_dt(x.to_pydatetime(), timedelta(minutes=10)))\n",
    "    print(\"Starting distance calculation...\")\n",
    "    df_distance = get_distance(df_sub,int(trip_type))\n",
    "    df_distance.reset_index(drop=True,inplace=True) \n",
    "    print('Time take for 1 day = {} min'.format((time()-start)/60))\n",
    "    file_name = 'Distance/'+distance_file+'/'+start_date.split()[0]+'.csv'\n",
    "    df_distance.to_csv(file_name)\n",
    "    print('Done with {} data\\n'.format(file_name))\n",
    "    del  df_distance\n",
    "file.close()"
   ]
  },
  {
   "cell_type": "markdown",
   "metadata": {},
   "source": [
    "# concatenate all days file into month"
   ]
  },
  {
   "cell_type": "code",
   "execution_count": 4,
   "metadata": {},
   "outputs": [
    {
     "name": "stdout",
     "output_type": "stream",
     "text": [
      "Done merging Distance/LGA_drop_off/2015-01-01.csv\n",
      "Done merging Distance/LGA_drop_off/2015-01-02.csv\n",
      "Done merging Distance/LGA_drop_off/2015-01-03.csv\n",
      "Done merging Distance/LGA_drop_off/2015-01-01.csv\n",
      "Done merging Distance/LGA_drop_off/2015-01-02.csv\n",
      "Done merging Distance/LGA_drop_off/2015-01-03.csv\n",
      "Done merging Distance/LGA_drop_off/2015-01-04.csv\n",
      "Done merging Distance/LGA_drop_off/2015-01-05.csv\n",
      "Done merging Distance/LGA_drop_off/2015-01-06.csv\n",
      "Done merging Distance/LGA_drop_off/2015-01-07.csv\n",
      "Done merging Distance/LGA_drop_off/2015-01-08.csv\n",
      "Done merging Distance/LGA_drop_off/2015-01-09.csv\n",
      "Done merging Distance/LGA_drop_off/2015-01-10.csv\n",
      "Done merging Distance/LGA_drop_off/2015-01-11.csv\n",
      "Done merging Distance/LGA_drop_off/2015-01-12.csv\n",
      "Done merging Distance/LGA_drop_off/2015-01-13.csv\n",
      "Done merging Distance/LGA_drop_off/2015-01-14.csv\n",
      "Done merging Distance/LGA_drop_off/2015-01-15.csv\n",
      "Done merging Distance/LGA_drop_off/2015-01-16.csv\n",
      "Done merging Distance/LGA_drop_off/2015-01-17.csv\n",
      "Done merging Distance/LGA_drop_off/2015-01-18.csv\n",
      "Done merging Distance/LGA_drop_off/2015-01-19.csv\n",
      "Done merging Distance/LGA_drop_off/2015-01-20.csv\n",
      "Done merging Distance/LGA_drop_off/2015-01-21.csv\n",
      "Done merging Distance/LGA_drop_off/2015-01-22.csv\n",
      "Done merging Distance/LGA_drop_off/2015-01-23.csv\n",
      "Done merging Distance/LGA_drop_off/2015-01-24.csv\n",
      "Done merging Distance/LGA_drop_off/2015-01-25.csv\n",
      "Done merging Distance/LGA_drop_off/2015-01-26.csv\n",
      "Done merging Distance/LGA_drop_off/2015-01-27.csv\n",
      "Done merging Distance/LGA_drop_off/2015-01-28.csv\n",
      "Done merging Distance/LGA_drop_off/2015-01-29.csv\n",
      "Done merging Distance/LGA_drop_off/2015-01-30.csv\n",
      "Done merging Distance/LGA_drop_off/2015-01-31.csv\n",
      "Done merging Distance/LGA_as_pickup/2015-01-01.csv\n",
      "Done merging Distance/LGA_as_pickup/2015-01-02.csv\n",
      "Done merging Distance/LGA_as_pickup/2015-01-03.csv\n",
      "Done merging Distance/LGA_as_pickup/2015-01-01.csv\n",
      "Done merging Distance/LGA_as_pickup/2015-01-02.csv\n",
      "Done merging Distance/LGA_as_pickup/2015-01-03.csv\n",
      "Done merging Distance/LGA_as_pickup/2015-01-04.csv\n",
      "Done merging Distance/LGA_as_pickup/2015-01-05.csv\n",
      "Done merging Distance/LGA_as_pickup/2015-01-06.csv\n",
      "Done merging Distance/LGA_as_pickup/2015-01-07.csv\n",
      "Done merging Distance/LGA_as_pickup/2015-01-08.csv\n",
      "Done merging Distance/LGA_as_pickup/2015-01-09.csv\n",
      "Done merging Distance/LGA_as_pickup/2015-01-10.csv\n",
      "Done merging Distance/LGA_as_pickup/2015-01-11.csv\n",
      "Done merging Distance/LGA_as_pickup/2015-01-12.csv\n",
      "Done merging Distance/LGA_as_pickup/2015-01-13.csv\n",
      "Done merging Distance/LGA_as_pickup/2015-01-14.csv\n",
      "Done merging Distance/LGA_as_pickup/2015-01-15.csv\n",
      "Done merging Distance/LGA_as_pickup/2015-01-16.csv\n",
      "Done merging Distance/LGA_as_pickup/2015-01-17.csv\n",
      "Done merging Distance/LGA_as_pickup/2015-01-18.csv\n",
      "Done merging Distance/LGA_as_pickup/2015-01-19.csv\n",
      "Done merging Distance/LGA_as_pickup/2015-01-20.csv\n",
      "Done merging Distance/LGA_as_pickup/2015-01-21.csv\n",
      "Done merging Distance/LGA_as_pickup/2015-01-22.csv\n",
      "Done merging Distance/LGA_as_pickup/2015-01-23.csv\n",
      "Done merging Distance/LGA_as_pickup/2015-01-24.csv\n",
      "Done merging Distance/LGA_as_pickup/2015-01-25.csv\n",
      "Done merging Distance/LGA_as_pickup/2015-01-26.csv\n",
      "Done merging Distance/LGA_as_pickup/2015-01-27.csv\n",
      "Done merging Distance/LGA_as_pickup/2015-01-28.csv\n",
      "Done merging Distance/LGA_as_pickup/2015-01-29.csv\n",
      "Done merging Distance/LGA_as_pickup/2015-01-30.csv\n",
      "Done merging Distance/LGA_as_pickup/2015-01-31.csv\n"
     ]
    }
   ],
   "source": [
    "from calendar import monthrange\n",
    "import pandas as pd\n",
    "for folder in ('Distance/LGA_drop_off_months/2015-','Distance/LGA_as_Pickup_months/2015-'):\n",
    "    for month in range(1,2):\n",
    "        for days in monthrange(2015, month):\n",
    "            df_final = pd.DataFrame()\n",
    "            for day in range(1,days+1,1):\n",
    "                if day <= 9: \n",
    "                    day= '0'+str(day)\n",
    "                else:\n",
    "                    day = str(day)\n",
    "                if month <=9:\n",
    "                    file = str(folder)+'0'+str(month)+'-'+day+'.csv'\n",
    "                else:\n",
    "                    file = str(folder)+str(month)+'-'+day+'.csv'\n",
    "                \n",
    "                df = pd.read_csv(file)\n",
    "                df_final = pd.concat([df_final,df],axis=0)\n",
    "                if 'drop_off' in folder:\n",
    "                    destination = 'Distance/LGA_drop_off/2015-'\n",
    "                else:\n",
    "                    destination = 'Distance/LGA_as_pickup/2015-'\n",
    "                df_final.to_csv(str(folder)+str(month)+'.csv')\n",
    "                print(\"Done merging {}\".format(file))"
   ]
  },
  {
   "cell_type": "code",
   "execution_count": 5,
   "metadata": {},
   "outputs": [],
   "source": [
    "folder= 'dropsneha'"
   ]
  },
  {
   "cell_type": "code",
   "execution_count": 7,
   "metadata": {},
   "outputs": [
    {
     "data": {
      "text/plain": [
       "True"
      ]
     },
     "execution_count": 7,
     "metadata": {},
     "output_type": "execute_result"
    }
   ],
   "source": [
    "'sneha' in folder"
   ]
  },
  {
   "cell_type": "code",
   "execution_count": null,
   "metadata": {},
   "outputs": [],
   "source": []
  }
 ],
 "metadata": {
  "kernelspec": {
   "display_name": "Python 3",
   "language": "python",
   "name": "python3"
  },
  "language_info": {
   "codemirror_mode": {
    "name": "ipython",
    "version": 3
   },
   "file_extension": ".py",
   "mimetype": "text/x-python",
   "name": "python",
   "nbconvert_exporter": "python",
   "pygments_lexer": "ipython3",
   "version": "3.7.5"
  }
 },
 "nbformat": 4,
 "nbformat_minor": 2
}
