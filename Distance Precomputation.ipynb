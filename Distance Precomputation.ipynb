{
 "cells": [
  {
   "cell_type": "code",
   "execution_count": 21,
   "metadata": {},
   "outputs": [],
   "source": [
    "import pandas as pd\n",
    "import matplotlib.pyplot as plt\n",
    "import requests\n",
    "from h3 import h3\n",
    "import json\n",
    "from urllib.request import URLError, Request, urlopen\n",
    "from itertools import combinations\n",
    "from itertools import permutations\n",
    "from dateutil import parser\n",
    "from datetime import datetime, timedelta\n",
    "import math\n",
    "import networkx as nx\n",
    "\n",
    "import csv\n",
    "file = open('log.csv','a')\n",
    "\n",
    "def get(dataframe,trip_type):\n",
    "    a,b,c,d=[],[],[],[]\n",
    "    df_distance =  pd.DataFrame(columns = ['pickup_h3','dropoff_h3','distance','duration'])\n",
    "    for node_a, node_b in list(permutations(dataframe.index, 2)):\n",
    "        temp_curr, temp_next = [], []\n",
    "        \n",
    "        if trip_type==2:\n",
    "            h3 = 'pickup_h3'\n",
    "            lat_long = 'pickup'\n",
    "        else:\n",
    "            h3 = 'dropoff_h3'\n",
    "            lat_long = 'dropoff'\n",
    "        from_location = dataframe.iloc[node_a][h3]\n",
    "        to_location = dataframe.iloc[node_b][h3]\n",
    "        u1,u2,v1,v2= dataframe.iloc[node_a][lat_long+'_latitude'], dataframe.iloc[node_a][lat_long+'_longitude'],\\\n",
    "        dataframe.iloc[node_b][lat_long+'_latitude'],dataframe.iloc[node_b][lat_long+'_longitude']\n",
    "        \n",
    "        request_str = 'http://localhost:8989/route?point=' + str(u1) + '%2C' + str(u2) + '&point=' + str(\n",
    "            v1) + '%2C' + str(v2) + '&vehicle=car'\n",
    "        request = Request(request_str)\n",
    "        res = requests.get(request_str)\n",
    "        if 'paths' in json.loads(res.text):\n",
    "            distance = json.loads(res.text)['paths'][0]['distance']\n",
    "\n",
    "            time = json.loads(res.text)['paths'][0]['time']\n",
    "            minute, msec = divmod(time, 60000)\n",
    "            if (distance / 1609.344) <=2:\n",
    "                a.append(from_location)\n",
    "                b.append(to_location)\n",
    "                c.append(distance / 1609.344)  # convert meters to miles\n",
    "                d.append(minute + (msec / 100000))  # convert ms to s and add to min\n",
    "        else:\n",
    "            file.write(str([u1,u2,v1,v2]))\n",
    "            continue\n",
    "\n",
    "    df_distance['pickup_h3'] = a\n",
    "    df_distance['dropoff_h3'] = b\n",
    "    df_distance['distance'] = c\n",
    "    df_distance['duration'] = d\n",
    "    return df_distance"
   ]
  },
  {
   "cell_type": "code",
   "execution_count": 22,
   "metadata": {},
   "outputs": [],
   "source": [
    "from tqdm import tqdm\n",
    "def get_distance(df_sub,trip_type):\n",
    "    final_distance=[]\n",
    "    for _,trips in tqdm(df_sub.groupby(['pool_window']),total=df_sub.groupby(['pool_window']).ngroups):\n",
    "        trips = trips.reset_index()\n",
    "        df_distance=  get(trips,trip_type)\n",
    "        final_distance.append(df_distance)\n",
    "    \n",
    "    df_distance = pd.concat(final_distance)\n",
    "    df_distance.drop_duplicates(subset=['pickup_h3','dropoff_h3'],keep=False,inplace=True)\n",
    "    return df_distance"
   ]
  },
  {
   "cell_type": "markdown",
   "metadata": {},
   "source": [
    "# Reload the respective month data"
   ]
  },
  {
   "cell_type": "code",
   "execution_count": 23,
   "metadata": {},
   "outputs": [
    {
     "name": "stdout",
     "output_type": "stream",
     "text": [
      "Enter the full path to the month's trip data:/home/shet/Documents/CS_RideSharing/Data/LGA as pickup/LaGuardia_as_pickup_2015-Jan.csv\n",
      "Enter the trip_type\n",
      " 1.From LGA\n",
      " 2.To LGA\n",
      "1\n"
     ]
    },
    {
     "data": {
      "text/plain": [
       "(103251, 12)"
      ]
     },
     "execution_count": 23,
     "metadata": {},
     "output_type": "execute_result"
    }
   ],
   "source": [
    "def ceil_dt(dt, delta):\n",
    "        return datetime.min + math.ceil((dt - datetime.min) / delta) * delta\n",
    "trip_file = input(\"Enter the full path to the month's trip data:\")\n",
    "trip_type = input(\"Enter the trip_type\\n 1.From LGA\\n 2.To LGA\\n\")\n",
    "if trip_type =='1':\n",
    "    resolution = (15,15)\n",
    "else:\n",
    "    resolution = (10,8)\n",
    "df = pd.read_csv(trip_file)\n",
    "columns = ['tpep_pickup_datetime', 'tpep_dropoff_datetime','passenger_count',\\\n",
    "       'trip_distance', 'pickup_longitude','pickup_latitude','dropoff_longitude', 'dropoff_latitude']\n",
    "df = df[columns]\n",
    "df.rename(columns={'tpep_pickup_datetime':'pickup_time',\n",
    "       'tpep_dropoff_datetime':'dropoff_time'},inplace=True)\n",
    "drop_index=df[(df.pickup_latitude==0)|(df.pickup_longitude==0)].index\n",
    "df.drop(drop_index,inplace=True)\n",
    "df['pickup_time'] = pd.to_datetime(df['pickup_time'])\n",
    "df['dropoff_time'] = pd.to_datetime(df['dropoff_time'])\n",
    "df['pickup_h3'] = df.apply(lambda x: h3.geo_to_h3(x['pickup_latitude'], x['pickup_longitude'], resolution[0]), axis=1)\n",
    "df['dropoff_h3'] = df.apply(lambda x: h3.geo_to_h3(x['dropoff_latitude'], x['dropoff_longitude'], resolution[1]), axis=1)\n",
    "df['duration'] = (df['pickup_time']-df['dropoff_time']).dt.seconds\n",
    "df['delay'] = df['duration'].apply(lambda x: x*0.20)\n",
    "df.shape"
   ]
  },
  {
   "cell_type": "code",
   "execution_count": null,
   "metadata": {
    "scrolled": false
   },
   "outputs": [
    {
     "name": "stderr",
     "output_type": "stream",
     "text": [
      "/usr/lib/python3/dist-packages/ipykernel_launcher.py:16: SettingWithCopyWarning: \n",
      "A value is trying to be set on a copy of a slice from a DataFrame.\n",
      "Try using .loc[row_indexer,col_indexer] = value instead\n",
      "\n",
      "See the caveats in the documentation: http://pandas.pydata.org/pandas-docs/stable/indexing.html#indexing-view-versus-copy\n",
      "  app.launch_new_instance()\n",
      "\r",
      "  0%|          | 0/118 [00:00<?, ?it/s]"
     ]
    },
    {
     "name": "stdout",
     "output_type": "stream",
     "text": [
      "Starting distance calculation...\n"
     ]
    },
    {
     "name": "stderr",
     "output_type": "stream",
     "text": [
      " 19%|█▊        | 22/118 [00:07<03:34,  2.23s/it]"
     ]
    }
   ],
   "source": [
    "from time import time\n",
    "month = 1 # the month you want to download\n",
    "for day in range(2,32):\n",
    "    start = time()\n",
    "    if day <= 9:\n",
    "        start_date ='2015-0'+str(month)+'-0'+str(day)+' 00:00:00'\n",
    "        end_date = '2015-0'+str(month)+'-0'+str(day)+' 23:59:59'\n",
    "        \n",
    "    else:\n",
    "        start_date = '2015-0'+str(month)+'-'+str(day)+' 00:00:00'\n",
    "        end_date = '2015-0'+str(month)+'-'+str(day)+' 23:59:59'\n",
    "    \n",
    "    df_sub = df[(df['pickup_time'] >= start_date) & (df['dropoff_time'] <= end_date)]\n",
    "    df_sub.reset_index(drop=True,inplace=True)\n",
    "    \n",
    "    df_sub['pool_window'] = df_sub['pickup_time'].apply(lambda x: ceil_dt(x.to_pydatetime(), timedelta(minutes=10)))\n",
    "    print(\"Starting distance calculation...\")\n",
    "    df_distance = get_distance(df_sub,int(trip_type))\n",
    "    df_distance.reset_index(drop=True,inplace=True) \n",
    "    print('Time take for 1 day = {} min'.format((time()-start)/60))\n",
    "    file_name = 'Distance/LGA_as_pickup/'+start_date.split()[0]+'.csv'\n",
    "    df_distance.to_csv(file_name)\n",
    "    print('Done with {} data\\n'.format(file_name))\n",
    "    del  df_distance\n",
    "file.close()"
   ]
  },
  {
   "cell_type": "markdown",
   "metadata": {},
   "source": [
    "# concatenate all days file into month"
   ]
  },
  {
   "cell_type": "code",
   "execution_count": 5,
   "metadata": {},
   "outputs": [],
   "source": [
    "from calendar import monthrange\n",
    "import pandas as pd\n",
    "for folder in ('Distance/LGA_drop_off/2015-','Distance/LGA_as_pickup/2015-'):\n",
    "    for month in range(7,13):\n",
    "        for days in monthrange(2015, month):\n",
    "            df_final = pd.DataFrame()\n",
    "            for day in range(1,days+1,1):\n",
    "                if day <= 9: \n",
    "                    day= '0'+str(day)\n",
    "                else:\n",
    "                    day = str(day)\n",
    "                if month <=9:\n",
    "                    file = str(folder)+'0'+str(month)+'-'+day+'.csv'\n",
    "                else:\n",
    "                    file = str(folder)+str(month)+'-'+day+'.csv'\n",
    "                \n",
    "                df = pd.read_csv(file)\n",
    "                df_final = pd.concat([df_final,df],axis=0)\n",
    "                df_final.to_csv(str(folder)+str(month)+'.csv')        "
   ]
  }
 ],
 "metadata": {
  "kernelspec": {
   "display_name": "Python 3",
   "language": "python",
   "name": "python3"
  },
  "language_info": {
   "codemirror_mode": {
    "name": "ipython",
    "version": 3
   },
   "file_extension": ".py",
   "mimetype": "text/x-python",
   "name": "python",
   "nbconvert_exporter": "python",
   "pygments_lexer": "ipython3",
   "version": "3.7.5"
  }
 },
 "nbformat": 4,
 "nbformat_minor": 2
}
