{
 "cells": [
  {
   "cell_type": "markdown",
   "metadata": {},
   "source": [
    "This program precomputes the distance given the source data files.The distances for 2015 are already downloaded and made available at <a href=\"https://drive.google.com/drive/folders/1XZgTY6zH6bzb1sE9kz2yHRQ08YbAJavE?usp=sharing\" > Data Files </a>.\n",
    "If any other month's distance file is needed to be computed please follow the steps:\n",
    "1. Download the data from <a href = \"https://www1.nyc.gov/site/tlc/about/tlc-trip-record-data.page\"> NYC taxi Data </a>.\n",
    "2. Use data_preparation.ipynb notebook to filter the data to the form compatible for running the algorithms.\n",
    "3. Specify the path to folder that contains the trip data for which distance needs to be calculated."
   ]
  },
  {
   "cell_type": "code",
   "execution_count": 83,
   "metadata": {},
   "outputs": [],
   "source": [
    "import pandas as pd\n",
    "import matplotlib.pyplot as plt\n",
    "import requests\n",
    "from h3 import h3\n",
    "import json\n",
    "from urllib.request import URLError, Request, urlopen\n",
    "from itertools import combinations\n",
    "from itertools import permutations\n",
    "from dateutil import parser\n",
    "from datetime import datetime, timedelta\n",
    "import math\n",
    "import networkx as nx\n",
    "import warnings\n",
    "warnings.filterwarnings(\"ignore\")\n",
    "\n",
    "import csv\n",
    "\n",
    "def get(dataframe,trip_type):\n",
    "    a,b,c,d=[],[],[],[]\n",
    "    df_distance =  pd.DataFrame(columns = ['pickup_h3','dropoff_h3','distance','duration'])\n",
    "    for node_a, node_b in list(permutations(dataframe.index, 2)):\n",
    "        temp_curr, temp_next = [], []\n",
    "        \n",
    "        if trip_type==2:\n",
    "            h3 = 'pickup_h3'\n",
    "            lat_long = 'pickup'\n",
    "        else:\n",
    "            h3 = 'dropoff_h3'\n",
    "            lat_long = 'dropoff'\n",
    "        from_location = dataframe.iloc[node_a][h3]\n",
    "        to_location = dataframe.iloc[node_b][h3]\n",
    "        u1,u2,v1,v2= dataframe.iloc[node_a][lat_long+'_latitude'], dataframe.iloc[node_a][lat_long+'_longitude'],\\\n",
    "        dataframe.iloc[node_b][lat_long+'_latitude'],dataframe.iloc[node_b][lat_long+'_longitude']\n",
    "        \n",
    "        request_str = 'http://localhost:8989/route?point=' + str(u1) + '%2C' + str(u2) + '&point=' + str(\n",
    "            v1) + '%2C' + str(v2) + '&vehicle=car'\n",
    "        request = Request(request_str)\n",
    "        res = requests.get(request_str)\n",
    "        if 'paths' in json.loads(res.text):\n",
    "            distance = json.loads(res.text)['paths'][0]['distance']\n",
    "\n",
    "            time = json.loads(res.text)['paths'][0]['time']\n",
    "            minute, msec = divmod(time, 60000)\n",
    "            if (distance / 1609.344) <=2:\n",
    "                a.append(from_location)\n",
    "                b.append(to_location)\n",
    "                c.append(distance / 1609.344)  # convert meters to miles\n",
    "                d.append(minute + (msec / 100000))  # convert ms to s and add to min\n",
    "        else:\n",
    "            continue\n",
    "\n",
    "    df_distance['pickup_h3'] = a\n",
    "    df_distance['dropoff_h3'] = b\n",
    "    df_distance['distance'] = c\n",
    "    df_distance['duration'] = d\n",
    "    return df_distance"
   ]
  },
  {
   "cell_type": "code",
   "execution_count": 84,
   "metadata": {},
   "outputs": [],
   "source": [
    "from tqdm import tqdm\n",
    "def get_distance(df_sub,trip_type):\n",
    "    final_distance=[]\n",
    "    for _,trips in tqdm(df_sub.groupby(['pool_window']),total=df_sub.groupby(['pool_window']).ngroups):\n",
    "        trips = trips.reset_index()\n",
    "        df_distance=  get(trips,trip_type)\n",
    "        final_distance.append(df_distance)\n",
    "    \n",
    "    df_distance = pd.concat(final_distance)\n",
    "    df_distance.drop_duplicates(subset=['pickup_h3','dropoff_h3'],keep=False,inplace=True)\n",
    "    return df_distance"
   ]
  },
  {
   "cell_type": "markdown",
   "metadata": {},
   "source": [
    "# Reload the respective month data"
   ]
  },
  {
   "cell_type": "code",
   "execution_count": 98,
   "metadata": {},
   "outputs": [
    {
     "name": "stdout",
     "output_type": "stream",
     "text": [
      "Enter the full path to the month's trip data:/home/shet/Documents/CS_RideSharing/Data/LGA as dropoff/LaGuardia_as_dropoff_2015-June.csv\n",
      "Enter the trip_type\n",
      " 1.From LGA\n",
      " 2.To LGA : 2\n",
      "Number of rows in df :72232\n"
     ]
    }
   ],
   "source": [
    "def ceil_dt(dt, delta):\n",
    "        return datetime.min + math.ceil((dt - datetime.min) / delta) * delta\n",
    "trip_file = input(\"Enter the full path to the month's trip data:\")\n",
    "trip_type = input(\"Enter the trip_type\\n 1.From LGA\\n 2.To LGA : \")\n",
    "if trip_type =='1':\n",
    "    resolution = (15,15)\n",
    "    distance_file = 'LGA_as_Pickup_months'\n",
    "else:\n",
    "    resolution = (10,8)\n",
    "    distance_file = 'LGA_drop_off_months'\n",
    "df = pd.read_csv(trip_file)\n",
    "columns = ['tpep_pickup_datetime', 'tpep_dropoff_datetime','passenger_count',\\\n",
    "       'trip_distance', 'pickup_longitude','pickup_latitude','dropoff_longitude', 'dropoff_latitude']\n",
    "df = df[columns]\n",
    "df.rename(columns={'tpep_pickup_datetime':'pickup_time',\n",
    "       'tpep_dropoff_datetime':'dropoff_time'},inplace=True)\n",
    "drop_index=df[(df.pickup_latitude==0)|(df.pickup_longitude==0)].index\n",
    "df.drop(drop_index,inplace=True)\n",
    "df['pickup_time'] = pd.to_datetime(df['pickup_time'])\n",
    "df['dropoff_time'] = pd.to_datetime(df['dropoff_time'])\n",
    "df['pickup_h3'] = df.apply(lambda x: h3.geo_to_h3(x['pickup_latitude'], x['pickup_longitude'], resolution[0]), axis=1)\n",
    "df['dropoff_h3'] = df.apply(lambda x: h3.geo_to_h3(x['dropoff_latitude'], x['dropoff_longitude'], resolution[1]), axis=1)\n",
    "df['duration'] = (df['pickup_time']-df['dropoff_time']).dt.seconds\n",
    "df['delay'] = df['duration'].apply(lambda x: x*0.20)\n",
    "print(\"Number of rows in df :{}\".format(df.shape[0]))"
   ]
  },
  {
   "cell_type": "code",
   "execution_count": 99,
   "metadata": {
    "scrolled": false
   },
   "outputs": [
    {
     "name": "stdout",
     "output_type": "stream",
     "text": [
      "Enter month in number . for eg 1 for jan:6\n"
     ]
    },
    {
     "name": "stderr",
     "output_type": "stream",
     "text": [
      "  9%|▊         | 12/138 [00:00<00:01, 112.93it/s]"
     ]
    },
    {
     "name": "stdout",
     "output_type": "stream",
     "text": [
      "Starting distance calculation...\n"
     ]
    },
    {
     "name": "stderr",
     "output_type": "stream",
     "text": [
      "100%|██████████| 138/138 [06:43<00:00,  2.92s/it]\n",
      "  0%|          | 0/139 [00:00<?, ?it/s]"
     ]
    },
    {
     "name": "stdout",
     "output_type": "stream",
     "text": [
      "Time take for 1 day = 6.72128054300944 min\n",
      "Done saving distances for LGA as drop-off trip for date :2015-06-01\n",
      "\n",
      "Starting distance calculation...\n"
     ]
    },
    {
     "name": "stderr",
     "output_type": "stream",
     "text": [
      "100%|██████████| 139/139 [05:06<00:00,  2.21s/it]\n",
      "  0%|          | 0/126 [00:00<?, ?it/s]"
     ]
    },
    {
     "name": "stdout",
     "output_type": "stream",
     "text": [
      "Time take for 1 day = 5.113448353608449 min\n",
      "Done saving distances for LGA as drop-off trip for date :2015-06-02\n",
      "\n",
      "Starting distance calculation...\n"
     ]
    },
    {
     "name": "stderr",
     "output_type": "stream",
     "text": [
      "100%|██████████| 126/126 [07:35<00:00,  3.61s/it]\n",
      "  0%|          | 0/125 [00:00<?, ?it/s]"
     ]
    },
    {
     "name": "stdout",
     "output_type": "stream",
     "text": [
      "Time take for 1 day = 7.588398663202922 min\n",
      "Done saving distances for LGA as drop-off trip for date :2015-06-03\n",
      "\n",
      "Starting distance calculation...\n"
     ]
    },
    {
     "name": "stderr",
     "output_type": "stream",
     "text": [
      "100%|██████████| 125/125 [10:52<00:00,  5.22s/it]\n",
      "  0%|          | 0/132 [00:00<?, ?it/s]"
     ]
    },
    {
     "name": "stdout",
     "output_type": "stream",
     "text": [
      "Time take for 1 day = 10.870968596140544 min\n",
      "Done saving distances for LGA as drop-off trip for date :2015-06-04\n",
      "\n",
      "Starting distance calculation...\n"
     ]
    },
    {
     "name": "stderr",
     "output_type": "stream",
     "text": [
      "100%|██████████| 132/132 [09:36<00:00,  4.37s/it]\n",
      "  0%|          | 0/119 [00:00<?, ?it/s]"
     ]
    },
    {
     "name": "stdout",
     "output_type": "stream",
     "text": [
      "Time take for 1 day = 9.607054543495178 min\n",
      "Done saving distances for LGA as drop-off trip for date :2015-06-05\n",
      "\n",
      "Starting distance calculation...\n"
     ]
    },
    {
     "name": "stderr",
     "output_type": "stream",
     "text": [
      "100%|██████████| 119/119 [01:27<00:00,  1.36it/s]\n",
      "  6%|▌         | 8/131 [00:00<00:01, 78.24it/s]"
     ]
    },
    {
     "name": "stdout",
     "output_type": "stream",
     "text": [
      "Time take for 1 day = 1.461876877148946 min\n",
      "Done saving distances for LGA as drop-off trip for date :2015-06-06\n",
      "\n",
      "Starting distance calculation...\n"
     ]
    },
    {
     "name": "stderr",
     "output_type": "stream",
     "text": [
      "100%|██████████| 131/131 [07:38<00:00,  3.50s/it]\n",
      "  0%|          | 0/132 [00:00<?, ?it/s]"
     ]
    },
    {
     "name": "stdout",
     "output_type": "stream",
     "text": [
      "Time take for 1 day = 7.6494342168172205 min\n",
      "Done saving distances for LGA as drop-off trip for date :2015-06-07\n",
      "\n",
      "Starting distance calculation...\n"
     ]
    },
    {
     "name": "stderr",
     "output_type": "stream",
     "text": [
      "100%|██████████| 132/132 [06:28<00:00,  2.95s/it]\n",
      "  0%|          | 0/128 [00:00<?, ?it/s]"
     ]
    },
    {
     "name": "stdout",
     "output_type": "stream",
     "text": [
      "Time take for 1 day = 6.4811557332674665 min\n",
      "Done saving distances for LGA as drop-off trip for date :2015-06-08\n",
      "\n",
      "Starting distance calculation...\n"
     ]
    },
    {
     "name": "stderr",
     "output_type": "stream",
     "text": [
      "100%|██████████| 128/128 [03:41<00:00,  1.73s/it]\n",
      "  6%|▌         | 8/132 [00:00<00:01, 78.10it/s]"
     ]
    },
    {
     "name": "stdout",
     "output_type": "stream",
     "text": [
      "Time take for 1 day = 3.7005164782206217 min\n",
      "Done saving distances for LGA as drop-off trip for date :2015-06-09\n",
      "\n",
      "Starting distance calculation...\n"
     ]
    },
    {
     "name": "stderr",
     "output_type": "stream",
     "text": [
      "100%|██████████| 132/132 [05:36<00:00,  2.55s/it]\n",
      "  0%|          | 0/124 [00:00<?, ?it/s]"
     ]
    },
    {
     "name": "stdout",
     "output_type": "stream",
     "text": [
      "Time take for 1 day = 5.606385087966919 min\n",
      "Done saving distances for LGA as drop-off trip for date :2015-06-10\n",
      "\n",
      "Starting distance calculation...\n"
     ]
    },
    {
     "name": "stderr",
     "output_type": "stream",
     "text": [
      "100%|██████████| 124/124 [06:51<00:00,  3.32s/it]\n",
      "  0%|          | 0/133 [00:00<?, ?it/s]"
     ]
    },
    {
     "name": "stdout",
     "output_type": "stream",
     "text": [
      "Time take for 1 day = 6.856366113821665 min\n",
      "Done saving distances for LGA as drop-off trip for date :2015-06-11\n",
      "\n",
      "Starting distance calculation...\n"
     ]
    },
    {
     "name": "stderr",
     "output_type": "stream",
     "text": [
      "100%|██████████| 133/133 [07:01<00:00,  3.17s/it]\n",
      "  0%|          | 0/127 [00:00<?, ?it/s]"
     ]
    },
    {
     "name": "stdout",
     "output_type": "stream",
     "text": [
      "Time take for 1 day = 7.020516471068064 min\n",
      "Done saving distances for LGA as drop-off trip for date :2015-06-12\n",
      "\n",
      "Starting distance calculation...\n"
     ]
    },
    {
     "name": "stderr",
     "output_type": "stream",
     "text": [
      "100%|██████████| 127/127 [01:21<00:00,  1.56it/s]\n",
      "  0%|          | 0/134 [00:00<?, ?it/s]"
     ]
    },
    {
     "name": "stdout",
     "output_type": "stream",
     "text": [
      "Time take for 1 day = 1.356859838962555 min\n",
      "Done saving distances for LGA as drop-off trip for date :2015-06-13\n",
      "\n",
      "Starting distance calculation...\n"
     ]
    },
    {
     "name": "stderr",
     "output_type": "stream",
     "text": [
      "100%|██████████| 134/134 [04:38<00:00,  2.08s/it]\n",
      "  0%|          | 0/134 [00:00<?, ?it/s]"
     ]
    },
    {
     "name": "stdout",
     "output_type": "stream",
     "text": [
      "Time take for 1 day = 4.644190510114034 min\n",
      "Done saving distances for LGA as drop-off trip for date :2015-06-14\n",
      "\n",
      "Starting distance calculation...\n"
     ]
    },
    {
     "name": "stderr",
     "output_type": "stream",
     "text": [
      "100%|██████████| 134/134 [04:57<00:00,  2.22s/it]\n",
      "  0%|          | 0/133 [00:00<?, ?it/s]"
     ]
    },
    {
     "name": "stdout",
     "output_type": "stream",
     "text": [
      "Time take for 1 day = 4.967387656370799 min\n",
      "Done saving distances for LGA as drop-off trip for date :2015-06-15\n",
      "\n",
      "Starting distance calculation...\n"
     ]
    },
    {
     "name": "stderr",
     "output_type": "stream",
     "text": [
      "100%|██████████| 133/133 [04:22<00:00,  1.98s/it]\n",
      "  0%|          | 0/133 [00:00<?, ?it/s]"
     ]
    },
    {
     "name": "stdout",
     "output_type": "stream",
     "text": [
      "Time take for 1 day = 4.383940776189168 min\n",
      "Done saving distances for LGA as drop-off trip for date :2015-06-16\n",
      "\n",
      "Starting distance calculation...\n"
     ]
    },
    {
     "name": "stderr",
     "output_type": "stream",
     "text": [
      "100%|██████████| 133/133 [05:15<00:00,  2.37s/it]\n",
      "  0%|          | 0/135 [00:00<?, ?it/s]"
     ]
    },
    {
     "name": "stdout",
     "output_type": "stream",
     "text": [
      "Time take for 1 day = 5.260117455323537 min\n",
      "Done saving distances for LGA as drop-off trip for date :2015-06-17\n",
      "\n",
      "Starting distance calculation...\n"
     ]
    },
    {
     "name": "stderr",
     "output_type": "stream",
     "text": [
      "100%|██████████| 135/135 [06:47<00:00,  3.02s/it]\n",
      "  0%|          | 0/132 [00:00<?, ?it/s]"
     ]
    },
    {
     "name": "stdout",
     "output_type": "stream",
     "text": [
      "Time take for 1 day = 6.785191269715627 min\n",
      "Done saving distances for LGA as drop-off trip for date :2015-06-18\n",
      "\n",
      "Starting distance calculation...\n"
     ]
    },
    {
     "name": "stderr",
     "output_type": "stream",
     "text": [
      "100%|██████████| 132/132 [06:37<00:00,  3.01s/it]\n",
      "  0%|          | 0/128 [00:00<?, ?it/s]"
     ]
    },
    {
     "name": "stdout",
     "output_type": "stream",
     "text": [
      "Time take for 1 day = 6.621238390604655 min\n",
      "Done saving distances for LGA as drop-off trip for date :2015-06-19\n",
      "\n",
      "Starting distance calculation...\n"
     ]
    },
    {
     "name": "stderr",
     "output_type": "stream",
     "text": [
      "100%|██████████| 128/128 [01:12<00:00,  1.76it/s]\n",
      " 11%|█         | 14/129 [00:00<00:00, 132.36it/s]"
     ]
    },
    {
     "name": "stdout",
     "output_type": "stream",
     "text": [
      "Time take for 1 day = 1.21262123187383 min\n",
      "Done saving distances for LGA as drop-off trip for date :2015-06-20\n",
      "\n",
      "Starting distance calculation...\n"
     ]
    },
    {
     "name": "stderr",
     "output_type": "stream",
     "text": [
      "100%|██████████| 129/129 [03:29<00:00,  1.63s/it]\n",
      "  9%|▉         | 12/130 [00:00<00:01, 115.63it/s]"
     ]
    },
    {
     "name": "stdout",
     "output_type": "stream",
     "text": [
      "Time take for 1 day = 3.4980862657229106 min\n",
      "Done saving distances for LGA as drop-off trip for date :2015-06-21\n",
      "\n",
      "Starting distance calculation...\n"
     ]
    },
    {
     "name": "stderr",
     "output_type": "stream",
     "text": [
      "100%|██████████| 130/130 [04:09<00:00,  1.92s/it]\n",
      "  7%|▋         | 8/123 [00:00<00:01, 76.45it/s]"
     ]
    },
    {
     "name": "stdout",
     "output_type": "stream",
     "text": [
      "Time take for 1 day = 4.163862073421479 min\n",
      "Done saving distances for LGA as drop-off trip for date :2015-06-22\n",
      "\n",
      "Starting distance calculation...\n"
     ]
    },
    {
     "name": "stderr",
     "output_type": "stream",
     "text": [
      "100%|██████████| 123/123 [03:11<00:00,  1.56s/it]\n",
      "  0%|          | 0/128 [00:00<?, ?it/s]"
     ]
    },
    {
     "name": "stdout",
     "output_type": "stream",
     "text": [
      "Time take for 1 day = 3.1924225449562074 min\n",
      "Done saving distances for LGA as drop-off trip for date :2015-06-23\n",
      "\n",
      "Starting distance calculation...\n"
     ]
    },
    {
     "name": "stderr",
     "output_type": "stream",
     "text": [
      "100%|██████████| 128/128 [04:53<00:00,  2.30s/it]\n",
      "  0%|          | 0/125 [00:00<?, ?it/s]"
     ]
    },
    {
     "name": "stdout",
     "output_type": "stream",
     "text": [
      "Time take for 1 day = 4.898269899686178 min\n",
      "Done saving distances for LGA as drop-off trip for date :2015-06-24\n",
      "\n",
      "Starting distance calculation...\n"
     ]
    },
    {
     "name": "stderr",
     "output_type": "stream",
     "text": [
      "100%|██████████| 125/125 [05:40<00:00,  2.72s/it]\n",
      "  0%|          | 0/128 [00:00<?, ?it/s]"
     ]
    },
    {
     "name": "stdout",
     "output_type": "stream",
     "text": [
      "Time take for 1 day = 5.678181866804759 min\n",
      "Done saving distances for LGA as drop-off trip for date :2015-06-25\n",
      "\n",
      "Starting distance calculation...\n"
     ]
    },
    {
     "name": "stderr",
     "output_type": "stream",
     "text": [
      "100%|██████████| 128/128 [05:05<00:00,  2.38s/it]\n",
      "  0%|          | 0/122 [00:00<?, ?it/s]"
     ]
    },
    {
     "name": "stdout",
     "output_type": "stream",
     "text": [
      "Time take for 1 day = 5.0863069494565325 min\n",
      "Done saving distances for LGA as drop-off trip for date :2015-06-26\n",
      "\n",
      "Starting distance calculation...\n"
     ]
    },
    {
     "name": "stderr",
     "output_type": "stream",
     "text": [
      "100%|██████████| 122/122 [00:54<00:00,  2.24it/s]\n",
      "  0%|          | 0/130 [00:00<?, ?it/s]"
     ]
    },
    {
     "name": "stdout",
     "output_type": "stream",
     "text": [
      "Time take for 1 day = 0.9103903214136759 min\n",
      "Done saving distances for LGA as drop-off trip for date :2015-06-27\n",
      "\n",
      "Starting distance calculation...\n"
     ]
    },
    {
     "name": "stderr",
     "output_type": "stream",
     "text": [
      "100%|██████████| 130/130 [02:54<00:00,  1.34s/it]\n",
      "  0%|          | 0/120 [00:00<?, ?it/s]"
     ]
    },
    {
     "name": "stdout",
     "output_type": "stream",
     "text": [
      "Time take for 1 day = 2.9035946289698282 min\n",
      "Done saving distances for LGA as drop-off trip for date :2015-06-28\n",
      "\n",
      "Starting distance calculation...\n"
     ]
    },
    {
     "name": "stderr",
     "output_type": "stream",
     "text": [
      "100%|██████████| 120/120 [03:49<00:00,  1.91s/it]\n",
      "  0%|          | 0/123 [00:00<?, ?it/s]"
     ]
    },
    {
     "name": "stdout",
     "output_type": "stream",
     "text": [
      "Time take for 1 day = 3.8273470362027484 min\n",
      "Done saving distances for LGA as drop-off trip for date :2015-06-29\n",
      "\n",
      "Starting distance calculation...\n"
     ]
    },
    {
     "name": "stderr",
     "output_type": "stream",
     "text": [
      "100%|██████████| 123/123 [03:51<00:00,  1.88s/it]\n"
     ]
    },
    {
     "name": "stdout",
     "output_type": "stream",
     "text": [
      "Time take for 1 day = 3.8631370306015014 min\n",
      "Done saving distances for LGA as drop-off trip for date :2015-06-30\n",
      "\n"
     ]
    }
   ],
   "source": [
    "from time import time\n",
    "trip = lambda x : \"LGA as pickup\" if x==\"1\" else \"LGA as drop-off\"\n",
    "month = int(input(\"Enter month in number.for example :input 1 for jan:\")) # the month you want to download\n",
    "days= monthrange(2015,month)[1]\n",
    "for day in range(1,days+1,1):\n",
    "    start = time()\n",
    "    if day <= 9:\n",
    "        start_date ='2015-0'+str(month)+'-0'+str(day)+' 00:00:00'\n",
    "        end_date = '2015-0'+str(month)+'-0'+str(day)+' 23:59:59'\n",
    "\n",
    "    else:\n",
    "        start_date = '2015-0'+str(month)+'-'+str(day)+' 00:00:00'\n",
    "        end_date = '2015-0'+str(month)+'-'+str(day)+' 23:59:59'\n",
    "\n",
    "    df_sub = df[(df['pickup_time'] >= start_date) & (df['dropoff_time'] <= end_date)]\n",
    "    df_sub.reset_index(drop=True,inplace=True)\n",
    "\n",
    "    df_sub['pool_window'] = df_sub['pickup_time'].apply(lambda x: ceil_dt(x.to_pydatetime(), timedelta(minutes=10)))\n",
    "    print(\"Starting distance calculation...\")\n",
    "    df_distance = get_distance(df_sub,int(trip_type))\n",
    "    df_distance.reset_index(drop=True,inplace=True) \n",
    "    print('Time take for 1 day = {} min'.format((time()-start)/60))\n",
    "    file_name = 'Distance/'+distance_file+'/'+start_date.split()[0]+'.csv'\n",
    "    df_distance.to_csv(file_name)\n",
    "    print('Done saving distances for {} trip for date :{}\\n'.format(trip(trip_type),start_date.split()[0]))\n",
    "    del  df_distance"
   ]
  },
  {
   "cell_type": "markdown",
   "metadata": {},
   "source": [
    "# concatenate all days file into month"
   ]
  },
  {
   "cell_type": "code",
   "execution_count": 101,
   "metadata": {},
   "outputs": [
    {
     "name": "stdout",
     "output_type": "stream",
     "text": [
      "Done merging :Distance/LGA_drop_off_months/2015-06-01.csv\n",
      "Done merging :Distance/LGA_drop_off_months/2015-06-02.csv\n",
      "Done merging :Distance/LGA_drop_off_months/2015-06-03.csv\n",
      "Done merging :Distance/LGA_drop_off_months/2015-06-04.csv\n",
      "Done merging :Distance/LGA_drop_off_months/2015-06-05.csv\n",
      "Done merging :Distance/LGA_drop_off_months/2015-06-06.csv\n",
      "Done merging :Distance/LGA_drop_off_months/2015-06-07.csv\n",
      "Done merging :Distance/LGA_drop_off_months/2015-06-08.csv\n",
      "Done merging :Distance/LGA_drop_off_months/2015-06-09.csv\n",
      "Done merging :Distance/LGA_drop_off_months/2015-06-10.csv\n",
      "Done merging :Distance/LGA_drop_off_months/2015-06-11.csv\n",
      "Done merging :Distance/LGA_drop_off_months/2015-06-12.csv\n",
      "Done merging :Distance/LGA_drop_off_months/2015-06-13.csv\n",
      "Done merging :Distance/LGA_drop_off_months/2015-06-14.csv\n",
      "Done merging :Distance/LGA_drop_off_months/2015-06-15.csv\n",
      "Done merging :Distance/LGA_drop_off_months/2015-06-16.csv\n",
      "Done merging :Distance/LGA_drop_off_months/2015-06-17.csv\n",
      "Done merging :Distance/LGA_drop_off_months/2015-06-18.csv\n",
      "Done merging :Distance/LGA_drop_off_months/2015-06-19.csv\n",
      "Done merging :Distance/LGA_drop_off_months/2015-06-20.csv\n",
      "Done merging :Distance/LGA_drop_off_months/2015-06-21.csv\n",
      "Done merging :Distance/LGA_drop_off_months/2015-06-22.csv\n",
      "Done merging :Distance/LGA_drop_off_months/2015-06-23.csv\n",
      "Done merging :Distance/LGA_drop_off_months/2015-06-24.csv\n",
      "Done merging :Distance/LGA_drop_off_months/2015-06-25.csv\n",
      "Done merging :Distance/LGA_drop_off_months/2015-06-26.csv\n",
      "Done merging :Distance/LGA_drop_off_months/2015-06-27.csv\n",
      "Done merging :Distance/LGA_drop_off_months/2015-06-28.csv\n",
      "Done merging :Distance/LGA_drop_off_months/2015-06-29.csv\n",
      "Done merging :Distance/LGA_drop_off_months/2015-06-30.csv\n",
      "Done merging :Distance/LGA_as_Pickup_months/2015-06-01.csv\n",
      "Done merging :Distance/LGA_as_Pickup_months/2015-06-02.csv\n",
      "Done merging :Distance/LGA_as_Pickup_months/2015-06-03.csv\n",
      "Done merging :Distance/LGA_as_Pickup_months/2015-06-04.csv\n",
      "Done merging :Distance/LGA_as_Pickup_months/2015-06-05.csv\n",
      "Done merging :Distance/LGA_as_Pickup_months/2015-06-06.csv\n",
      "Done merging :Distance/LGA_as_Pickup_months/2015-06-07.csv\n",
      "Done merging :Distance/LGA_as_Pickup_months/2015-06-08.csv\n",
      "Done merging :Distance/LGA_as_Pickup_months/2015-06-09.csv\n",
      "Done merging :Distance/LGA_as_Pickup_months/2015-06-10.csv\n",
      "Done merging :Distance/LGA_as_Pickup_months/2015-06-11.csv\n",
      "Done merging :Distance/LGA_as_Pickup_months/2015-06-12.csv\n",
      "Done merging :Distance/LGA_as_Pickup_months/2015-06-13.csv\n",
      "Done merging :Distance/LGA_as_Pickup_months/2015-06-14.csv\n",
      "Done merging :Distance/LGA_as_Pickup_months/2015-06-15.csv\n",
      "Done merging :Distance/LGA_as_Pickup_months/2015-06-16.csv\n",
      "Done merging :Distance/LGA_as_Pickup_months/2015-06-17.csv\n",
      "Done merging :Distance/LGA_as_Pickup_months/2015-06-18.csv\n",
      "Done merging :Distance/LGA_as_Pickup_months/2015-06-19.csv\n",
      "Done merging :Distance/LGA_as_Pickup_months/2015-06-20.csv\n",
      "Done merging :Distance/LGA_as_Pickup_months/2015-06-21.csv\n",
      "Done merging :Distance/LGA_as_Pickup_months/2015-06-22.csv\n",
      "Done merging :Distance/LGA_as_Pickup_months/2015-06-23.csv\n",
      "Done merging :Distance/LGA_as_Pickup_months/2015-06-24.csv\n",
      "Done merging :Distance/LGA_as_Pickup_months/2015-06-25.csv\n",
      "Done merging :Distance/LGA_as_Pickup_months/2015-06-26.csv\n",
      "Done merging :Distance/LGA_as_Pickup_months/2015-06-27.csv\n",
      "Done merging :Distance/LGA_as_Pickup_months/2015-06-28.csv\n",
      "Done merging :Distance/LGA_as_Pickup_months/2015-06-29.csv\n",
      "Done merging :Distance/LGA_as_Pickup_months/2015-06-30.csv\n"
     ]
    }
   ],
   "source": [
    "from calendar import monthrange\n",
    "import pandas as pd\n",
    "for folder in ('Distance/LGA_drop_off_months/2015-','Distance/LGA_as_Pickup_months/2015-'):\n",
    "    for days in monthrange(2015, month):\n",
    "        df_final = pd.DataFrame()\n",
    "        for day in range(1,days+1,1):\n",
    "            if day <= 9: \n",
    "                day= '0'+str(day)\n",
    "            else:\n",
    "                day = str(day)\n",
    "            if month <=9:\n",
    "                file = str(folder)+'0'+str(month)+'-'+day+'.csv'\n",
    "            else:\n",
    "                file = str(folder)+str(month)+'-'+day+'.csv'\n",
    "\n",
    "            df = pd.read_csv(file)\n",
    "            df_final = pd.concat([df_final,df],axis=0)\n",
    "            if 'drop_off' in folder:\n",
    "                destination = 'Distance/LGA_drop_off/2015-'\n",
    "            else:\n",
    "                destination = 'Distance/LGA_as_pickup/2015-'\n",
    "            df_final.to_csv(str(destination)+str(month)+'.csv')\n",
    "            print(\"Done merging :{}\".format(file))"
   ]
  },
  {
   "cell_type": "code",
   "execution_count": null,
   "metadata": {},
   "outputs": [],
   "source": []
  }
 ],
 "metadata": {
  "kernelspec": {
   "display_name": "Python 3",
   "language": "python",
   "name": "python3"
  },
  "language_info": {
   "codemirror_mode": {
    "name": "ipython",
    "version": 3
   },
   "file_extension": ".py",
   "mimetype": "text/x-python",
   "name": "python",
   "nbconvert_exporter": "python",
   "pygments_lexer": "ipython3",
   "version": "3.7.5"
  }
 },
 "nbformat": 4,
 "nbformat_minor": 2
}
