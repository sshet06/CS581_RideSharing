{
 "cells": [
  {
   "cell_type": "markdown",
   "metadata": {},
   "source": [
    "# Taxi Ride Sharing \n",
    "\n",
    "The following code runs ride sharing algorithm for any given day (provided the path to the data folder is mentioned properly).The distances between the locations are precomputed in a different program.\n",
    "Following are the steps to run the program :\n",
    "\n",
    "1. Download all the data files from the location <a href=\"https://drive.google.com/drive/folders/1XZgTY6zH6bzb1sE9kz2yHRQ08YbAJavE?usp=sharing\" > Data Files </a>.\n",
    "2. The folder contains two main subfolders : Data folder and Distance Folder. Data ranges from Jan 2015 - Dec 2015.\n",
    "3. Start the graphhopper server.\n",
    "4. Input the path to the folders as mentioned by the program.\n",
    "5. The code runs for two configuration : a.one day data b.For specified minutes.Select required option(note :This code can run for any year as specified by the user.But since the data downloaded in the 1st step corresponds to only 2015 Data input 2015 as year.\n",
    "6. The code begins to run and outputs plots for From LGA and To LGA\n",
    "\n"
   ]
  },
  {
   "cell_type": "code",
   "execution_count": 41,
   "metadata": {},
   "outputs": [],
   "source": [
    "import pandas as pd\n",
    "import matplotlib.pyplot as plt\n",
    "import requests\n",
    "from h3 import h3\n",
    "import json\n",
    "from urllib.request import URLError, Request, urlopen\n",
    "from itertools import combinations\n",
    "from itertools import permutations\n",
    "from dateutil import parser\n",
    "from datetime import datetime, timedelta\n",
    "import math\n",
    "import networkx as nx\n",
    "from tqdm import tqdm"
   ]
  },
  {
   "cell_type": "code",
   "execution_count": 4,
   "metadata": {},
   "outputs": [
    {
     "name": "stdout",
     "output_type": "stream",
     "text": [
      "Distance = 10640.72\n",
      "Time = 627064\n"
     ]
    }
   ],
   "source": [
    "# Check if graphhopper works\n",
    "request_str = 'http://localhost:8989/route?point=' + str(40.760166) + '%2C' + str(-73.964760) + '&point=' + str(40.768780) + '%2C' + str(-73.867058) + '&vehicle=car'\n",
    "request = Request(request_str)\n",
    "res=requests.get(request_str)\n",
    "print(\"Distance = {}\".format(json.loads(res.text)['paths'][0]['distance']))\n",
    "print(\"Time = {}\".format(json.loads(res.text)['paths'][0]['time']))"
   ]
  },
  {
   "cell_type": "code",
   "execution_count": 5,
   "metadata": {},
   "outputs": [],
   "source": [
    "class Node:\n",
    "    def __init__(self,idx,data):\n",
    "        self.id = idx\n",
    "        self.pickup_location = (data.pickup_latitude,data.pickup_longitude,data.pickup_h3)\n",
    "        self.dropoff_location = (data.dropoff_latitude,data.dropoff_longitude,data.dropoff_h3)\n",
    "        self.pickup_time = data.pickup_time\n",
    "        self.dropoff_time = data.dropoff_time\n",
    "        self.distance = data.trip_distance\n",
    "        self.duration = data.duration\n",
    "        self.delay = data.delay\n",
    "        self.passenger_count = data.passenger_count"
   ]
  },
  {
   "cell_type": "code",
   "execution_count": 6,
   "metadata": {},
   "outputs": [],
   "source": [
    "def get_distance_duration(node_a,node_b,trip_type):\n",
    "    if trip_type==2: \n",
    "        e, f, g, h = node_a.pickup_location[0], node_a.pickup_location[1], node_b.pickup_location[0],node_b.pickup_location[1]\n",
    "    else:\n",
    "        e, f, g, h = node_a.dropoff_location[0], node_a.dropoff_location[1], node_b.dropoff_location[0],node_b.dropoff_location[1]\n",
    "    request_str = 'http://localhost:8989/route?point=' + str(e) + '%2C' + str(f) + '&point=' + str(\n",
    "        g) + '%2C' + str(h) + '&vehicle=car'\n",
    "    request = Request(request_str)\n",
    "    res = requests.get(request_str)\n",
    "    if 'paths' in json.loads(res.text):\n",
    "        distance = json.loads(res.text)['paths'][0]['distance']\n",
    "        time = json.loads(res.text)['paths'][0]['time']\n",
    "        minute, msec = divmod(time, 60000)\n",
    "        return distance / 1609.344 , minute + (msec / 100000)\n",
    "    else:\n",
    "        return float('inf'),float('inf')\n",
    "    "
   ]
  },
  {
   "cell_type": "code",
   "execution_count": 7,
   "metadata": {},
   "outputs": [],
   "source": [
    "def get_all_pairs(node_a,node_b,trip_type):\n",
    "    if trip_type == 1:\n",
    "        #Combination LGA--> a -->b\n",
    "        #if no distance call graphhopper \n",
    "        if (node_a.dropoff_location[2],node_b.dropoff_location[2]) not in df_distance.index:\n",
    "            a_b_distance,a_b_duration = get_distance_duration(node_a,node_b,trip_type)\n",
    "        else:\n",
    "            a_b_distance = df_distance.loc[(node_a.dropoff_location[2],node_b.dropoff_location[2])]['distance']\n",
    "            a_b_duration = df_distance.loc[(node_a.dropoff_location[2],node_b.dropoff_location[2])]['duration']\n",
    "        \n",
    "        LGA_a_dist = node_a.distance\n",
    "        a_b_dist   = a_b_distance\n",
    "        LGA_a_dur  = node_a.duration\n",
    "        a_b_dur    = a_b_duration\n",
    "        \n",
    "        #Combination LGA--> b -->a\n",
    "        if (node_b.dropoff_location[2],node_a.dropoff_location[2]) not in df_distance.index:\n",
    "            b_a_distance,b_a_duration = get_distance_duration(node_a,node_b,trip_type)\n",
    "        else:\n",
    "            b_a_distance = df_distance.loc[(node_b.dropoff_location[2],node_a.dropoff_location[2])]['distance']\n",
    "            b_a_duration = df_distance.loc[(node_b.dropoff_location[2],node_a.dropoff_location[2])]['duration']\n",
    "            \n",
    "        LGA_b_dist = node_b.distance\n",
    "        b_a_dist = b_a_distance\n",
    "        LGA_b_dur = node_b.duration\n",
    "        b_a_dur = b_a_duration\n",
    "        \n",
    "        path_1_total_dis,path_1_total_dur = LGA_a_dist + a_b_dist,LGA_a_dur + a_b_dur \n",
    "        path_1_a_dur,path_1_b_dur = LGA_a_dur,path_1_total_dur\n",
    "        \n",
    "        path_2_total_dis,path_2_total_dur = LGA_b_dist+b_a_dist,LGA_b_dur+b_a_dur\n",
    "        path_2_a_dur,path_2_b_dur         = path_2_total_dur ,LGA_b_dur\n",
    "               \n",
    "    else:\n",
    "        #Combination a--> b --> LGA\n",
    "        if (node_a.pickup_location[2],node_b.pickup_location[2]) not in df_distance.index:\n",
    "            a_b_distance,a_b_duration = get_distance_duration(node_a,node_b,trip_type)\n",
    "        else:\n",
    "            a_b_distance = df_distance.loc[(node_a.pickup_location[2],node_b.pickup_location[2])]['distance']\n",
    "            a_b_duration = df_distance.loc[(node_a.pickup_location[2],node_b.pickup_location[2])]['duration']\n",
    "        \n",
    "        a_b_dist   = a_b_distance\n",
    "        b_LGA_dist = node_b.distance \n",
    "        a_b_dur    = a_b_duration\n",
    "        b_LGA_dur  = node_b.duration\n",
    "        \n",
    "        #Combination b--> a --> LGA\n",
    "        if (node_b.pickup_location[2],node_a.pickup_location[2]) not in df_distance.index:\n",
    "            b_a_distance,b_a_duration = get_distance_duration(node_b,node_a,trip_type)\n",
    "        else:\n",
    "            b_a_distance = df_distance.loc[(node_b.pickup_location[2],node_a.pickup_location[2])]['distance']\n",
    "            b_a_duration = df_distance.loc[(node_b.pickup_location[2],node_a.pickup_location[2])]['duration']\n",
    "        \n",
    "        b_a_dist   = b_a_distance\n",
    "        a_LGA_dist = node_a.distance \n",
    "        b_a_dur    = b_a_duration\n",
    "        a_LGA_dur  = node_a.duration\n",
    "        \n",
    "        path_1_total_dis,path_1_total_dur = a_b_dist + b_LGA_dist,a_b_dur + b_LGA_dur \n",
    "        path_1_a_dur,path_1_b_dur = path_1_total_dur,b_LGA_dur\n",
    "        \n",
    "        path_2_total_dis,path_2_total_dur, = b_a_dist+a_LGA_dist,b_a_dur+a_LGA_dur\n",
    "        path_2_a_dur,path_2_b_dur         = a_LGA_dur,path_2_total_dur\n",
    "        \n",
    "    return ((path_1_total_dis,path_1_total_dur,path_1_a_dur,path_1_b_dur),( path_2_total_dis,path_2_total_dur,path_2_a_dur,path_2_b_dur))\n",
    "    "
   ]
  },
  {
   "cell_type": "code",
   "execution_count": 8,
   "metadata": {},
   "outputs": [],
   "source": [
    "def calculate_edge_weight(node_a,node_b,trip_type):\n",
    "    path1,path2 = get_all_pairs(node_a,node_b,trip_type)\n",
    "    minimum_distance = float('inf')\n",
    "    for path in (path1,path2):\n",
    "        distance_contraint = (path[0] <= node_a.distance + node_b.distance)\n",
    "        delay_constraint = (path[2] <= node_a.duration + node_a.delay) & (path[3] <= node_b.duration + node_b.delay)\n",
    "        #add social constraint too...\n",
    "        \n",
    "        \n",
    "        if distance_contraint and delay_constraint and path[0]< minimum_distance:\n",
    "            minimum_distance = path[0]\n",
    "    distance_saved = node_a.distance + node_b.distance - minimum_distance\n",
    "    return distance_saved"
   ]
  },
  {
   "cell_type": "code",
   "execution_count": 9,
   "metadata": {},
   "outputs": [],
   "source": [
    "def get_rsg(G,trip_type):\n",
    "    for node_a,node_b in list(combinations(G,2)):\n",
    "        if (node_a.passenger_count+node_b.passenger_count)<=4:\n",
    "            distance_saved = calculate_edge_weight(node_a,node_b,trip_type)\n",
    "            if distance_saved!= float('-inf') :\n",
    "                G.add_edge(node_a,node_b, weight=distance_saved)\n",
    "    return G"
   ]
  },
  {
   "cell_type": "markdown",
   "metadata": {
    "scrolled": true
   },
   "source": [
    "# Average distance saved per pool as a % of total distance of individual rides"
   ]
  },
  {
   "cell_type": "code",
   "execution_count": 10,
   "metadata": {},
   "outputs": [],
   "source": [
    "def Average_distance_saved(merged_trips,Final_Graph):\n",
    "    with_sharing , without_sharing = [],[]\n",
    "    for i in range(len(merged_trips)):\n",
    "        all_nodes =  set()\n",
    "        total_dis_before_merging = 0\n",
    "        total_dis_after_merging = 0\n",
    "        for each_node in Final_Graph[i].nodes:\n",
    "            total_dis_before_merging += each_node.distance\n",
    "            all_nodes.add(each_node)\n",
    "        #remove merged nodes from orginal rga graph\n",
    "        for u,v in merged_trips[i].edges:\n",
    "            all_nodes.remove(u)\n",
    "            all_nodes.remove(v)\n",
    "            total_dis_after_merging += Final_Graph[i].get_edge_data(u,v)['weight']\n",
    "        #add unmerged solo trips also\n",
    "        for solo in all_nodes:\n",
    "            total_dis_after_merging += solo.distance\n",
    "        with_sharing.append(total_dis_after_merging)\n",
    "        without_sharing.append(total_dis_before_merging)\n",
    "    return(sum([(1-x/y) for x, y in zip(with_sharing, without_sharing)])/len(without_sharing) * 100)   "
   ]
  },
  {
   "cell_type": "markdown",
   "metadata": {},
   "source": [
    "# Average number of trips saved per pool as a % of number of individual trips"
   ]
  },
  {
   "cell_type": "code",
   "execution_count": 11,
   "metadata": {},
   "outputs": [],
   "source": [
    "def Average_trip_saved(merged_trips,Final_Graph):\n",
    "    saved_rides = []\n",
    "    for idx in range(len(merged_trips)):\n",
    "        num_ind_trips = len(Final_Graph[idx].nodes)\n",
    "        num_pooled_trips = len(merged_trips[idx].edges)\n",
    "        saved_rides.append(num_pooled_trips/num_ind_trips * 100)\n",
    "    return(sum(saved_rides)/len(saved_rides))"
   ]
  },
  {
   "cell_type": "code",
   "execution_count": 13,
   "metadata": {},
   "outputs": [],
   "source": [
    "def main_algoritm(trip_type,excecution_time):\n",
    "    start_execution = time.time()\n",
    "    Final_Graph = []\n",
    "    t = 0\n",
    "    for _,trips in df.groupby(['pool_window']):\n",
    "        nodes = []\n",
    "        trips = trips.reset_index()\n",
    "        for idx, row in trips.iterrows():\n",
    "            nodes.append(Node(idx,trips.iloc[idx]))\n",
    "        G = nx.Graph()\n",
    "        G.add_nodes_from(nodes)\n",
    "        Final_Graph.append(G)\n",
    "\n",
    "    #Start of the code\n",
    "    merged_trips = []\n",
    "    cn=0\n",
    "    for individual_graph in tqdm(Final_Graph,total=len(Final_Graph)):\n",
    "        if int(excecution_time) > 0 and ((time.time() - start_execution)/60 >= float(excecution_time)):\n",
    "            break\n",
    "        s = time.time()\n",
    "        ride_sharing_graph = get_rsg(individual_graph,trip_type)\n",
    "        #maximum weighted algorithm\n",
    "        maximum_weighted_graph = nx.max_weight_matching(ride_sharing_graph, maxcardinality=True)\n",
    "        g_match = nx.Graph()\n",
    "        for u,v in maximum_weighted_graph:\n",
    "            g_match.add_edge(u,v)\n",
    "\n",
    "        merged_trips.append(g_match)\n",
    "        t += time.time()-s\n",
    "    if int(excecution_time)>0:\n",
    "        print(\"Number of pools processed in {} min :{}\".format(excecution_time,len(merged_trips)))\n",
    "    else:\n",
    "        print(\"Number of pools processed for one day data:{}\".format(len(merged_trips)))\n",
    "    print(\"Average computation time is {} sec\".format(t/len(merged_trips)))\n",
    "    average_distance_saved = Average_distance_saved(merged_trips,Final_Graph)\n",
    "    average_trip_saved = Average_trip_saved(merged_trips,Final_Graph)\n",
    "    print(\"Average distance saved for poolwindow {} is :{}\".format(pool_time_window,average_distance_saved))\n",
    "    print(\"Average trip saved for poolwindow {} is :{}\".format(pool_time_window,average_trip_saved)) \n",
    "    return pool_time_window,average_distance_saved,average_trip_saved,t/len(merged_trips)"
   ]
  },
  {
   "cell_type": "code",
   "execution_count": 39,
   "metadata": {},
   "outputs": [],
   "source": [
    "import matplotlib.pyplot as plt\n",
    "import seaborn as sns\n",
    "sns.set(style=\"whitegrid\")\n",
    "def plot_bar(df_results,label):\n",
    "    a4_dims = (12, 9)\n",
    "    sns.set(rc={'figure.figsize':(13,9)})\n",
    "    ax = sns.barplot(x=\"Type\", y=\"saved\", hue=\"pool_window\", data=df_results,palette=\"Blues_d\")\n",
    "    ax.set_xlabel('')\n",
    "    for p in ax.patches:\n",
    "        height = p.get_height()\n",
    "        ax.text(p.get_x() + p.get_width()/2., 1*height,\n",
    "                    '{}%'.format(round(height,2)),\n",
    "                    ha='center', va='bottom')\n",
    "    for ticks in ax.xaxis.get_major_ticks():\n",
    "        ticks.label.set_fontsize(18)\n",
    "    ax.set_ylabel('Average {} saved'.format(label),fontsize = 18)\n",
    "    ax.set_title('Average {} for the year 2015'.format(label),fontsize = 18)\n",
    "    plt.show()\n",
    "def plot_line(df_time):\n",
    "    a4_dims = (12, 9)\n",
    "    sns.set(rc={'figure.figsize':(13,9)})\n",
    "    ax = sns.lineplot(x=\"pool_window\", y=\"time\", hue=\"Type\", data=df_time,palette=\"Blues_d\")\n",
    "    ax.set_xlabel('')\n",
    "    for p in ax.patches:\n",
    "        height = p.get_height()\n",
    "        ax.text(p.get_x() + p.get_width()/2., 1*height,\n",
    "                    '{}%'.format(round(height,2)),\n",
    "                    ha='center', va='bottom')\n",
    "    for ticks in ax.xaxis.get_major_ticks():\n",
    "        ticks.label.set_fontsize(18)\n",
    "    ax.set_xlabel('pool windows in minute',fontsize = 18)    \n",
    "    ax.set_ylabel('Time in seconds',fontsize = 18)\n",
    "    ax.set_title('Average computation per pool',fontsize = 18)\n",
    "    plt.show()\n",
    "    "
   ]
  },
  {
   "cell_type": "markdown",
   "metadata": {},
   "source": [
    "# FROM LGA  configuration"
   ]
  },
  {
   "cell_type": "code",
   "execution_count": 74,
   "metadata": {
    "scrolled": false
   },
   "outputs": [
    {
     "name": "stdout",
     "output_type": "stream",
     "text": [
      "Enter the absolute path to Data Folder:/home/shet/Documents/Data\n",
      "Enter the absolute path to distance Folder:/home/shet/Documents/Distance\n",
      "Enter year:2015\n",
      "Enter month:May\n",
      "Enter day:6\n",
      "What input data you want to run:\n",
      " 1.Run one day's data\n",
      " 2.Run the algorithm for given minutes:2\n",
      "Enter excecution time in minutes:5\n",
      "Enter start time in military format (00:00:00):08:00:00\n",
      "\n",
      "Starting main algorithm...\n"
     ]
    },
    {
     "name": "stderr",
     "output_type": "stream",
     "text": [
      " 11%|█         | 1416/13269 [04:16<35:42,  5.53it/s]  \n"
     ]
    },
    {
     "name": "stdout",
     "output_type": "stream",
     "text": [
      "Number of pools processed in 5 min :1416\n",
      "Average computation time is 0.18047839453664877 sec\n",
      "Average distance saved for poolwindow 2 is :44.29645008250796\n",
      "Average trip saved for poolwindow 2 is :38.61186426369995\n",
      "algorithm time taken for 2 pool window is :5.016684357325236 minutes\n",
      " \n",
      "\n",
      "Starting main algorithm...\n"
     ]
    },
    {
     "name": "stderr",
     "output_type": "stream",
     "text": [
      "  5%|▍         | 268/5661 [04:25<1:29:07,  1.01it/s]\n"
     ]
    },
    {
     "name": "stdout",
     "output_type": "stream",
     "text": [
      "Number of pools processed in 5 min :268\n",
      "Average computation time is 0.9910571281589678 sec\n",
      "Average distance saved for poolwindow 5 is :43.68700528910051\n",
      "Average trip saved for poolwindow 5 is :40.965283097480324\n",
      "algorithm time taken for 5 pool window is :5.032638188203176 minutes\n",
      " \n",
      "\n",
      "Starting main algorithm...\n"
     ]
    },
    {
     "name": "stderr",
     "output_type": "stream",
     "text": [
      "  3%|▎         | 116/4142 [04:27<2:34:31,  2.30s/it]"
     ]
    },
    {
     "name": "stdout",
     "output_type": "stream",
     "text": [
      "Number of pools processed in 5 min :116\n",
      "Average computation time is 2.302274572438207 sec\n",
      "Average distance saved for poolwindow 7 is :45.31164643487789\n",
      "Average trip saved for poolwindow 7 is :43.02254482421204\n",
      "algorithm time taken for 7 pool window is :5.029500190416972 minutes\n",
      " \n"
     ]
    },
    {
     "name": "stderr",
     "output_type": "stream",
     "text": [
      "\n"
     ]
    }
   ],
   "source": [
    "import time\n",
    "def ceil_dt(dt, delta):\n",
    "        return datetime.min + math.ceil((dt - datetime.min) / delta) * delta\n",
    "excecution_time = 0\n",
    "data_folder = input(\"Enter the absolute path to Data Folder:\")\n",
    "distance_folder = input(\"Enter the absolute path to distance Folder:\")\n",
    "mon = dict({'Jan':'1','Feb':'2','Mar':'3','Apr':'4','May':'5','June':'6','July':'7','Aug':'8','Sep':'9',\\\n",
    "            'Oct':'10','Nov':'11','Dec':'12'})\n",
    "year = input(\"Enter year:\")\n",
    "Month = input (\"Enter month:\")\n",
    "day = input(\"Enter day:\")\n",
    "running_type = input(\"What input data you want to run:\\n 1.Run one day's data\\n 2.Run the algorithm for given minutes:\")\n",
    "if running_type == '2':\n",
    "    excecution_time = input(\"Enter excecution time in minutes:\")\n",
    "    strt_time = input(\"Enter start time in military format (00:00:00):\")\n",
    "month = mon[Month]\n",
    "\n",
    "#reading distance and data file\n",
    "file_name = str(data_folder)+'/LGA as pickup/LaGuardia_as_pickup_'+str(year)+'-'+str(Month)+'.csv'\n",
    "distance_file_name = str(distance_folder)+'/LGA_as_pickup/'+year+'-'+month+'.csv'\n",
    "df = pd.read_csv(file_name)\n",
    "df_distance = pd.read_csv(distance_file_name)\n",
    "df_distance.drop_duplicates(subset=['pickup_h3','dropoff_h3'],keep=False,inplace=True)\n",
    "df_distance.set_index(['pickup_h3','dropoff_h3'],inplace= True)\n",
    "df_distance = df_distance.sort_index()\n",
    "#######################################################################################################\n",
    "\n",
    "columns = ['tpep_pickup_datetime', 'tpep_dropoff_datetime','passenger_count',\\\n",
    "       'trip_distance', 'pickup_longitude','pickup_latitude','dropoff_longitude', 'dropoff_latitude']\n",
    "df = df[columns]\n",
    "df.rename(columns={'tpep_pickup_datetime':'pickup_time',\n",
    "       'tpep_dropoff_datetime':'dropoff_time'},inplace=True)\n",
    "drop_index=df[(df.pickup_latitude==0)|(df.pickup_longitude==0)|(df.trip_distance==0)].index\n",
    "df.drop(drop_index,inplace=True)\n",
    "df['pickup_time'] = pd.to_datetime(df['pickup_time'])\n",
    "df['dropoff_time'] = pd.to_datetime(df['dropoff_time'])\n",
    "df['pickup_h3'] = df.apply(lambda x: h3.geo_to_h3(x['pickup_latitude'], x['pickup_longitude'], 15), axis=1)\n",
    "df['dropoff_h3'] = df.apply(lambda x: h3.geo_to_h3(x['dropoff_latitude'], x['dropoff_longitude'], 15), axis=1)\n",
    "\n",
    "if running_type =='1':\n",
    "    start_date=str(year)+'-'+str(month)+'-'+str(day)+' 00:00:00'\n",
    "    end_date=str(year)+'-'+str(month)+'-'+str(day)+' 23:59:59'\n",
    "    df=df[(df['pickup_time'] >= start_date) & (df['dropoff_time'] <= end_date)]\n",
    "else:\n",
    "    start_date=str(year)+'-'+str(month)+'-'+str(day)+' '+str(strt_time)\n",
    "    df=df[(df['pickup_time'] >= start_date)]\n",
    "\n",
    "df.reset_index(drop=True,inplace=True)\n",
    "df['duration'] = (df['pickup_time']-df['dropoff_time']).dt.seconds\n",
    "df['delay'] = df['duration'].apply(lambda x: x*0.20)\n",
    "df_results_distance_from = pd.DataFrame(columns =  ['pool_window','saved','Type'])\n",
    "df_results_trip_from= pd.DataFrame(columns =  ['pool_window','saved','Type'])\n",
    "df_time_from = pd.DataFrame(columns = ['pool_window','time','Type'])\n",
    "for i,pool_time_window in enumerate(list([2,5,7])):\n",
    "    start_time = time.time()\n",
    "    df['pool_window'] = df['pickup_time'].apply(lambda x: ceil_dt(x.to_pydatetime(), timedelta(minutes=pool_time_window)))\n",
    "    print(\"\\nStarting main algorithm...\")\n",
    "    pool_time_window,average_distance_saved,average_trip_saved,pool_com_time = main_algoritm(1,excecution_time)\n",
    "    df_results_distance_from.loc[i] = [pool_time_window,average_distance_saved,\"From LGA\"]\n",
    "    df_results_trip_from.loc[i] = [ pool_time_window,average_trip_saved,\"From LGA\"]\n",
    "    df_time_from.loc[i] =  [pool_time_window,pool_com_time,\"From LGA\"]\n",
    "    total_time = (time.time()-start_time)/60.0\n",
    "    print(\"algorithm time taken for {} pool window is :{} minutes\\n \".format(pool_time_window,total_time))\n"
   ]
  },
  {
   "cell_type": "markdown",
   "metadata": {},
   "source": [
    "# TO LGA"
   ]
  },
  {
   "cell_type": "code",
   "execution_count": null,
   "metadata": {
    "scrolled": false
   },
   "outputs": [
    {
     "name": "stdout",
     "output_type": "stream",
     "text": [
      "\n",
      "Starting main algorithm...\n"
     ]
    },
    {
     "name": "stderr",
     "output_type": "stream",
     "text": [
      "  9%|▉         | 1256/13284 [02:02<35:54,  5.58it/s]  "
     ]
    }
   ],
   "source": [
    "#Reading distance and data file\n",
    "file_name = data_folder+'/LGA as dropoff/LaGuardia_as_dropoff_'+str(year)+'-'+str(Month)+'.csv'\n",
    "distance_file_name = distance_folder+'/LGA_drop_off/'+year+'-'+month+'.csv'\n",
    "df = pd.read_csv(file_name)\n",
    "df_distance = pd.read_csv(distance_file_name)\n",
    "df_distance.drop_duplicates(subset=['pickup_h3','dropoff_h3'],keep=False,inplace=True)\n",
    "df_distance.set_index(['pickup_h3','dropoff_h3'],inplace= True)\n",
    "df_distance = df_distance.sort_index()\n",
    "######################################################################################################\n",
    "\n",
    "columns = ['tpep_pickup_datetime', 'tpep_dropoff_datetime','passenger_count',\\\n",
    "       'trip_distance', 'pickup_longitude','pickup_latitude','dropoff_longitude', 'dropoff_latitude']\n",
    "df = df[columns]\n",
    "df.rename(columns={'tpep_pickup_datetime':'pickup_time','tpep_dropoff_datetime':'dropoff_time'},inplace=True)\n",
    "drop_index=df[(df.pickup_latitude==0)|(df.pickup_longitude==0)|(df.trip_distance==0)].index\n",
    "df.drop(drop_index,inplace=True)\n",
    "df['pickup_time'] = pd.to_datetime(df['pickup_time'])\n",
    "df['dropoff_time'] = pd.to_datetime(df['dropoff_time'])\n",
    "df['pickup_h3'] = df.apply(lambda x: h3.geo_to_h3(x['pickup_latitude'], x['pickup_longitude'], 10), axis=1)\n",
    "df['dropoff_h3'] = df.apply(lambda x: h3.geo_to_h3(x['dropoff_latitude'], x['dropoff_longitude'], 8), axis=1)\n",
    "\n",
    "if running_type =='1':\n",
    "    start_date=str(year)+'-'+str(month)+'-'+str(day)+' 00:00:00'\n",
    "    end_date=str(year)+'-'+str(month)+'-'+str(day)+' 23:59:59'\n",
    "    df=df[(df['pickup_time'] >= start_date) & (df['dropoff_time'] <= end_date)]\n",
    "else:\n",
    "    start_date=str(year)+'-'+str(month)+'-'+str(day)+' '+str(strt_time)\n",
    "    df=df[(df['pickup_time'] >= start_date)]\n",
    "    \n",
    "df.reset_index(drop=True,inplace=True)\n",
    "df['duration'] = (df['pickup_time']-df['dropoff_time']).dt.seconds\n",
    "df['delay'] = df['duration'].apply(lambda x: x*0.20)\n",
    "df_results_distance_to = pd.DataFrame(columns = ['pool_window','saved','Type'])\n",
    "df_results_trip_to = pd.DataFrame(columns =  ['pool_window','saved','Type'])\n",
    "df_time_to = pd.DataFrame(columns = ['pool_window','time','Type'])\n",
    "\n",
    "for i,pool_time_window in enumerate(list([2,5,7])):\n",
    "    start_time = time.time()\n",
    "    df['pool_window'] = df['pickup_time'].apply(lambda x: ceil_dt(x.to_pydatetime(), timedelta(minutes=pool_time_window)))\n",
    "    print(\"\\nStarting main algorithm...\")\n",
    "    pool_time_window,average_distance_saved,average_trip_saved,pool_com_time = main_algoritm(2,excecution_time)\n",
    "    df_results_distance_to.loc[i] = [pool_time_window,average_distance_saved,\"To LGA\"]\n",
    "    df_results_trip_to.loc[i] = [pool_time_window,average_trip_saved,\"To LGA\"]\n",
    "    df_time_to.loc[i] =  [pool_time_window,pool_com_time,\"To LGA\"]\n",
    "    total_time = (time.time()-start_time)/60.0\n",
    "    print(\"algorithm time taken for {} pool window is :{} minutes\\n \".format(pool_time_window,total_time))"
   ]
  },
  {
   "cell_type": "code",
   "execution_count": null,
   "metadata": {},
   "outputs": [],
   "source": [
    "plot_bar(df_results_distance_from.append(df_results_distance_to),\"distance\")\n",
    "plot_bar(df_results_trip_from.append(df_results_trip_to),\"trip\")\n",
    "plot_line(df_time_to.append(df_time_from))"
   ]
  }
 ],
 "metadata": {
  "kernelspec": {
   "display_name": "Python 3",
   "language": "python",
   "name": "python3"
  },
  "language_info": {
   "codemirror_mode": {
    "name": "ipython",
    "version": 3
   },
   "file_extension": ".py",
   "mimetype": "text/x-python",
   "name": "python",
   "nbconvert_exporter": "python",
   "pygments_lexer": "ipython3",
   "version": "3.7.5"
  }
 },
 "nbformat": 4,
 "nbformat_minor": 2
}
